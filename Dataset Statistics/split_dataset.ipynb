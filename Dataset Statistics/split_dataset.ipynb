{
 "cells": [
  {
   "cell_type": "code",
   "execution_count": 10,
   "metadata": {},
   "outputs": [
    {
     "data": {
      "text/html": [
       "<div>\n",
       "<style scoped>\n",
       "    .dataframe tbody tr th:only-of-type {\n",
       "        vertical-align: middle;\n",
       "    }\n",
       "\n",
       "    .dataframe tbody tr th {\n",
       "        vertical-align: top;\n",
       "    }\n",
       "\n",
       "    .dataframe thead th {\n",
       "        text-align: right;\n",
       "    }\n",
       "</style>\n",
       "<table border=\"1\" class=\"dataframe\">\n",
       "  <thead>\n",
       "    <tr style=\"text-align: right;\">\n",
       "      <th></th>\n",
       "      <th>english_text</th>\n",
       "      <th>urdu_text</th>\n",
       "      <th>sindhi_text</th>\n",
       "      <th>class</th>\n",
       "      <th>Disability</th>\n",
       "      <th>Gender/Sexual</th>\n",
       "      <th>Origin/Nationality</th>\n",
       "      <th>Race/Ethnicity</th>\n",
       "      <th>Religion</th>\n",
       "    </tr>\n",
       "  </thead>\n",
       "  <tbody>\n",
       "    <tr>\n",
       "      <th>0</th>\n",
       "      <td>If America had another 8 years of Obama's ideo...</td>\n",
       "      <td>اگر امریکہ کے ایک اور 8 سال کی ہے تو ہم ایک گن...</td>\n",
       "      <td>جيڪڏهن آمريڪا وٽ هيلري ذريعي اوباما جي نظريي ج...</td>\n",
       "      <td>1</td>\n",
       "      <td>0</td>\n",
       "      <td>0</td>\n",
       "      <td>1</td>\n",
       "      <td>0</td>\n",
       "      <td>0</td>\n",
       "    </tr>\n",
       "    <tr>\n",
       "      <th>1</th>\n",
       "      <td>@user queue is fucking retarded it makes every...</td>\n",
       "      <td>@s_un soo انتہائی پریشان ہے ہر کوئی ایسا محسوس...</td>\n",
       "      <td>@user queue fucking retarded آهي اهو هر ڪنهن ک...</td>\n",
       "      <td>1</td>\n",
       "      <td>1</td>\n",
       "      <td>0</td>\n",
       "      <td>0</td>\n",
       "      <td>0</td>\n",
       "      <td>0</td>\n",
       "    </tr>\n",
       "    <tr>\n",
       "      <th>2</th>\n",
       "      <td>@user Que ce ne soit pas des Burundais refugie...</td>\n",
       "      <td>@وہنراساسسس نے ایک تصویر روشن کرنے والے بچے کو...</td>\n",
       "      <td>@user Que ce ne soit pas des Burundais پناهگير...</td>\n",
       "      <td>1</td>\n",
       "      <td>0</td>\n",
       "      <td>0</td>\n",
       "      <td>1</td>\n",
       "      <td>0</td>\n",
       "      <td>0</td>\n",
       "    </tr>\n",
       "    <tr>\n",
       "      <th>3</th>\n",
       "      <td>@user @user Btw. Are we now allowed to say \\sh...</td>\n",
       "      <td>@Ny_m: کیا اب ہم مُقدس ممالک کا کہنا ماننے کی ...</td>\n",
       "      <td>@user @user Btw. ڇا اسان کي ھاڻي \\shithole\\ مل...</td>\n",
       "      <td>0</td>\n",
       "      <td>0</td>\n",
       "      <td>0</td>\n",
       "      <td>0</td>\n",
       "      <td>0</td>\n",
       "      <td>0</td>\n",
       "    </tr>\n",
       "    <tr>\n",
       "      <th>4</th>\n",
       "      <td>@user Still a bitter cunt. Why so much interes...</td>\n",
       "      <td>@Iy'S اب بھی ایک تلخ ہمت ہوئی. اتنی زیادہ دلچس...</td>\n",
       "      <td>@user اڃا تائين هڪ تلخ ڪنگ. هٿيارن ۾ ايتري دلچ...</td>\n",
       "      <td>1</td>\n",
       "      <td>0</td>\n",
       "      <td>1</td>\n",
       "      <td>0</td>\n",
       "      <td>0</td>\n",
       "      <td>0</td>\n",
       "    </tr>\n",
       "  </tbody>\n",
       "</table>\n",
       "</div>"
      ],
      "text/plain": [
       "                                        english_text  \\\n",
       "0  If America had another 8 years of Obama's ideo...   \n",
       "1  @user queue is fucking retarded it makes every...   \n",
       "2  @user Que ce ne soit pas des Burundais refugie...   \n",
       "3  @user @user Btw. Are we now allowed to say \\sh...   \n",
       "4  @user Still a bitter cunt. Why so much interes...   \n",
       "\n",
       "                                           urdu_text  \\\n",
       "0  اگر امریکہ کے ایک اور 8 سال کی ہے تو ہم ایک گن...   \n",
       "1  @s_un soo انتہائی پریشان ہے ہر کوئی ایسا محسوس...   \n",
       "2  @وہنراساسسس نے ایک تصویر روشن کرنے والے بچے کو...   \n",
       "3  @Ny_m: کیا اب ہم مُقدس ممالک کا کہنا ماننے کی ...   \n",
       "4  @Iy'S اب بھی ایک تلخ ہمت ہوئی. اتنی زیادہ دلچس...   \n",
       "\n",
       "                                         sindhi_text  class  Disability  \\\n",
       "0  جيڪڏهن آمريڪا وٽ هيلري ذريعي اوباما جي نظريي ج...      1           0   \n",
       "1  @user queue fucking retarded آهي اهو هر ڪنهن ک...      1           1   \n",
       "2  @user Que ce ne soit pas des Burundais پناهگير...      1           0   \n",
       "3  @user @user Btw. ڇا اسان کي ھاڻي \\shithole\\ مل...      0           0   \n",
       "4  @user اڃا تائين هڪ تلخ ڪنگ. هٿيارن ۾ ايتري دلچ...      1           0   \n",
       "\n",
       "   Gender/Sexual  Origin/Nationality  Race/Ethnicity  Religion  \n",
       "0              0                   1               0         0  \n",
       "1              0                   0               0         0  \n",
       "2              0                   1               0         0  \n",
       "3              0                   0               0         0  \n",
       "4              1                   0               0         0  "
      ]
     },
     "execution_count": 10,
     "metadata": {},
     "output_type": "execute_result"
    }
   ],
   "source": [
    "import pandas as pd\n",
    "from sklearn.model_selection import train_test_split\n",
    "\n",
    "# Read the data\n",
    "df = pd.read_csv('dataset/english_urdu_sindhi_curated_and_translated(full).csv')\n",
    "df.head()"
   ]
  },
  {
   "cell_type": "code",
   "execution_count": 11,
   "metadata": {},
   "outputs": [
    {
     "data": {
      "text/plain": [
       "class\n",
       "1    51268\n",
       "0    50663\n",
       "Name: count, dtype: int64"
      ]
     },
     "execution_count": 11,
     "metadata": {},
     "output_type": "execute_result"
    }
   ],
   "source": [
    "df['class'].value_counts()"
   ]
  },
  {
   "cell_type": "code",
   "execution_count": 12,
   "metadata": {},
   "outputs": [],
   "source": [
    "# Split the data into train(60), validation(20) and test(20) with stratification on the class column\n",
    "train_df, test_df = train_test_split(df, test_size=0.2, stratify=df['class'])\n",
    "train_df, val_df = train_test_split(train_df, test_size=0.25, stratify=train_df['class'])"
   ]
  },
  {
   "cell_type": "code",
   "execution_count": 13,
   "metadata": {},
   "outputs": [
    {
     "data": {
      "text/plain": [
       "class\n",
       "1    30760\n",
       "0    30398\n",
       "Name: count, dtype: int64"
      ]
     },
     "execution_count": 13,
     "metadata": {},
     "output_type": "execute_result"
    }
   ],
   "source": [
    "train_df['class'].value_counts()"
   ]
  },
  {
   "cell_type": "code",
   "execution_count": 14,
   "metadata": {},
   "outputs": [
    {
     "data": {
      "text/plain": [
       "class\n",
       "1    10254\n",
       "0    10132\n",
       "Name: count, dtype: int64"
      ]
     },
     "execution_count": 14,
     "metadata": {},
     "output_type": "execute_result"
    }
   ],
   "source": [
    "val_df['class'].value_counts()"
   ]
  },
  {
   "cell_type": "code",
   "execution_count": 15,
   "metadata": {},
   "outputs": [
    {
     "data": {
      "text/plain": [
       "class\n",
       "1    10254\n",
       "0    10133\n",
       "Name: count, dtype: int64"
      ]
     },
     "execution_count": 15,
     "metadata": {},
     "output_type": "execute_result"
    }
   ],
   "source": [
    "test_df['class'].value_counts()"
   ]
  },
  {
   "cell_type": "code",
   "execution_count": 16,
   "metadata": {},
   "outputs": [],
   "source": [
    "#save into dataset directory\n",
    "train_df.to_csv('dataset/train.csv', index=False)\n",
    "val_df.to_csv('dataset/val.csv', index=False)\n",
    "test_df.to_csv('dataset/test.csv', index=False)"
   ]
  }
 ],
 "metadata": {
  "kernelspec": {
   "display_name": "base",
   "language": "python",
   "name": "python3"
  },
  "language_info": {
   "codemirror_mode": {
    "name": "ipython",
    "version": 3
   },
   "file_extension": ".py",
   "mimetype": "text/x-python",
   "name": "python",
   "nbconvert_exporter": "python",
   "pygments_lexer": "ipython3",
   "version": "3.9.13"
  },
  "vscode": {
   "interpreter": {
    "hash": "57bc2b6ce032b5f0e93daa91901b7ea38a856826ef43aa9e95b6d3999f5310df"
   }
  }
 },
 "nbformat": 4,
 "nbformat_minor": 2
}
