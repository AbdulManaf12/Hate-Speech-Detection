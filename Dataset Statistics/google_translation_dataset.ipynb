{
 "cells": [
  {
   "cell_type": "code",
   "execution_count": null,
   "metadata": {},
   "outputs": [],
   "source": [
    "!pip install transformers\n",
    "!pip install sentencepiece"
   ]
  },
  {
   "cell_type": "code",
   "execution_count": null,
   "metadata": {},
   "outputs": [],
   "source": [
    "import pandas as pd\n",
    "from transformers import MarianMTModel, MarianTokenizer\n",
    "\n",
    "df = pd.read_csv(\"english_curated(multi).csv\")\n",
    "\n",
    "model_name = 'Helsinki-NLP/opus-mt-en-ur'\n",
    "tokenizer = MarianTokenizer.from_pretrained(model_name)\n",
    "model = MarianMTModel.from_pretrained(model_name)\n",
    "\n",
    "def translate_text(text, model, tokenizer):\n",
    "    inputs = tokenizer.encode(text, return_tensors=\"pt\", padding=True, truncation=True)\n",
    "    translated = model.generate(inputs, max_length=512)\n",
    "    return tokenizer.decode(translated[0], skip_special_tokens=True)\n",
    "\n",
    "df['text_urdu'] = df['text'].apply(lambda x: translate_text(x, model, tokenizer))\n",
    "\n",
    "df_urdu = df[['text_urdu', 'class', 'aspect']]\n",
    "\n",
    "print(df_urdu.head())"
   ]
  },
  {
   "cell_type": "code",
   "execution_count": null,
   "metadata": {},
   "outputs": [],
   "source": [
    "import pandas as pd\n",
    "from transformers import MarianMTModel, MarianTokenizer\n",
    "\n",
    "model_name = 'Helsinki-NLP/opus-mt-en-ur'\n",
    "tokenizer = MarianTokenizer.from_pretrained(model_name)\n",
    "model = MarianMTModel.from_pretrained(model_name)\n",
    "\n",
    "def translate_text(text, model, tokenizer):\n",
    "    inputs = tokenizer.encode(text, return_tensors=\"pt\", padding=True, truncation=True)\n",
    "    translated = model.generate(inputs, max_length=512)\n",
    "    return tokenizer.decode(translated[0], skip_special_tokens=True)\n",
    "\n",
    "df['text_urdu'] = df['text'].apply(lambda x: translate_text(x, model, tokenizer))\n",
    "\n",
    "df_urdu = df[['text_urdu', 'class', 'aspect']]\n",
    "\n",
    "print(df_urdu.head())"
   ]
  }
 ],
 "metadata": {
  "kernelspec": {
   "display_name": "base",
   "language": "python",
   "name": "python3"
  },
  "language_info": {
   "codemirror_mode": {
    "name": "ipython",
    "version": 3
   },
   "file_extension": ".py",
   "mimetype": "text/x-python",
   "name": "python",
   "nbconvert_exporter": "python",
   "pygments_lexer": "ipython3",
   "version": "3.9.13"
  },
  "orig_nbformat": 4,
  "vscode": {
   "interpreter": {
    "hash": "57bc2b6ce032b5f0e93daa91901b7ea38a856826ef43aa9e95b6d3999f5310df"
   }
  }
 },
 "nbformat": 4,
 "nbformat_minor": 2
}
