{
 "cells": [
  {
   "cell_type": "code",
   "execution_count": null,
   "metadata": {},
   "outputs": [],
   "source": [
    "!pip install transformers\n",
    "!pip install sentencepiece\n",
    "!pip install sacremoses"
   ]
  },
  {
   "cell_type": "code",
   "execution_count": 1,
   "metadata": {},
   "outputs": [],
   "source": [
    "import pandas as pd\n",
    "from tqdm import tqdm\n",
    "from transformers import MarianMTModel, MarianTokenizer\n",
    "\n",
    "model_name = 'Helsinki-NLP/opus-mt-en-ur'\n",
    "tokenizer = MarianTokenizer.from_pretrained(model_name)\n",
    "model = MarianMTModel.from_pretrained(model_name)\n",
    "\n",
    "def translate_text(text, model, tokenizer):\n",
    "    inputs = tokenizer.encode(text, return_tensors=\"pt\", padding=True, truncation=True)\n",
    "    translated = model.generate(inputs, max_length=512)\n",
    "    return tokenizer.decode(translated[0], skip_special_tokens=True)"
   ]
  },
  {
   "cell_type": "code",
   "execution_count": 6,
   "metadata": {},
   "outputs": [
    {
     "data": {
      "text/plain": [
       "'@NNy_m. کیا اب ہم مُقدس ممالک کا کہنا ماننے کی اجازت دے رہے ہیں؟ کیا ہم یہ کہنے کی اجازت دے رہے ہیں کہ ہم کیسے ہیں'"
      ]
     },
     "execution_count": 6,
     "metadata": {},
     "output_type": "execute_result"
    }
   ],
   "source": [
    "translate_text('@user @user Btw. Are we now allowed to say \\shithole\\ countries? Are we also allowed to say how wes\\u2026 @URL', model, tokenizer)"
   ]
  },
  {
   "cell_type": "code",
   "execution_count": 7,
   "metadata": {},
   "outputs": [
    {
     "data": {
      "text/plain": [
       "'یہ واقعی غیر یقینی طور پر مجھے قتل کر رہا ہے جب لوگ سچ میں یہ کہتے ہیں کہ \"وہ\" ہے'"
      ]
     },
     "execution_count": 7,
     "metadata": {},
     "output_type": "execute_result"
    }
   ],
   "source": [
    "translate_text('it truly fucking BAFFLES me when people genuinely fucking think that saying \\u201cching chong ling lang ding\\u201d is actuall\\u2026 @URL', model, tokenizer)"
   ]
  },
  {
   "cell_type": "code",
   "execution_count": 8,
   "metadata": {},
   "outputs": [
    {
     "data": {
      "text/plain": [
       "'یہ وہ چیز ہے جو ایک گندگی ملک میں واقع ہو رہی ہے۔'"
      ]
     },
     "execution_count": 8,
     "metadata": {},
     "output_type": "execute_result"
    }
   ],
   "source": [
    "translate_text('This is the sort of thing that happens in a shithole country. @URL', model, tokenizer)"
   ]
  },
  {
   "cell_type": "code",
   "execution_count": null,
   "metadata": {},
   "outputs": [],
   "source": [
    "df = pd.read_csv(r'G:\\My Drive\\Hate Speech_Multilingual\\Code\\Dataset Statistics\\english_curated(multi).csv')\n",
    "\n",
    "total_rows = 20000###len(df)\n",
    "with tqdm(total=total_rows, desc=\"Translating\") as pbar:\n",
    "    for index, row in df.iterrows():\n",
    "        text = row['text']\n",
    "        translated_text = translate_text(text, model, tokenizer)\n",
    "        df.at[index, 'translated_text'] = translated_text   \n",
    "        pbar.update(1) "
   ]
  },
  {
   "cell_type": "code",
   "execution_count": 12,
   "metadata": {},
   "outputs": [
    {
     "data": {
      "text/plain": [
       "0         اگر امریکہ کے ایک اور 8 سال کی ہے تو ہم ایک گن...\n",
       "1         @s_un soo انتہائی پریشان ہے ہر کوئی ایسا محسوس...\n",
       "2         @وہنراساسسس نے ایک تصویر روشن کرنے والے بچے کو...\n",
       "3         @Ny_m: کیا اب ہم مُقدس ممالک کا کہنا ماننے کی ...\n",
       "4         @Iy'S اب بھی ایک تلخ ہمت ہوئی. اتنی زیادہ دلچس...\n",
       "                                ...                        \n",
       "131644                                                  nan\n",
       "131645                                                  nan\n",
       "131646                                                  nan\n",
       "131647                                                  nan\n",
       "131648                                                  nan\n",
       "Name: translated_text, Length: 131649, dtype: object"
      ]
     },
     "execution_count": 12,
     "metadata": {},
     "output_type": "execute_result"
    }
   ],
   "source": [
    "df['translated_text']"
   ]
  },
  {
   "cell_type": "code",
   "execution_count": 17,
   "metadata": {},
   "outputs": [
    {
     "data": {
      "text/plain": [
       "101136"
      ]
     },
     "execution_count": 17,
     "metadata": {},
     "output_type": "execute_result"
    }
   ],
   "source": [
    "len(df[df['translated_text'] == 'nan'])"
   ]
  },
  {
   "cell_type": "code",
   "execution_count": 22,
   "metadata": {},
   "outputs": [],
   "source": [
    "new_df = df[df['translated_text'] == 'nan']"
   ]
  },
  {
   "cell_type": "code",
   "execution_count": 27,
   "metadata": {},
   "outputs": [],
   "source": [
    "part0 = new_df[:30000]\n",
    "part1 = new_df[30000:62000]\n",
    "part2 = new_df[62000:]"
   ]
  },
  {
   "cell_type": "code",
   "execution_count": 24,
   "metadata": {},
   "outputs": [
    {
     "data": {
      "text/plain": [
       "(32000, 39136)"
      ]
     },
     "execution_count": 24,
     "metadata": {},
     "output_type": "execute_result"
    }
   ],
   "source": [
    "len(part1), len(part2)"
   ]
  },
  {
   "cell_type": "code",
   "execution_count": 26,
   "metadata": {},
   "outputs": [],
   "source": [
    "part1.to_csv(\"part1.csv\")\n",
    "part2.to_csv(\"part2.csv\")"
   ]
  },
  {
   "cell_type": "code",
   "execution_count": 28,
   "metadata": {},
   "outputs": [
    {
     "name": "stderr",
     "output_type": "stream",
     "text": [
      "Translating:  37%|███▋      | 11131/30000 [3:35:48<5:03:00,  1.04it/s] "
     ]
    }
   ],
   "source": [
    "total_rows = len(part0)\n",
    "with tqdm(total=total_rows, desc=\"Translating\") as pbar:\n",
    "    for index, row in part0.iterrows():\n",
    "        text = row['text']\n",
    "        translated_text = translate_text(text, model, tokenizer)\n",
    "        part0.at[index, 'translated_text'] = translated_text   \n",
    "        pbar.update(1) "
   ]
  }
 ],
 "metadata": {
  "kernelspec": {
   "display_name": "base",
   "language": "python",
   "name": "python3"
  },
  "language_info": {
   "codemirror_mode": {
    "name": "ipython",
    "version": 3
   },
   "file_extension": ".py",
   "mimetype": "text/x-python",
   "name": "python",
   "nbconvert_exporter": "python",
   "pygments_lexer": "ipython3",
   "version": "3.9.13"
  },
  "orig_nbformat": 4,
  "vscode": {
   "interpreter": {
    "hash": "57bc2b6ce032b5f0e93daa91901b7ea38a856826ef43aa9e95b6d3999f5310df"
   }
  }
 },
 "nbformat": 4,
 "nbformat_minor": 2
}
