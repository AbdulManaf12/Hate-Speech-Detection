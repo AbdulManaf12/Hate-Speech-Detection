{
 "cells": [
  {
   "cell_type": "markdown",
   "metadata": {},
   "source": [
    "### 1. Multilingual and Multi-Aspect (MLMA) Hate Speech"
   ]
  },
  {
   "cell_type": "markdown",
   "metadata": {},
   "source": [
    "Dataset Classes (class, aspect(category)):\n",
    "\n",
    "    class - contains (offensive, hateful and normal)\n",
    "    aspect(category) - (Origin/Nationality, Gender/Sexual, Disability, Religion) \n",
    "\n",
    "Source: https://github.com/HKUST-KnowComp/MLMA_hate_speech/blob/master/hate_speech_mlma.zip"
   ]
  },
  {
   "cell_type": "code",
   "execution_count": 9,
   "metadata": {},
   "outputs": [
    {
     "data": {
      "text/html": [
       "<div>\n",
       "<style scoped>\n",
       "    .dataframe tbody tr th:only-of-type {\n",
       "        vertical-align: middle;\n",
       "    }\n",
       "\n",
       "    .dataframe tbody tr th {\n",
       "        vertical-align: top;\n",
       "    }\n",
       "\n",
       "    .dataframe thead th {\n",
       "        text-align: right;\n",
       "    }\n",
       "</style>\n",
       "<table border=\"1\" class=\"dataframe\">\n",
       "  <thead>\n",
       "    <tr style=\"text-align: right;\">\n",
       "      <th></th>\n",
       "      <th>HITId</th>\n",
       "      <th>tweet</th>\n",
       "      <th>sentiment</th>\n",
       "      <th>directness</th>\n",
       "      <th>annotator_sentiment</th>\n",
       "      <th>target</th>\n",
       "      <th>group</th>\n",
       "    </tr>\n",
       "  </thead>\n",
       "  <tbody>\n",
       "    <tr>\n",
       "      <th>0</th>\n",
       "      <td>0</td>\n",
       "      <td>If America had another 8 years of Obama's ideo...</td>\n",
       "      <td>fearful_abusive_hateful_disrespectful_normal</td>\n",
       "      <td>indirect</td>\n",
       "      <td>anger_fear_shock_sadness_disgust</td>\n",
       "      <td>origin</td>\n",
       "      <td>other</td>\n",
       "    </tr>\n",
       "    <tr>\n",
       "      <th>1</th>\n",
       "      <td>1</td>\n",
       "      <td>Most Canadians have never met seen or associat...</td>\n",
       "      <td>offensive</td>\n",
       "      <td>indirect</td>\n",
       "      <td>sadness_indifference</td>\n",
       "      <td>disability</td>\n",
       "      <td>special_needs</td>\n",
       "    </tr>\n",
       "    <tr>\n",
       "      <th>2</th>\n",
       "      <td>2</td>\n",
       "      <td>Hahaha grow up faggot @URL</td>\n",
       "      <td>offensive</td>\n",
       "      <td>indirect</td>\n",
       "      <td>shock_disgust</td>\n",
       "      <td>sexual_orientation</td>\n",
       "      <td>women</td>\n",
       "    </tr>\n",
       "    <tr>\n",
       "      <th>3</th>\n",
       "      <td>3</td>\n",
       "      <td>@user queue is fucking retarded it makes every...</td>\n",
       "      <td>offensive_hateful</td>\n",
       "      <td>direct</td>\n",
       "      <td>shock_disgust</td>\n",
       "      <td>disability</td>\n",
       "      <td>special_needs</td>\n",
       "    </tr>\n",
       "    <tr>\n",
       "      <th>4</th>\n",
       "      <td>4</td>\n",
       "      <td>@user Que ce ne soit pas des Burundais refugie...</td>\n",
       "      <td>hateful_normal</td>\n",
       "      <td>indirect</td>\n",
       "      <td>shock_disgust</td>\n",
       "      <td>origin</td>\n",
       "      <td>other</td>\n",
       "    </tr>\n",
       "  </tbody>\n",
       "</table>\n",
       "</div>"
      ],
      "text/plain": [
       "   HITId                                              tweet  \\\n",
       "0      0  If America had another 8 years of Obama's ideo...   \n",
       "1      1  Most Canadians have never met seen or associat...   \n",
       "2      2                         Hahaha grow up faggot @URL   \n",
       "3      3  @user queue is fucking retarded it makes every...   \n",
       "4      4  @user Que ce ne soit pas des Burundais refugie...   \n",
       "\n",
       "                                      sentiment directness  \\\n",
       "0  fearful_abusive_hateful_disrespectful_normal   indirect   \n",
       "1                                     offensive   indirect   \n",
       "2                                     offensive   indirect   \n",
       "3                             offensive_hateful     direct   \n",
       "4                                hateful_normal   indirect   \n",
       "\n",
       "                annotator_sentiment              target          group  \n",
       "0  anger_fear_shock_sadness_disgust              origin          other  \n",
       "1              sadness_indifference          disability  special_needs  \n",
       "2                     shock_disgust  sexual_orientation          women  \n",
       "3                     shock_disgust          disability  special_needs  \n",
       "4                     shock_disgust              origin          other  "
      ]
     },
     "execution_count": 9,
     "metadata": {},
     "output_type": "execute_result"
    }
   ],
   "source": [
    "import pandas as pd\n",
    "\n",
    "df1 = pd.read_csv(f\"G:\\My Drive\\Hate Speech_Multilingual\\datasets\\Final Datasets\\#1 MLMA_hate_speech\\hate_speech_mlma\\en_dataset_with_stop_words.csv\")\n",
    "df1.head()"
   ]
  },
  {
   "cell_type": "code",
   "execution_count": 10,
   "metadata": {},
   "outputs": [
    {
     "data": {
      "text/html": [
       "<div>\n",
       "<style scoped>\n",
       "    .dataframe tbody tr th:only-of-type {\n",
       "        vertical-align: middle;\n",
       "    }\n",
       "\n",
       "    .dataframe tbody tr th {\n",
       "        vertical-align: top;\n",
       "    }\n",
       "\n",
       "    .dataframe thead th {\n",
       "        text-align: right;\n",
       "    }\n",
       "</style>\n",
       "<table border=\"1\" class=\"dataframe\">\n",
       "  <thead>\n",
       "    <tr style=\"text-align: right;\">\n",
       "      <th></th>\n",
       "      <th>text</th>\n",
       "      <th>class</th>\n",
       "      <th>aspect(category)</th>\n",
       "    </tr>\n",
       "  </thead>\n",
       "  <tbody>\n",
       "    <tr>\n",
       "      <th>0</th>\n",
       "      <td>If America had another 8 years of Obama's ideo...</td>\n",
       "      <td>fearful_abusive_hateful_disrespectful_normal</td>\n",
       "      <td>origin</td>\n",
       "    </tr>\n",
       "    <tr>\n",
       "      <th>1</th>\n",
       "      <td>Most Canadians have never met seen or associat...</td>\n",
       "      <td>offensive</td>\n",
       "      <td>disability</td>\n",
       "    </tr>\n",
       "    <tr>\n",
       "      <th>2</th>\n",
       "      <td>Hahaha grow up faggot @URL</td>\n",
       "      <td>offensive</td>\n",
       "      <td>sexual_orientation</td>\n",
       "    </tr>\n",
       "    <tr>\n",
       "      <th>3</th>\n",
       "      <td>@user queue is fucking retarded it makes every...</td>\n",
       "      <td>offensive_hateful</td>\n",
       "      <td>disability</td>\n",
       "    </tr>\n",
       "    <tr>\n",
       "      <th>4</th>\n",
       "      <td>@user Que ce ne soit pas des Burundais refugie...</td>\n",
       "      <td>hateful_normal</td>\n",
       "      <td>origin</td>\n",
       "    </tr>\n",
       "  </tbody>\n",
       "</table>\n",
       "</div>"
      ],
      "text/plain": [
       "                                                text  \\\n",
       "0  If America had another 8 years of Obama's ideo...   \n",
       "1  Most Canadians have never met seen or associat...   \n",
       "2                         Hahaha grow up faggot @URL   \n",
       "3  @user queue is fucking retarded it makes every...   \n",
       "4  @user Que ce ne soit pas des Burundais refugie...   \n",
       "\n",
       "                                          class    aspect(category)  \n",
       "0  fearful_abusive_hateful_disrespectful_normal              origin  \n",
       "1                                     offensive          disability  \n",
       "2                                     offensive  sexual_orientation  \n",
       "3                             offensive_hateful          disability  \n",
       "4                                hateful_normal              origin  "
      ]
     },
     "execution_count": 10,
     "metadata": {},
     "output_type": "execute_result"
    }
   ],
   "source": [
    "df1 = df1[['tweet', 'sentiment', 'target']]\n",
    "df1.columns = ['text', 'class', 'aspect(category)']\n",
    "df1.head()"
   ]
  },
  {
   "cell_type": "code",
   "execution_count": 11,
   "metadata": {},
   "outputs": [
    {
     "name": "stderr",
     "output_type": "stream",
     "text": [
      "C:\\Users\\Abdul Manaf\\AppData\\Local\\Temp\\ipykernel_17968\\254468146.py:5: SettingWithCopyWarning: \n",
      "A value is trying to be set on a copy of a slice from a DataFrame.\n",
      "Try using .loc[row_indexer,col_indexer] = value instead\n",
      "\n",
      "See the caveats in the documentation: https://pandas.pydata.org/pandas-docs/stable/user_guide/indexing.html#returning-a-view-versus-a-copy\n",
      "  temp['class'] = temp['class'].apply(lambda x: 'hateful' if x != 'normal' else x)\n"
     ]
    },
    {
     "data": {
      "text/plain": [
       "class\n",
       "hateful    1278\n",
       "normal      661\n",
       "Name: count, dtype: int64"
      ]
     },
     "execution_count": 11,
     "metadata": {},
     "output_type": "execute_result"
    }
   ],
   "source": [
    "class_counts = df1['class'].value_counts()\n",
    "hateful_word = [class_name for class_name in class_counts.index if 'hateful' in class_name]\n",
    "\n",
    "temp = df1[ (df1['class'] == 'normal') | (df1['class'].isin(hateful_word))]\n",
    "temp['class'] = temp['class'].apply(lambda x: 'hateful' if x != 'normal' else x)\n",
    "\n",
    "df1 = temp.copy()\n",
    "df1['class'].value_counts()"
   ]
  },
  {
   "cell_type": "code",
   "execution_count": 12,
   "metadata": {},
   "outputs": [
    {
     "data": {
      "text/html": [
       "<div>\n",
       "<style scoped>\n",
       "    .dataframe tbody tr th:only-of-type {\n",
       "        vertical-align: middle;\n",
       "    }\n",
       "\n",
       "    .dataframe tbody tr th {\n",
       "        vertical-align: top;\n",
       "    }\n",
       "\n",
       "    .dataframe thead th {\n",
       "        text-align: right;\n",
       "    }\n",
       "</style>\n",
       "<table border=\"1\" class=\"dataframe\">\n",
       "  <thead>\n",
       "    <tr style=\"text-align: right;\">\n",
       "      <th></th>\n",
       "      <th>text</th>\n",
       "      <th>class</th>\n",
       "      <th>aspect(category)</th>\n",
       "    </tr>\n",
       "  </thead>\n",
       "  <tbody>\n",
       "    <tr>\n",
       "      <th>0</th>\n",
       "      <td>If America had another 8 years of Obama's ideo...</td>\n",
       "      <td>hateful</td>\n",
       "      <td>origin</td>\n",
       "    </tr>\n",
       "    <tr>\n",
       "      <th>3</th>\n",
       "      <td>@user queue is fucking retarded it makes every...</td>\n",
       "      <td>hateful</td>\n",
       "      <td>disability</td>\n",
       "    </tr>\n",
       "    <tr>\n",
       "      <th>4</th>\n",
       "      <td>@user Que ce ne soit pas des Burundais refugie...</td>\n",
       "      <td>hateful</td>\n",
       "      <td>origin</td>\n",
       "    </tr>\n",
       "    <tr>\n",
       "      <th>7</th>\n",
       "      <td>@user @user Btw. Are we now allowed to say \\sh...</td>\n",
       "      <td>normal</td>\n",
       "      <td></td>\n",
       "    </tr>\n",
       "    <tr>\n",
       "      <th>9</th>\n",
       "      <td>@user Still a bitter cunt. Why so much interes...</td>\n",
       "      <td>hateful</td>\n",
       "      <td>gender</td>\n",
       "    </tr>\n",
       "  </tbody>\n",
       "</table>\n",
       "</div>"
      ],
      "text/plain": [
       "                                                text    class aspect(category)\n",
       "0  If America had another 8 years of Obama's ideo...  hateful           origin\n",
       "3  @user queue is fucking retarded it makes every...  hateful       disability\n",
       "4  @user Que ce ne soit pas des Burundais refugie...  hateful           origin\n",
       "7  @user @user Btw. Are we now allowed to say \\sh...   normal                 \n",
       "9  @user Still a bitter cunt. Why so much interes...  hateful           gender"
      ]
     },
     "execution_count": 12,
     "metadata": {},
     "output_type": "execute_result"
    }
   ],
   "source": [
    "df1.loc[df1['class'] == 'normal', 'aspect(category)'] = df1.loc[df1['class'] == 'normal', 'aspect(category)'].map(lambda x: ' ')\n",
    "df1.head()"
   ]
  },
  {
   "cell_type": "code",
   "execution_count": 13,
   "metadata": {},
   "outputs": [
    {
     "data": {
      "text/plain": [
       "aspect(category)\n",
       "                      661\n",
       "origin                616\n",
       "disability            214\n",
       "other                 156\n",
       "sexual_orientation    142\n",
       "gender                131\n",
       "religion               19\n",
       "Name: count, dtype: int64"
      ]
     },
     "execution_count": 13,
     "metadata": {},
     "output_type": "execute_result"
    }
   ],
   "source": [
    "df1['aspect(category)'].value_counts()"
   ]
  },
  {
   "cell_type": "code",
   "execution_count": 14,
   "metadata": {},
   "outputs": [
    {
     "data": {
      "text/html": [
       "<div>\n",
       "<style scoped>\n",
       "    .dataframe tbody tr th:only-of-type {\n",
       "        vertical-align: middle;\n",
       "    }\n",
       "\n",
       "    .dataframe tbody tr th {\n",
       "        vertical-align: top;\n",
       "    }\n",
       "\n",
       "    .dataframe thead th {\n",
       "        text-align: right;\n",
       "    }\n",
       "</style>\n",
       "<table border=\"1\" class=\"dataframe\">\n",
       "  <thead>\n",
       "    <tr style=\"text-align: right;\">\n",
       "      <th></th>\n",
       "      <th>text</th>\n",
       "      <th>class</th>\n",
       "      <th>aspect(category)</th>\n",
       "    </tr>\n",
       "  </thead>\n",
       "  <tbody>\n",
       "    <tr>\n",
       "      <th>0</th>\n",
       "      <td>If America had another 8 years of Obama's ideo...</td>\n",
       "      <td>hateful</td>\n",
       "      <td>Origin/Nationality</td>\n",
       "    </tr>\n",
       "    <tr>\n",
       "      <th>3</th>\n",
       "      <td>@user queue is fucking retarded it makes every...</td>\n",
       "      <td>hateful</td>\n",
       "      <td>Disability</td>\n",
       "    </tr>\n",
       "    <tr>\n",
       "      <th>4</th>\n",
       "      <td>@user Que ce ne soit pas des Burundais refugie...</td>\n",
       "      <td>hateful</td>\n",
       "      <td>Origin/Nationality</td>\n",
       "    </tr>\n",
       "    <tr>\n",
       "      <th>7</th>\n",
       "      <td>@user @user Btw. Are we now allowed to say \\sh...</td>\n",
       "      <td>normal</td>\n",
       "      <td>NaN</td>\n",
       "    </tr>\n",
       "    <tr>\n",
       "      <th>9</th>\n",
       "      <td>@user Still a bitter cunt. Why so much interes...</td>\n",
       "      <td>hateful</td>\n",
       "      <td>Gender/Sexual</td>\n",
       "    </tr>\n",
       "  </tbody>\n",
       "</table>\n",
       "</div>"
      ],
      "text/plain": [
       "                                                text    class  \\\n",
       "0  If America had another 8 years of Obama's ideo...  hateful   \n",
       "3  @user queue is fucking retarded it makes every...  hateful   \n",
       "4  @user Que ce ne soit pas des Burundais refugie...  hateful   \n",
       "7  @user @user Btw. Are we now allowed to say \\sh...   normal   \n",
       "9  @user Still a bitter cunt. Why so much interes...  hateful   \n",
       "\n",
       "     aspect(category)  \n",
       "0  Origin/Nationality  \n",
       "3          Disability  \n",
       "4  Origin/Nationality  \n",
       "7                 NaN  \n",
       "9       Gender/Sexual  "
      ]
     },
     "execution_count": 14,
     "metadata": {},
     "output_type": "execute_result"
    }
   ],
   "source": [
    "df1['aspect(category)'] = df1['aspect(category)'].map({\n",
    "    'origin': 'Origin/Nationality',\n",
    "    'religion': 'Religion',\n",
    "    'disability': 'Disability',\n",
    "    'sexual_orientation': 'Gender/Sexual',\n",
    "    'gender': 'Gender/Sexual'\n",
    "})\n",
    "df1.head()"
   ]
  },
  {
   "cell_type": "code",
   "execution_count": 15,
   "metadata": {},
   "outputs": [
    {
     "data": {
      "text/plain": [
       "aspect(category)\n",
       "Origin/Nationality    616\n",
       "Gender/Sexual         273\n",
       "Disability            214\n",
       "Religion               19\n",
       "Name: count, dtype: int64"
      ]
     },
     "execution_count": 15,
     "metadata": {},
     "output_type": "execute_result"
    }
   ],
   "source": [
    "df1['aspect(category)'].value_counts()"
   ]
  },
  {
   "cell_type": "code",
   "execution_count": 16,
   "metadata": {},
   "outputs": [
    {
     "data": {
      "text/plain": [
       "class\n",
       "hateful    1278\n",
       "normal      661\n",
       "Name: count, dtype: int64"
      ]
     },
     "execution_count": 16,
     "metadata": {},
     "output_type": "execute_result"
    }
   ],
   "source": [
    "df1['class'].value_counts()"
   ]
  },
  {
   "cell_type": "markdown",
   "metadata": {},
   "source": [
    "### 2. Cyberbully Detection Dataset"
   ]
  },
  {
   "cell_type": "markdown",
   "metadata": {},
   "source": [
    "Dataset Classes (class, aspect(category)):\n",
    "\n",
    "    class - contains (offensive, hateful and normal)\n",
    "    aspect(category) - (Origin/Nationality, Gender/Sexual, Disability, Religion) \n",
    "\n",
    "Source: https://www.kaggle.com/datasets/momo12341234/cyberbully-detection-dataset"
   ]
  },
  {
   "cell_type": "code",
   "execution_count": 17,
   "metadata": {},
   "outputs": [
    {
     "data": {
      "text/html": [
       "<div>\n",
       "<style scoped>\n",
       "    .dataframe tbody tr th:only-of-type {\n",
       "        vertical-align: middle;\n",
       "    }\n",
       "\n",
       "    .dataframe tbody tr th {\n",
       "        vertical-align: top;\n",
       "    }\n",
       "\n",
       "    .dataframe thead th {\n",
       "        text-align: right;\n",
       "    }\n",
       "</style>\n",
       "<table border=\"1\" class=\"dataframe\">\n",
       "  <thead>\n",
       "    <tr style=\"text-align: right;\">\n",
       "      <th></th>\n",
       "      <th>text</th>\n",
       "      <th>label</th>\n",
       "    </tr>\n",
       "  </thead>\n",
       "  <tbody>\n",
       "    <tr>\n",
       "      <th>0</th>\n",
       "      <td>@ZubearSays Any real nigga isn't letting this ...</td>\n",
       "      <td>ethnicity/race</td>\n",
       "    </tr>\n",
       "    <tr>\n",
       "      <th>1</th>\n",
       "      <td>@MoradoSkittle @prolifejewess @DAConsult @Kell...</td>\n",
       "      <td>not_cyberbullying</td>\n",
       "    </tr>\n",
       "    <tr>\n",
       "      <th>2</th>\n",
       "      <td>the only thing i wish, i wish a nigga would</td>\n",
       "      <td>ethnicity/race</td>\n",
       "    </tr>\n",
       "    <tr>\n",
       "      <th>3</th>\n",
       "      <td>You saudias are not friends of Muslim idiots c...</td>\n",
       "      <td>religion</td>\n",
       "    </tr>\n",
       "    <tr>\n",
       "      <th>4</th>\n",
       "      <td>@JaydenT2399 @TractorLaw @holmes_gael @erconge...</td>\n",
       "      <td>religion</td>\n",
       "    </tr>\n",
       "  </tbody>\n",
       "</table>\n",
       "</div>"
      ],
      "text/plain": [
       "                                                text              label\n",
       "0  @ZubearSays Any real nigga isn't letting this ...     ethnicity/race\n",
       "1  @MoradoSkittle @prolifejewess @DAConsult @Kell...  not_cyberbullying\n",
       "2        the only thing i wish, i wish a nigga would     ethnicity/race\n",
       "3  You saudias are not friends of Muslim idiots c...           religion\n",
       "4  @JaydenT2399 @TractorLaw @holmes_gael @erconge...           religion"
      ]
     },
     "execution_count": 17,
     "metadata": {},
     "output_type": "execute_result"
    }
   ],
   "source": [
    "import pandas as pd\n",
    "\n",
    "df2 = pd.read_csv(f\"G:\\My Drive\\Hate Speech_Multilingual\\datasets\\Final Datasets\\#2 Cyberbully Detection Dataset\\cb_multi_labeled_balanced.csv\")\n",
    "df2.head()"
   ]
  },
  {
   "cell_type": "code",
   "execution_count": 18,
   "metadata": {},
   "outputs": [
    {
     "data": {
      "text/plain": [
       "label\n",
       "not_cyberbullying    50000\n",
       "ethnicity/race       17000\n",
       "gender/sexual        17000\n",
       "religion             15990\n",
       "Name: count, dtype: int64"
      ]
     },
     "execution_count": 18,
     "metadata": {},
     "output_type": "execute_result"
    }
   ],
   "source": [
    "df2['label'].value_counts()"
   ]
  },
  {
   "cell_type": "code",
   "execution_count": 19,
   "metadata": {},
   "outputs": [
    {
     "data": {
      "text/plain": [
       "aspect(category)\n",
       "normal            50000\n",
       "Race/Ethnicity    17000\n",
       "Gender/Sexual     17000\n",
       "Religion          15990\n",
       "Name: count, dtype: int64"
      ]
     },
     "execution_count": 19,
     "metadata": {},
     "output_type": "execute_result"
    }
   ],
   "source": [
    "df2.columns = ['text', 'aspect(category)']\n",
    "\n",
    "df2['aspect(category)'] = df2['aspect(category)'].map({\n",
    "    'ethnicity/race': 'Race/Ethnicity',\n",
    "    'religion': 'Religion',\n",
    "    'gender/sexual': 'Gender/Sexual',\n",
    "    'not_cyberbullying': 'normal'\n",
    "})\n",
    "\n",
    "df2['aspect(category)'].value_counts()"
   ]
  },
  {
   "cell_type": "code",
   "execution_count": 20,
   "metadata": {},
   "outputs": [
    {
     "data": {
      "text/html": [
       "<div>\n",
       "<style scoped>\n",
       "    .dataframe tbody tr th:only-of-type {\n",
       "        vertical-align: middle;\n",
       "    }\n",
       "\n",
       "    .dataframe tbody tr th {\n",
       "        vertical-align: top;\n",
       "    }\n",
       "\n",
       "    .dataframe thead th {\n",
       "        text-align: right;\n",
       "    }\n",
       "</style>\n",
       "<table border=\"1\" class=\"dataframe\">\n",
       "  <thead>\n",
       "    <tr style=\"text-align: right;\">\n",
       "      <th></th>\n",
       "      <th>text</th>\n",
       "      <th>class</th>\n",
       "      <th>aspect(category)</th>\n",
       "    </tr>\n",
       "  </thead>\n",
       "  <tbody>\n",
       "    <tr>\n",
       "      <th>0</th>\n",
       "      <td>@ZubearSays Any real nigga isn't letting this ...</td>\n",
       "      <td>hateful</td>\n",
       "      <td>Race/Ethnicity</td>\n",
       "    </tr>\n",
       "    <tr>\n",
       "      <th>1</th>\n",
       "      <td>@MoradoSkittle @prolifejewess @DAConsult @Kell...</td>\n",
       "      <td>normal</td>\n",
       "      <td></td>\n",
       "    </tr>\n",
       "    <tr>\n",
       "      <th>2</th>\n",
       "      <td>the only thing i wish, i wish a nigga would</td>\n",
       "      <td>hateful</td>\n",
       "      <td>Race/Ethnicity</td>\n",
       "    </tr>\n",
       "    <tr>\n",
       "      <th>3</th>\n",
       "      <td>You saudias are not friends of Muslim idiots c...</td>\n",
       "      <td>hateful</td>\n",
       "      <td>Religion</td>\n",
       "    </tr>\n",
       "    <tr>\n",
       "      <th>4</th>\n",
       "      <td>@JaydenT2399 @TractorLaw @holmes_gael @erconge...</td>\n",
       "      <td>hateful</td>\n",
       "      <td>Religion</td>\n",
       "    </tr>\n",
       "  </tbody>\n",
       "</table>\n",
       "</div>"
      ],
      "text/plain": [
       "                                                text    class aspect(category)\n",
       "0  @ZubearSays Any real nigga isn't letting this ...  hateful   Race/Ethnicity\n",
       "1  @MoradoSkittle @prolifejewess @DAConsult @Kell...   normal                 \n",
       "2        the only thing i wish, i wish a nigga would  hateful   Race/Ethnicity\n",
       "3  You saudias are not friends of Muslim idiots c...  hateful         Religion\n",
       "4  @JaydenT2399 @TractorLaw @holmes_gael @erconge...  hateful         Religion"
      ]
     },
     "execution_count": 20,
     "metadata": {},
     "output_type": "execute_result"
    }
   ],
   "source": [
    "df2['class'] = 'hateful'\n",
    "\n",
    "df2.loc[df2['aspect(category)'] == 'normal', 'class'] = 'normal'\n",
    "df2.loc[df2['aspect(category)'] == 'normal', 'aspect(category)'] = ' '\n",
    "\n",
    "df2 = df2[['text', 'class', 'aspect(category)']]\n",
    "df2.head()"
   ]
  },
  {
   "cell_type": "code",
   "execution_count": 21,
   "metadata": {},
   "outputs": [
    {
     "data": {
      "text/plain": [
       "class\n",
       "normal     50000\n",
       "hateful    49990\n",
       "Name: count, dtype: int64"
      ]
     },
     "execution_count": 21,
     "metadata": {},
     "output_type": "execute_result"
    }
   ],
   "source": [
    "df2['class'].value_counts()"
   ]
  },
  {
   "cell_type": "code",
   "execution_count": 22,
   "metadata": {},
   "outputs": [
    {
     "data": {
      "text/plain": [
       "aspect(category)\n",
       "                  50000\n",
       "Race/Ethnicity    17000\n",
       "Gender/Sexual     17000\n",
       "Religion          15990\n",
       "Name: count, dtype: int64"
      ]
     },
     "execution_count": 22,
     "metadata": {},
     "output_type": "execute_result"
    }
   ],
   "source": [
    "df2['aspect(category)'].value_counts()"
   ]
  },
  {
   "cell_type": "markdown",
   "metadata": {},
   "source": [
    "-------------"
   ]
  },
  {
   "cell_type": "markdown",
   "metadata": {},
   "source": [
    "## Merging of datasets"
   ]
  },
  {
   "cell_type": "code",
   "execution_count": 33,
   "metadata": {},
   "outputs": [
    {
     "data": {
      "text/html": [
       "<div>\n",
       "<style scoped>\n",
       "    .dataframe tbody tr th:only-of-type {\n",
       "        vertical-align: middle;\n",
       "    }\n",
       "\n",
       "    .dataframe tbody tr th {\n",
       "        vertical-align: top;\n",
       "    }\n",
       "\n",
       "    .dataframe thead th {\n",
       "        text-align: right;\n",
       "    }\n",
       "</style>\n",
       "<table border=\"1\" class=\"dataframe\">\n",
       "  <thead>\n",
       "    <tr style=\"text-align: right;\">\n",
       "      <th></th>\n",
       "      <th>text</th>\n",
       "      <th>class</th>\n",
       "      <th>aspect(category)</th>\n",
       "    </tr>\n",
       "  </thead>\n",
       "  <tbody>\n",
       "    <tr>\n",
       "      <th>0</th>\n",
       "      <td>If America had another 8 years of Obama's ideo...</td>\n",
       "      <td>hateful</td>\n",
       "      <td>Origin/Nationality</td>\n",
       "    </tr>\n",
       "    <tr>\n",
       "      <th>3</th>\n",
       "      <td>@user queue is fucking retarded it makes every...</td>\n",
       "      <td>hateful</td>\n",
       "      <td>Disability</td>\n",
       "    </tr>\n",
       "    <tr>\n",
       "      <th>4</th>\n",
       "      <td>@user Que ce ne soit pas des Burundais refugie...</td>\n",
       "      <td>hateful</td>\n",
       "      <td>Origin/Nationality</td>\n",
       "    </tr>\n",
       "    <tr>\n",
       "      <th>7</th>\n",
       "      <td>@user @user Btw. Are we now allowed to say \\sh...</td>\n",
       "      <td>normal</td>\n",
       "      <td></td>\n",
       "    </tr>\n",
       "    <tr>\n",
       "      <th>9</th>\n",
       "      <td>@user Still a bitter cunt. Why so much interes...</td>\n",
       "      <td>hateful</td>\n",
       "      <td>Gender/Sexual</td>\n",
       "    </tr>\n",
       "  </tbody>\n",
       "</table>\n",
       "</div>"
      ],
      "text/plain": [
       "                                                text    class  \\\n",
       "0  If America had another 8 years of Obama's ideo...  hateful   \n",
       "3  @user queue is fucking retarded it makes every...  hateful   \n",
       "4  @user Que ce ne soit pas des Burundais refugie...  hateful   \n",
       "7  @user @user Btw. Are we now allowed to say \\sh...   normal   \n",
       "9  @user Still a bitter cunt. Why so much interes...  hateful   \n",
       "\n",
       "     aspect(category)  \n",
       "0  Origin/Nationality  \n",
       "3          Disability  \n",
       "4  Origin/Nationality  \n",
       "7                      \n",
       "9       Gender/Sexual  "
      ]
     },
     "execution_count": 33,
     "metadata": {},
     "output_type": "execute_result"
    }
   ],
   "source": [
    "df = pd.concat([df1, df2])\n",
    "df['aspect(category)'] = df['aspect(category)'].map(lambda x: ' ' if pd.isna(x) else x)\n",
    "df.head()"
   ]
  },
  {
   "cell_type": "code",
   "execution_count": 34,
   "metadata": {},
   "outputs": [
    {
     "data": {
      "text/plain": [
       "class\n",
       "hateful    51268\n",
       "normal     50661\n",
       "Name: count, dtype: int64"
      ]
     },
     "execution_count": 34,
     "metadata": {},
     "output_type": "execute_result"
    }
   ],
   "source": [
    "df['class'].value_counts()"
   ]
  },
  {
   "cell_type": "code",
   "execution_count": 35,
   "metadata": {},
   "outputs": [
    {
     "data": {
      "text/plain": [
       "156"
      ]
     },
     "execution_count": 35,
     "metadata": {},
     "output_type": "execute_result"
    }
   ],
   "source": [
    "len(df[(df['class'] == 'hateful') & (df['aspect(category)'] == ' ')])"
   ]
  },
  {
   "cell_type": "code",
   "execution_count": 36,
   "metadata": {},
   "outputs": [
    {
     "data": {
      "text/html": [
       "<div>\n",
       "<style scoped>\n",
       "    .dataframe tbody tr th:only-of-type {\n",
       "        vertical-align: middle;\n",
       "    }\n",
       "\n",
       "    .dataframe tbody tr th {\n",
       "        vertical-align: top;\n",
       "    }\n",
       "\n",
       "    .dataframe thead th {\n",
       "        text-align: right;\n",
       "    }\n",
       "</style>\n",
       "<table border=\"1\" class=\"dataframe\">\n",
       "  <thead>\n",
       "    <tr style=\"text-align: right;\">\n",
       "      <th></th>\n",
       "      <th>text</th>\n",
       "      <th>class</th>\n",
       "      <th>aspect(category)</th>\n",
       "    </tr>\n",
       "  </thead>\n",
       "  <tbody>\n",
       "    <tr>\n",
       "      <th>23</th>\n",
       "      <td>man i leave for one week and the first twat to...</td>\n",
       "      <td>hateful</td>\n",
       "      <td></td>\n",
       "    </tr>\n",
       "    <tr>\n",
       "      <th>57</th>\n",
       "      <td>@user .... What no Roofe pen either?\\n\\nFuck o...</td>\n",
       "      <td>hateful</td>\n",
       "      <td></td>\n",
       "    </tr>\n",
       "    <tr>\n",
       "      <th>69</th>\n",
       "      <td>Fat mongy mess today \\ud83e\\udd15\\ud83e\\udd15</td>\n",
       "      <td>hateful</td>\n",
       "      <td></td>\n",
       "    </tr>\n",
       "    <tr>\n",
       "      <th>77</th>\n",
       "      <td>It's always the Liberals that threaten that \\I...</td>\n",
       "      <td>hateful</td>\n",
       "      <td></td>\n",
       "    </tr>\n",
       "    <tr>\n",
       "      <th>132</th>\n",
       "      <td>Keep in mind I’m a negro/so my open mind got a...</td>\n",
       "      <td>hateful</td>\n",
       "      <td></td>\n",
       "    </tr>\n",
       "    <tr>\n",
       "      <th>...</th>\n",
       "      <td>...</td>\n",
       "      <td>...</td>\n",
       "      <td>...</td>\n",
       "    </tr>\n",
       "    <tr>\n",
       "      <th>5573</th>\n",
       "      <td>People who insult Asians with \\Ching Chong chi...</td>\n",
       "      <td>hateful</td>\n",
       "      <td></td>\n",
       "    </tr>\n",
       "    <tr>\n",
       "      <th>5601</th>\n",
       "      <td>Lmfaooo fuckin ivan whata retard @URL</td>\n",
       "      <td>hateful</td>\n",
       "      <td></td>\n",
       "    </tr>\n",
       "    <tr>\n",
       "      <th>5624</th>\n",
       "      <td>@user Where is Aryan Nations? In 2002 they los...</td>\n",
       "      <td>hateful</td>\n",
       "      <td></td>\n",
       "    </tr>\n",
       "    <tr>\n",
       "      <th>5643</th>\n",
       "      <td>@user @user You\\u2019re a retard :) x</td>\n",
       "      <td>hateful</td>\n",
       "      <td></td>\n",
       "    </tr>\n",
       "    <tr>\n",
       "      <th>5644</th>\n",
       "      <td>(2/2) like no you fucking twat I'm doing damag...</td>\n",
       "      <td>hateful</td>\n",
       "      <td></td>\n",
       "    </tr>\n",
       "  </tbody>\n",
       "</table>\n",
       "<p>156 rows × 3 columns</p>\n",
       "</div>"
      ],
      "text/plain": [
       "                                                   text    class  \\\n",
       "23    man i leave for one week and the first twat to...  hateful   \n",
       "57    @user .... What no Roofe pen either?\\n\\nFuck o...  hateful   \n",
       "69        Fat mongy mess today \\ud83e\\udd15\\ud83e\\udd15  hateful   \n",
       "77    It's always the Liberals that threaten that \\I...  hateful   \n",
       "132   Keep in mind I’m a negro/so my open mind got a...  hateful   \n",
       "...                                                 ...      ...   \n",
       "5573  People who insult Asians with \\Ching Chong chi...  hateful   \n",
       "5601              Lmfaooo fuckin ivan whata retard @URL  hateful   \n",
       "5624  @user Where is Aryan Nations? In 2002 they los...  hateful   \n",
       "5643              @user @user You\\u2019re a retard :) x  hateful   \n",
       "5644  (2/2) like no you fucking twat I'm doing damag...  hateful   \n",
       "\n",
       "     aspect(category)  \n",
       "23                     \n",
       "57                     \n",
       "69                     \n",
       "77                     \n",
       "132                    \n",
       "...               ...  \n",
       "5573                   \n",
       "5601                   \n",
       "5624                   \n",
       "5643                   \n",
       "5644                   \n",
       "\n",
       "[156 rows x 3 columns]"
      ]
     },
     "execution_count": 36,
     "metadata": {},
     "output_type": "execute_result"
    }
   ],
   "source": [
    "df[(df['class'] == 'hateful') & (df['aspect(category)'] == ' ')]"
   ]
  },
  {
   "cell_type": "markdown",
   "metadata": {},
   "source": [
    "Note: hatefull here also "
   ]
  },
  {
   "cell_type": "code",
   "execution_count": 37,
   "metadata": {},
   "outputs": [
    {
     "data": {
      "text/plain": [
       "aspect(category)\n",
       "                      50817\n",
       "Gender/Sexual         17273\n",
       "Race/Ethnicity        17000\n",
       "Religion              16009\n",
       "Origin/Nationality      616\n",
       "Disability              214\n",
       "Name: count, dtype: int64"
      ]
     },
     "execution_count": 37,
     "metadata": {},
     "output_type": "execute_result"
    }
   ],
   "source": [
    "df['aspect(category)'].value_counts()"
   ]
  },
  {
   "cell_type": "code",
   "execution_count": 38,
   "metadata": {},
   "outputs": [
    {
     "data": {
      "text/html": [
       "<div>\n",
       "<style scoped>\n",
       "    .dataframe tbody tr th:only-of-type {\n",
       "        vertical-align: middle;\n",
       "    }\n",
       "\n",
       "    .dataframe tbody tr th {\n",
       "        vertical-align: top;\n",
       "    }\n",
       "\n",
       "    .dataframe thead th {\n",
       "        text-align: right;\n",
       "    }\n",
       "</style>\n",
       "<table border=\"1\" class=\"dataframe\">\n",
       "  <thead>\n",
       "    <tr style=\"text-align: right;\">\n",
       "      <th></th>\n",
       "      <th>text</th>\n",
       "      <th>class</th>\n",
       "      <th>aspect(category)</th>\n",
       "    </tr>\n",
       "  </thead>\n",
       "  <tbody>\n",
       "    <tr>\n",
       "      <th>0</th>\n",
       "      <td>If America had another 8 years of Obama's ideo...</td>\n",
       "      <td>hateful</td>\n",
       "      <td>Origin/Nationality</td>\n",
       "    </tr>\n",
       "    <tr>\n",
       "      <th>3</th>\n",
       "      <td>@user queue is fucking retarded it makes every...</td>\n",
       "      <td>hateful</td>\n",
       "      <td>Disability</td>\n",
       "    </tr>\n",
       "    <tr>\n",
       "      <th>7</th>\n",
       "      <td>@user @user Btw. Are we now allowed to say \\sh...</td>\n",
       "      <td>normal</td>\n",
       "      <td></td>\n",
       "    </tr>\n",
       "    <tr>\n",
       "      <th>9</th>\n",
       "      <td>@user Still a bitter cunt. Why so much interes...</td>\n",
       "      <td>hateful</td>\n",
       "      <td>Gender/Sexual</td>\n",
       "    </tr>\n",
       "    <tr>\n",
       "      <th>23</th>\n",
       "      <td>man i leave for one week and the first twat to...</td>\n",
       "      <td>hateful</td>\n",
       "      <td></td>\n",
       "    </tr>\n",
       "    <tr>\n",
       "      <th>566</th>\n",
       "      <td>@user True. Christians may be our retarded cou...</td>\n",
       "      <td>hateful</td>\n",
       "      <td>Religion</td>\n",
       "    </tr>\n",
       "    <tr>\n",
       "      <th>0</th>\n",
       "      <td>@ZubearSays Any real nigga isn't letting this ...</td>\n",
       "      <td>hateful</td>\n",
       "      <td>Race/Ethnicity</td>\n",
       "    </tr>\n",
       "  </tbody>\n",
       "</table>\n",
       "</div>"
      ],
      "text/plain": [
       "                                                  text    class  \\\n",
       "0    If America had another 8 years of Obama's ideo...  hateful   \n",
       "3    @user queue is fucking retarded it makes every...  hateful   \n",
       "7    @user @user Btw. Are we now allowed to say \\sh...   normal   \n",
       "9    @user Still a bitter cunt. Why so much interes...  hateful   \n",
       "23   man i leave for one week and the first twat to...  hateful   \n",
       "566  @user True. Christians may be our retarded cou...  hateful   \n",
       "0    @ZubearSays Any real nigga isn't letting this ...  hateful   \n",
       "\n",
       "       aspect(category)  \n",
       "0    Origin/Nationality  \n",
       "3            Disability  \n",
       "7                        \n",
       "9         Gender/Sexual  \n",
       "23                       \n",
       "566            Religion  \n",
       "0        Race/Ethnicity  "
      ]
     },
     "execution_count": 38,
     "metadata": {},
     "output_type": "execute_result"
    }
   ],
   "source": [
    "df.drop_duplicates(subset=['class', 'aspect(category)'])[['text', 'class', 'aspect(category)']]"
   ]
  },
  {
   "cell_type": "code",
   "execution_count": 39,
   "metadata": {},
   "outputs": [],
   "source": [
    "df['class'] = df['class'].map({'normal': 0, 'hateful': 1})"
   ]
  },
  {
   "cell_type": "code",
   "execution_count": 40,
   "metadata": {},
   "outputs": [
    {
     "data": {
      "text/html": [
       "<div>\n",
       "<style scoped>\n",
       "    .dataframe tbody tr th:only-of-type {\n",
       "        vertical-align: middle;\n",
       "    }\n",
       "\n",
       "    .dataframe tbody tr th {\n",
       "        vertical-align: top;\n",
       "    }\n",
       "\n",
       "    .dataframe thead th {\n",
       "        text-align: right;\n",
       "    }\n",
       "</style>\n",
       "<table border=\"1\" class=\"dataframe\">\n",
       "  <thead>\n",
       "    <tr style=\"text-align: right;\">\n",
       "      <th></th>\n",
       "      <th>text</th>\n",
       "      <th>class</th>\n",
       "      <th>Disability</th>\n",
       "      <th>Gender/Sexual</th>\n",
       "      <th>Origin/Nationality</th>\n",
       "      <th>Race/Ethnicity</th>\n",
       "      <th>Religion</th>\n",
       "    </tr>\n",
       "  </thead>\n",
       "  <tbody>\n",
       "    <tr>\n",
       "      <th>0</th>\n",
       "      <td>If America had another 8 years of Obama's ideo...</td>\n",
       "      <td>1</td>\n",
       "      <td>0</td>\n",
       "      <td>0</td>\n",
       "      <td>1</td>\n",
       "      <td>0</td>\n",
       "      <td>0</td>\n",
       "    </tr>\n",
       "    <tr>\n",
       "      <th>3</th>\n",
       "      <td>@user queue is fucking retarded it makes every...</td>\n",
       "      <td>1</td>\n",
       "      <td>1</td>\n",
       "      <td>0</td>\n",
       "      <td>0</td>\n",
       "      <td>0</td>\n",
       "      <td>0</td>\n",
       "    </tr>\n",
       "    <tr>\n",
       "      <th>4</th>\n",
       "      <td>@user Que ce ne soit pas des Burundais refugie...</td>\n",
       "      <td>1</td>\n",
       "      <td>0</td>\n",
       "      <td>0</td>\n",
       "      <td>1</td>\n",
       "      <td>0</td>\n",
       "      <td>0</td>\n",
       "    </tr>\n",
       "    <tr>\n",
       "      <th>7</th>\n",
       "      <td>@user @user Btw. Are we now allowed to say \\sh...</td>\n",
       "      <td>0</td>\n",
       "      <td>0</td>\n",
       "      <td>0</td>\n",
       "      <td>0</td>\n",
       "      <td>0</td>\n",
       "      <td>0</td>\n",
       "    </tr>\n",
       "    <tr>\n",
       "      <th>9</th>\n",
       "      <td>@user Still a bitter cunt. Why so much interes...</td>\n",
       "      <td>1</td>\n",
       "      <td>0</td>\n",
       "      <td>1</td>\n",
       "      <td>0</td>\n",
       "      <td>0</td>\n",
       "      <td>0</td>\n",
       "    </tr>\n",
       "  </tbody>\n",
       "</table>\n",
       "</div>"
      ],
      "text/plain": [
       "                                                text  class  Disability  \\\n",
       "0  If America had another 8 years of Obama's ideo...      1           0   \n",
       "3  @user queue is fucking retarded it makes every...      1           1   \n",
       "4  @user Que ce ne soit pas des Burundais refugie...      1           0   \n",
       "7  @user @user Btw. Are we now allowed to say \\sh...      0           0   \n",
       "9  @user Still a bitter cunt. Why so much interes...      1           0   \n",
       "\n",
       "   Gender/Sexual  Origin/Nationality  Race/Ethnicity  Religion  \n",
       "0              0                   1               0         0  \n",
       "3              0                   0               0         0  \n",
       "4              0                   1               0         0  \n",
       "7              0                   0               0         0  \n",
       "9              1                   0               0         0  "
      ]
     },
     "execution_count": 40,
     "metadata": {},
     "output_type": "execute_result"
    }
   ],
   "source": [
    "import numpy as np\n",
    "\n",
    "df_one_hot = pd.get_dummies(df, columns=['aspect(category)'], prefix='', prefix_sep='')\n",
    "\n",
    "for column in df_one_hot.columns:\n",
    "    if type(df_one_hot[column].values[0]) == np.bool_:\n",
    "        df_one_hot[column] = df_one_hot[column].astype(int)\n",
    "\n",
    "del df_one_hot[' ']\n",
    "df = df_one_hot.copy()\n",
    "df_one_hot.head()"
   ]
  },
  {
   "cell_type": "code",
   "execution_count": 42,
   "metadata": {},
   "outputs": [],
   "source": [
    "df.to_csv(f\"G:\\My Drive\\Hate Speech_Multilingual\\Code\\Dataset Statistics\\dataset\\english_curated(multi).csv\", index=False)"
   ]
  },
  {
   "cell_type": "code",
   "execution_count": 43,
   "metadata": {},
   "outputs": [],
   "source": [
    "df.to_csv(\"english_curated(multi).csv\", index=False)"
   ]
  }
 ],
 "metadata": {
  "kernelspec": {
   "display_name": "base",
   "language": "python",
   "name": "python3"
  },
  "language_info": {
   "codemirror_mode": {
    "name": "ipython",
    "version": 3
   },
   "file_extension": ".py",
   "mimetype": "text/x-python",
   "name": "python",
   "nbconvert_exporter": "python",
   "pygments_lexer": "ipython3",
   "version": "3.9.13"
  },
  "vscode": {
   "interpreter": {
    "hash": "57bc2b6ce032b5f0e93daa91901b7ea38a856826ef43aa9e95b6d3999f5310df"
   }
  }
 },
 "nbformat": 4,
 "nbformat_minor": 2
}
