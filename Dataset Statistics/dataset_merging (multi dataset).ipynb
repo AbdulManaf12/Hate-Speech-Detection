{
 "cells": [
  {
   "cell_type": "markdown",
   "metadata": {},
   "source": [
    "### 1. Twitter Sentiment Analysis"
   ]
  },
  {
   "cell_type": "markdown",
   "metadata": {},
   "source": [
    "Dataset Classes (label):\n",
    "\n",
    "    0 - normal\n",
    "    1 - racist/sexist\n",
    "\n",
    "Source: https://www.kaggle.com/datasets/arkhoshghalb/twitter-sentiment-analysis-hatred-speech"
   ]
  },
  {
   "cell_type": "code",
   "execution_count": 234,
   "metadata": {},
   "outputs": [
    {
     "data": {
      "text/html": [
       "<div>\n",
       "<style scoped>\n",
       "    .dataframe tbody tr th:only-of-type {\n",
       "        vertical-align: middle;\n",
       "    }\n",
       "\n",
       "    .dataframe tbody tr th {\n",
       "        vertical-align: top;\n",
       "    }\n",
       "\n",
       "    .dataframe thead th {\n",
       "        text-align: right;\n",
       "    }\n",
       "</style>\n",
       "<table border=\"1\" class=\"dataframe\">\n",
       "  <thead>\n",
       "    <tr style=\"text-align: right;\">\n",
       "      <th></th>\n",
       "      <th>id</th>\n",
       "      <th>label</th>\n",
       "      <th>tweet</th>\n",
       "    </tr>\n",
       "  </thead>\n",
       "  <tbody>\n",
       "    <tr>\n",
       "      <th>0</th>\n",
       "      <td>1</td>\n",
       "      <td>0</td>\n",
       "      <td>@user when a father is dysfunctional and is s...</td>\n",
       "    </tr>\n",
       "    <tr>\n",
       "      <th>1</th>\n",
       "      <td>2</td>\n",
       "      <td>0</td>\n",
       "      <td>@user @user thanks for #lyft credit i can't us...</td>\n",
       "    </tr>\n",
       "    <tr>\n",
       "      <th>2</th>\n",
       "      <td>3</td>\n",
       "      <td>0</td>\n",
       "      <td>bihday your majesty</td>\n",
       "    </tr>\n",
       "    <tr>\n",
       "      <th>3</th>\n",
       "      <td>4</td>\n",
       "      <td>0</td>\n",
       "      <td>#model   i love u take with u all the time in ...</td>\n",
       "    </tr>\n",
       "    <tr>\n",
       "      <th>4</th>\n",
       "      <td>5</td>\n",
       "      <td>0</td>\n",
       "      <td>factsguide: society now    #motivation</td>\n",
       "    </tr>\n",
       "  </tbody>\n",
       "</table>\n",
       "</div>"
      ],
      "text/plain": [
       "   id  label                                              tweet\n",
       "0   1      0   @user when a father is dysfunctional and is s...\n",
       "1   2      0  @user @user thanks for #lyft credit i can't us...\n",
       "2   3      0                                bihday your majesty\n",
       "3   4      0  #model   i love u take with u all the time in ...\n",
       "4   5      0             factsguide: society now    #motivation"
      ]
     },
     "execution_count": 234,
     "metadata": {},
     "output_type": "execute_result"
    }
   ],
   "source": [
    "import pandas as pd\n",
    "\n",
    "df1 = pd.read_csv(f\"G:/My Drive/Hate Speech_Multilingual/datasets/Final Datasets/#1 Twitter Sentiment Analysis/train.csv\")\n",
    "df1.head()"
   ]
  },
  {
   "cell_type": "code",
   "execution_count": 235,
   "metadata": {},
   "outputs": [
    {
     "data": {
      "text/plain": [
       "aspect(category)\n",
       "                  29720\n",
       "Race/Ethnicity     2242\n",
       "Name: count, dtype: int64"
      ]
     },
     "execution_count": 235,
     "metadata": {},
     "output_type": "execute_result"
    }
   ],
   "source": [
    "df1['class'] = 'normal'\n",
    "df1 = df1[['tweet', 'class', 'label']]\n",
    "df1.columns = ['text', 'class', 'aspect(category)']\n",
    "df1['aspect(category)'] = df1['aspect(category)'].replace({1: 'Race/Ethnicity', 0 : ''})\n",
    "df1.loc[df1['aspect(category)'] == 'Race/Ethnicity', 'class'] = 'hateful'\n",
    "df1['aspect(category)'].value_counts()"
   ]
  },
  {
   "cell_type": "code",
   "execution_count": 236,
   "metadata": {},
   "outputs": [
    {
     "data": {
      "text/html": [
       "<div>\n",
       "<style scoped>\n",
       "    .dataframe tbody tr th:only-of-type {\n",
       "        vertical-align: middle;\n",
       "    }\n",
       "\n",
       "    .dataframe tbody tr th {\n",
       "        vertical-align: top;\n",
       "    }\n",
       "\n",
       "    .dataframe thead th {\n",
       "        text-align: right;\n",
       "    }\n",
       "</style>\n",
       "<table border=\"1\" class=\"dataframe\">\n",
       "  <thead>\n",
       "    <tr style=\"text-align: right;\">\n",
       "      <th></th>\n",
       "      <th>text</th>\n",
       "      <th>class</th>\n",
       "      <th>aspect(category)</th>\n",
       "    </tr>\n",
       "  </thead>\n",
       "  <tbody>\n",
       "    <tr>\n",
       "      <th>0</th>\n",
       "      <td>@user when a father is dysfunctional and is s...</td>\n",
       "      <td>normal</td>\n",
       "      <td></td>\n",
       "    </tr>\n",
       "    <tr>\n",
       "      <th>1</th>\n",
       "      <td>@user @user thanks for #lyft credit i can't us...</td>\n",
       "      <td>normal</td>\n",
       "      <td></td>\n",
       "    </tr>\n",
       "    <tr>\n",
       "      <th>2</th>\n",
       "      <td>bihday your majesty</td>\n",
       "      <td>normal</td>\n",
       "      <td></td>\n",
       "    </tr>\n",
       "    <tr>\n",
       "      <th>3</th>\n",
       "      <td>#model   i love u take with u all the time in ...</td>\n",
       "      <td>normal</td>\n",
       "      <td></td>\n",
       "    </tr>\n",
       "    <tr>\n",
       "      <th>4</th>\n",
       "      <td>factsguide: society now    #motivation</td>\n",
       "      <td>normal</td>\n",
       "      <td></td>\n",
       "    </tr>\n",
       "  </tbody>\n",
       "</table>\n",
       "</div>"
      ],
      "text/plain": [
       "                                                text   class aspect(category)\n",
       "0   @user when a father is dysfunctional and is s...  normal                 \n",
       "1  @user @user thanks for #lyft credit i can't us...  normal                 \n",
       "2                                bihday your majesty  normal                 \n",
       "3  #model   i love u take with u all the time in ...  normal                 \n",
       "4             factsguide: society now    #motivation  normal                 "
      ]
     },
     "execution_count": 236,
     "metadata": {},
     "output_type": "execute_result"
    }
   ],
   "source": [
    "df1.head()"
   ]
  },
  {
   "cell_type": "code",
   "execution_count": 237,
   "metadata": {},
   "outputs": [
    {
     "data": {
      "text/plain": [
       "class\n",
       "normal     29720\n",
       "hateful     2242\n",
       "Name: count, dtype: int64"
      ]
     },
     "execution_count": 237,
     "metadata": {},
     "output_type": "execute_result"
    }
   ],
   "source": [
    "df1['class'].value_counts()"
   ]
  },
  {
   "cell_type": "markdown",
   "metadata": {},
   "source": [
    "### 2. Multilingual and Multi-Aspect (MLMA) Hate Speech"
   ]
  },
  {
   "cell_type": "markdown",
   "metadata": {},
   "source": [
    "Dataset Classes (class, aspect(category)):\n",
    "\n",
    "    class - contains (offensive, hateful and normal)\n",
    "    aspect(category) - (Origin/Nationality, Gender/Sexual, Disability, Religion) \n",
    "\n",
    "Source: https://github.com/HKUST-KnowComp/MLMA_hate_speech/blob/master/hate_speech_mlma.zip"
   ]
  },
  {
   "cell_type": "code",
   "execution_count": 238,
   "metadata": {},
   "outputs": [
    {
     "data": {
      "text/html": [
       "<div>\n",
       "<style scoped>\n",
       "    .dataframe tbody tr th:only-of-type {\n",
       "        vertical-align: middle;\n",
       "    }\n",
       "\n",
       "    .dataframe tbody tr th {\n",
       "        vertical-align: top;\n",
       "    }\n",
       "\n",
       "    .dataframe thead th {\n",
       "        text-align: right;\n",
       "    }\n",
       "</style>\n",
       "<table border=\"1\" class=\"dataframe\">\n",
       "  <thead>\n",
       "    <tr style=\"text-align: right;\">\n",
       "      <th></th>\n",
       "      <th>HITId</th>\n",
       "      <th>tweet</th>\n",
       "      <th>sentiment</th>\n",
       "      <th>directness</th>\n",
       "      <th>annotator_sentiment</th>\n",
       "      <th>target</th>\n",
       "      <th>group</th>\n",
       "    </tr>\n",
       "  </thead>\n",
       "  <tbody>\n",
       "    <tr>\n",
       "      <th>0</th>\n",
       "      <td>0</td>\n",
       "      <td>If America had another 8 years of Obama's ideo...</td>\n",
       "      <td>fearful_abusive_hateful_disrespectful_normal</td>\n",
       "      <td>indirect</td>\n",
       "      <td>anger_fear_shock_sadness_disgust</td>\n",
       "      <td>origin</td>\n",
       "      <td>other</td>\n",
       "    </tr>\n",
       "    <tr>\n",
       "      <th>1</th>\n",
       "      <td>1</td>\n",
       "      <td>Most Canadians have never met seen or associat...</td>\n",
       "      <td>offensive</td>\n",
       "      <td>indirect</td>\n",
       "      <td>sadness_indifference</td>\n",
       "      <td>disability</td>\n",
       "      <td>special_needs</td>\n",
       "    </tr>\n",
       "    <tr>\n",
       "      <th>2</th>\n",
       "      <td>2</td>\n",
       "      <td>Hahaha grow up faggot @URL</td>\n",
       "      <td>offensive</td>\n",
       "      <td>indirect</td>\n",
       "      <td>shock_disgust</td>\n",
       "      <td>sexual_orientation</td>\n",
       "      <td>women</td>\n",
       "    </tr>\n",
       "    <tr>\n",
       "      <th>3</th>\n",
       "      <td>3</td>\n",
       "      <td>@user queue is fucking retarded it makes every...</td>\n",
       "      <td>offensive_hateful</td>\n",
       "      <td>direct</td>\n",
       "      <td>shock_disgust</td>\n",
       "      <td>disability</td>\n",
       "      <td>special_needs</td>\n",
       "    </tr>\n",
       "    <tr>\n",
       "      <th>4</th>\n",
       "      <td>4</td>\n",
       "      <td>@user Que ce ne soit pas des Burundais refugie...</td>\n",
       "      <td>hateful_normal</td>\n",
       "      <td>indirect</td>\n",
       "      <td>shock_disgust</td>\n",
       "      <td>origin</td>\n",
       "      <td>other</td>\n",
       "    </tr>\n",
       "  </tbody>\n",
       "</table>\n",
       "</div>"
      ],
      "text/plain": [
       "   HITId                                              tweet  \\\n",
       "0      0  If America had another 8 years of Obama's ideo...   \n",
       "1      1  Most Canadians have never met seen or associat...   \n",
       "2      2                         Hahaha grow up faggot @URL   \n",
       "3      3  @user queue is fucking retarded it makes every...   \n",
       "4      4  @user Que ce ne soit pas des Burundais refugie...   \n",
       "\n",
       "                                      sentiment directness  \\\n",
       "0  fearful_abusive_hateful_disrespectful_normal   indirect   \n",
       "1                                     offensive   indirect   \n",
       "2                                     offensive   indirect   \n",
       "3                             offensive_hateful     direct   \n",
       "4                                hateful_normal   indirect   \n",
       "\n",
       "                annotator_sentiment              target          group  \n",
       "0  anger_fear_shock_sadness_disgust              origin          other  \n",
       "1              sadness_indifference          disability  special_needs  \n",
       "2                     shock_disgust  sexual_orientation          women  \n",
       "3                     shock_disgust          disability  special_needs  \n",
       "4                     shock_disgust              origin          other  "
      ]
     },
     "execution_count": 238,
     "metadata": {},
     "output_type": "execute_result"
    }
   ],
   "source": [
    "import pandas as pd\n",
    "\n",
    "df2 = pd.read_csv(f\"G:\\My Drive\\Hate Speech_Multilingual\\datasets\\Final Datasets\\#2 MLMA_hate_speech\\hate_speech_mlma\\en_dataset_with_stop_words.csv\")\n",
    "df2.head()"
   ]
  },
  {
   "cell_type": "code",
   "execution_count": 239,
   "metadata": {},
   "outputs": [
    {
     "data": {
      "text/html": [
       "<div>\n",
       "<style scoped>\n",
       "    .dataframe tbody tr th:only-of-type {\n",
       "        vertical-align: middle;\n",
       "    }\n",
       "\n",
       "    .dataframe tbody tr th {\n",
       "        vertical-align: top;\n",
       "    }\n",
       "\n",
       "    .dataframe thead th {\n",
       "        text-align: right;\n",
       "    }\n",
       "</style>\n",
       "<table border=\"1\" class=\"dataframe\">\n",
       "  <thead>\n",
       "    <tr style=\"text-align: right;\">\n",
       "      <th></th>\n",
       "      <th>text</th>\n",
       "      <th>class</th>\n",
       "      <th>aspect(category)</th>\n",
       "    </tr>\n",
       "  </thead>\n",
       "  <tbody>\n",
       "    <tr>\n",
       "      <th>0</th>\n",
       "      <td>If America had another 8 years of Obama's ideo...</td>\n",
       "      <td>fearful_abusive_hateful_disrespectful_normal</td>\n",
       "      <td>origin</td>\n",
       "    </tr>\n",
       "    <tr>\n",
       "      <th>1</th>\n",
       "      <td>Most Canadians have never met seen or associat...</td>\n",
       "      <td>offensive</td>\n",
       "      <td>disability</td>\n",
       "    </tr>\n",
       "    <tr>\n",
       "      <th>2</th>\n",
       "      <td>Hahaha grow up faggot @URL</td>\n",
       "      <td>offensive</td>\n",
       "      <td>sexual_orientation</td>\n",
       "    </tr>\n",
       "    <tr>\n",
       "      <th>3</th>\n",
       "      <td>@user queue is fucking retarded it makes every...</td>\n",
       "      <td>offensive_hateful</td>\n",
       "      <td>disability</td>\n",
       "    </tr>\n",
       "    <tr>\n",
       "      <th>4</th>\n",
       "      <td>@user Que ce ne soit pas des Burundais refugie...</td>\n",
       "      <td>hateful_normal</td>\n",
       "      <td>origin</td>\n",
       "    </tr>\n",
       "  </tbody>\n",
       "</table>\n",
       "</div>"
      ],
      "text/plain": [
       "                                                text  \\\n",
       "0  If America had another 8 years of Obama's ideo...   \n",
       "1  Most Canadians have never met seen or associat...   \n",
       "2                         Hahaha grow up faggot @URL   \n",
       "3  @user queue is fucking retarded it makes every...   \n",
       "4  @user Que ce ne soit pas des Burundais refugie...   \n",
       "\n",
       "                                          class    aspect(category)  \n",
       "0  fearful_abusive_hateful_disrespectful_normal              origin  \n",
       "1                                     offensive          disability  \n",
       "2                                     offensive  sexual_orientation  \n",
       "3                             offensive_hateful          disability  \n",
       "4                                hateful_normal              origin  "
      ]
     },
     "execution_count": 239,
     "metadata": {},
     "output_type": "execute_result"
    }
   ],
   "source": [
    "df2 = df2[['tweet', 'sentiment', 'target']]\n",
    "df2.columns = ['text', 'class', 'aspect(category)']\n",
    "df2.head()"
   ]
  },
  {
   "cell_type": "code",
   "execution_count": 240,
   "metadata": {},
   "outputs": [
    {
     "name": "stderr",
     "output_type": "stream",
     "text": [
      "C:\\Users\\Abdul Manaf\\AppData\\Local\\Temp\\ipykernel_17912\\2392922657.py:3: SettingWithCopyWarning: \n",
      "A value is trying to be set on a copy of a slice from a DataFrame.\n",
      "Try using .loc[row_indexer,col_indexer] = value instead\n",
      "\n",
      "See the caveats in the documentation: https://pandas.pydata.org/pandas-docs/stable/user_guide/indexing.html#returning-a-view-versus-a-copy\n",
      "  temp['class'] = temp['class'].replace(['hateful_disrespectful'], 'hateful')\n"
     ]
    },
    {
     "data": {
      "text/plain": [
       "class\n",
       "hateful    411\n",
       "Name: count, dtype: int64"
      ]
     },
     "execution_count": 240,
     "metadata": {},
     "output_type": "execute_result"
    }
   ],
   "source": [
    "temp = df2[ (df2['class'] == 'hateful') | (df2['class'] == 'hateful_disrespectful')]\n",
    "\n",
    "temp['class'] = temp['class'].replace(['hateful_disrespectful'], 'hateful')\n",
    "\n",
    "df2 = temp.copy()\n",
    "df2['class'].value_counts()"
   ]
  },
  {
   "cell_type": "code",
   "execution_count": 241,
   "metadata": {},
   "outputs": [
    {
     "data": {
      "text/html": [
       "<div>\n",
       "<style scoped>\n",
       "    .dataframe tbody tr th:only-of-type {\n",
       "        vertical-align: middle;\n",
       "    }\n",
       "\n",
       "    .dataframe tbody tr th {\n",
       "        vertical-align: top;\n",
       "    }\n",
       "\n",
       "    .dataframe thead th {\n",
       "        text-align: right;\n",
       "    }\n",
       "</style>\n",
       "<table border=\"1\" class=\"dataframe\">\n",
       "  <thead>\n",
       "    <tr style=\"text-align: right;\">\n",
       "      <th></th>\n",
       "      <th>text</th>\n",
       "      <th>class</th>\n",
       "      <th>aspect(category)</th>\n",
       "    </tr>\n",
       "  </thead>\n",
       "  <tbody>\n",
       "    <tr>\n",
       "      <th>16</th>\n",
       "      <td>@user Are you okay with giving benefits to ill...</td>\n",
       "      <td>hateful</td>\n",
       "      <td>origin</td>\n",
       "    </tr>\n",
       "    <tr>\n",
       "      <th>38</th>\n",
       "      <td>@user Yes retarded not me your leader the pape...</td>\n",
       "      <td>hateful</td>\n",
       "      <td>disability</td>\n",
       "    </tr>\n",
       "    <tr>\n",
       "      <th>62</th>\n",
       "      <td>@user @user @user Babe Ruth was a dirty jew</td>\n",
       "      <td>hateful</td>\n",
       "      <td>origin</td>\n",
       "    </tr>\n",
       "    <tr>\n",
       "      <th>98</th>\n",
       "      <td>@user i look retarded</td>\n",
       "      <td>hateful</td>\n",
       "      <td>disability</td>\n",
       "    </tr>\n",
       "    <tr>\n",
       "      <th>101</th>\n",
       "      <td>So damn retarded \\ud83e\\udd26\\ud83c\\udffd\\u200...</td>\n",
       "      <td>hateful</td>\n",
       "      <td>disability</td>\n",
       "    </tr>\n",
       "  </tbody>\n",
       "</table>\n",
       "</div>"
      ],
      "text/plain": [
       "                                                  text    class  \\\n",
       "16   @user Are you okay with giving benefits to ill...  hateful   \n",
       "38   @user Yes retarded not me your leader the pape...  hateful   \n",
       "62         @user @user @user Babe Ruth was a dirty jew  hateful   \n",
       "98                               @user i look retarded  hateful   \n",
       "101  So damn retarded \\ud83e\\udd26\\ud83c\\udffd\\u200...  hateful   \n",
       "\n",
       "    aspect(category)  \n",
       "16            origin  \n",
       "38        disability  \n",
       "62            origin  \n",
       "98        disability  \n",
       "101       disability  "
      ]
     },
     "execution_count": 241,
     "metadata": {},
     "output_type": "execute_result"
    }
   ],
   "source": [
    "df2.head()"
   ]
  },
  {
   "cell_type": "code",
   "execution_count": 242,
   "metadata": {},
   "outputs": [
    {
     "data": {
      "text/plain": [
       "aspect(category)\n",
       "origin                205\n",
       "disability             59\n",
       "sexual_orientation     52\n",
       "gender                 46\n",
       "other                  44\n",
       "religion                5\n",
       "Name: count, dtype: int64"
      ]
     },
     "execution_count": 242,
     "metadata": {},
     "output_type": "execute_result"
    }
   ],
   "source": [
    "df2['aspect(category)'].value_counts()"
   ]
  },
  {
   "cell_type": "code",
   "execution_count": 243,
   "metadata": {},
   "outputs": [
    {
     "data": {
      "text/html": [
       "<div>\n",
       "<style scoped>\n",
       "    .dataframe tbody tr th:only-of-type {\n",
       "        vertical-align: middle;\n",
       "    }\n",
       "\n",
       "    .dataframe tbody tr th {\n",
       "        vertical-align: top;\n",
       "    }\n",
       "\n",
       "    .dataframe thead th {\n",
       "        text-align: right;\n",
       "    }\n",
       "</style>\n",
       "<table border=\"1\" class=\"dataframe\">\n",
       "  <thead>\n",
       "    <tr style=\"text-align: right;\">\n",
       "      <th></th>\n",
       "      <th>text</th>\n",
       "      <th>class</th>\n",
       "      <th>aspect(category)</th>\n",
       "    </tr>\n",
       "  </thead>\n",
       "  <tbody>\n",
       "    <tr>\n",
       "      <th>16</th>\n",
       "      <td>@user Are you okay with giving benefits to ill...</td>\n",
       "      <td>hateful</td>\n",
       "      <td>Origin/Nationality</td>\n",
       "    </tr>\n",
       "    <tr>\n",
       "      <th>38</th>\n",
       "      <td>@user Yes retarded not me your leader the pape...</td>\n",
       "      <td>hateful</td>\n",
       "      <td>Disability</td>\n",
       "    </tr>\n",
       "    <tr>\n",
       "      <th>62</th>\n",
       "      <td>@user @user @user Babe Ruth was a dirty jew</td>\n",
       "      <td>hateful</td>\n",
       "      <td>Origin/Nationality</td>\n",
       "    </tr>\n",
       "    <tr>\n",
       "      <th>98</th>\n",
       "      <td>@user i look retarded</td>\n",
       "      <td>hateful</td>\n",
       "      <td>Disability</td>\n",
       "    </tr>\n",
       "    <tr>\n",
       "      <th>101</th>\n",
       "      <td>So damn retarded \\ud83e\\udd26\\ud83c\\udffd\\u200...</td>\n",
       "      <td>hateful</td>\n",
       "      <td>Disability</td>\n",
       "    </tr>\n",
       "  </tbody>\n",
       "</table>\n",
       "</div>"
      ],
      "text/plain": [
       "                                                  text    class  \\\n",
       "16   @user Are you okay with giving benefits to ill...  hateful   \n",
       "38   @user Yes retarded not me your leader the pape...  hateful   \n",
       "62         @user @user @user Babe Ruth was a dirty jew  hateful   \n",
       "98                               @user i look retarded  hateful   \n",
       "101  So damn retarded \\ud83e\\udd26\\ud83c\\udffd\\u200...  hateful   \n",
       "\n",
       "       aspect(category)  \n",
       "16   Origin/Nationality  \n",
       "38           Disability  \n",
       "62   Origin/Nationality  \n",
       "98           Disability  \n",
       "101          Disability  "
      ]
     },
     "execution_count": 243,
     "metadata": {},
     "output_type": "execute_result"
    }
   ],
   "source": [
    "df2['aspect(category)'] = df2['aspect(category)'].map({\n",
    "    'origin': 'Origin/Nationality',\n",
    "    'religion': 'Religion',\n",
    "    'disability': 'Disability',\n",
    "    'sexual_orientation': 'Gender/Sexual',\n",
    "    'gender': 'Gender/Sexual'\n",
    "})\n",
    "df2.head()"
   ]
  },
  {
   "cell_type": "code",
   "execution_count": 244,
   "metadata": {},
   "outputs": [
    {
     "data": {
      "text/plain": [
       "aspect(category)\n",
       "Origin/Nationality    205\n",
       "Gender/Sexual          98\n",
       "Disability             59\n",
       "Religion                5\n",
       "Name: count, dtype: int64"
      ]
     },
     "execution_count": 244,
     "metadata": {},
     "output_type": "execute_result"
    }
   ],
   "source": [
    "df2['aspect(category)'].value_counts()"
   ]
  },
  {
   "cell_type": "code",
   "execution_count": 245,
   "metadata": {},
   "outputs": [
    {
     "data": {
      "text/plain": [
       "class\n",
       "hateful    411\n",
       "Name: count, dtype: int64"
      ]
     },
     "execution_count": 245,
     "metadata": {},
     "output_type": "execute_result"
    }
   ],
   "source": [
    "df2['class'].value_counts()"
   ]
  },
  {
   "cell_type": "markdown",
   "metadata": {},
   "source": [
    "### 3. Cyberbully Detection Dataset"
   ]
  },
  {
   "cell_type": "markdown",
   "metadata": {},
   "source": [
    "Dataset Classes (class, aspect(category)):\n",
    "\n",
    "    class - contains (offensive, hateful and normal)\n",
    "    aspect(category) - (Origin/Nationality, Gender/Sexual, Disability, Religion) \n",
    "\n",
    "Source: https://www.kaggle.com/datasets/momo12341234/cyberbully-detection-dataset"
   ]
  },
  {
   "cell_type": "code",
   "execution_count": 246,
   "metadata": {},
   "outputs": [
    {
     "data": {
      "text/html": [
       "<div>\n",
       "<style scoped>\n",
       "    .dataframe tbody tr th:only-of-type {\n",
       "        vertical-align: middle;\n",
       "    }\n",
       "\n",
       "    .dataframe tbody tr th {\n",
       "        vertical-align: top;\n",
       "    }\n",
       "\n",
       "    .dataframe thead th {\n",
       "        text-align: right;\n",
       "    }\n",
       "</style>\n",
       "<table border=\"1\" class=\"dataframe\">\n",
       "  <thead>\n",
       "    <tr style=\"text-align: right;\">\n",
       "      <th></th>\n",
       "      <th>text</th>\n",
       "      <th>label</th>\n",
       "    </tr>\n",
       "  </thead>\n",
       "  <tbody>\n",
       "    <tr>\n",
       "      <th>0</th>\n",
       "      <td>@ZubearSays Any real nigga isn't letting this ...</td>\n",
       "      <td>ethnicity/race</td>\n",
       "    </tr>\n",
       "    <tr>\n",
       "      <th>1</th>\n",
       "      <td>@MoradoSkittle @prolifejewess @DAConsult @Kell...</td>\n",
       "      <td>not_cyberbullying</td>\n",
       "    </tr>\n",
       "    <tr>\n",
       "      <th>2</th>\n",
       "      <td>the only thing i wish, i wish a nigga would</td>\n",
       "      <td>ethnicity/race</td>\n",
       "    </tr>\n",
       "    <tr>\n",
       "      <th>3</th>\n",
       "      <td>You saudias are not friends of Muslim idiots c...</td>\n",
       "      <td>religion</td>\n",
       "    </tr>\n",
       "    <tr>\n",
       "      <th>4</th>\n",
       "      <td>@JaydenT2399 @TractorLaw @holmes_gael @erconge...</td>\n",
       "      <td>religion</td>\n",
       "    </tr>\n",
       "  </tbody>\n",
       "</table>\n",
       "</div>"
      ],
      "text/plain": [
       "                                                text              label\n",
       "0  @ZubearSays Any real nigga isn't letting this ...     ethnicity/race\n",
       "1  @MoradoSkittle @prolifejewess @DAConsult @Kell...  not_cyberbullying\n",
       "2        the only thing i wish, i wish a nigga would     ethnicity/race\n",
       "3  You saudias are not friends of Muslim idiots c...           religion\n",
       "4  @JaydenT2399 @TractorLaw @holmes_gael @erconge...           religion"
      ]
     },
     "execution_count": 246,
     "metadata": {},
     "output_type": "execute_result"
    }
   ],
   "source": [
    "import pandas as pd\n",
    "\n",
    "df3 = pd.read_csv(f\"G:\\My Drive\\Hate Speech_Multilingual\\datasets\\Final Datasets\\#3 Cyberbully Detection Dataset\\cb_multi_labeled_balanced.csv\")\n",
    "df3.head()"
   ]
  },
  {
   "cell_type": "code",
   "execution_count": 247,
   "metadata": {},
   "outputs": [
    {
     "data": {
      "text/plain": [
       "aspect(category)\n",
       "Race/Ethnicity    17000\n",
       "Gender/Sexual     17000\n",
       "Religion          15990\n",
       "Name: count, dtype: int64"
      ]
     },
     "execution_count": 247,
     "metadata": {},
     "output_type": "execute_result"
    }
   ],
   "source": [
    "df3.columns = ['text', 'aspect(category)']\n",
    "df3 = df3[df3['aspect(category)'] != 'not_cyberbullying']\n",
    "\n",
    "df3['aspect(category)'] = df3['aspect(category)'].map({\n",
    "    'ethnicity/race': 'Race/Ethnicity',\n",
    "    'religion': 'Religion',\n",
    "    'gender/sexual': 'Gender/Sexual',\n",
    "})\n",
    "\n",
    "df3['aspect(category)'].value_counts()"
   ]
  },
  {
   "cell_type": "code",
   "execution_count": 248,
   "metadata": {},
   "outputs": [
    {
     "data": {
      "text/html": [
       "<div>\n",
       "<style scoped>\n",
       "    .dataframe tbody tr th:only-of-type {\n",
       "        vertical-align: middle;\n",
       "    }\n",
       "\n",
       "    .dataframe tbody tr th {\n",
       "        vertical-align: top;\n",
       "    }\n",
       "\n",
       "    .dataframe thead th {\n",
       "        text-align: right;\n",
       "    }\n",
       "</style>\n",
       "<table border=\"1\" class=\"dataframe\">\n",
       "  <thead>\n",
       "    <tr style=\"text-align: right;\">\n",
       "      <th></th>\n",
       "      <th>text</th>\n",
       "      <th>class</th>\n",
       "      <th>aspect(category)</th>\n",
       "    </tr>\n",
       "  </thead>\n",
       "  <tbody>\n",
       "    <tr>\n",
       "      <th>0</th>\n",
       "      <td>@ZubearSays Any real nigga isn't letting this ...</td>\n",
       "      <td>hateful</td>\n",
       "      <td>Race/Ethnicity</td>\n",
       "    </tr>\n",
       "    <tr>\n",
       "      <th>2</th>\n",
       "      <td>the only thing i wish, i wish a nigga would</td>\n",
       "      <td>hateful</td>\n",
       "      <td>Race/Ethnicity</td>\n",
       "    </tr>\n",
       "    <tr>\n",
       "      <th>3</th>\n",
       "      <td>You saudias are not friends of Muslim idiots c...</td>\n",
       "      <td>hateful</td>\n",
       "      <td>Religion</td>\n",
       "    </tr>\n",
       "    <tr>\n",
       "      <th>4</th>\n",
       "      <td>@JaydenT2399 @TractorLaw @holmes_gael @erconge...</td>\n",
       "      <td>hateful</td>\n",
       "      <td>Religion</td>\n",
       "    </tr>\n",
       "    <tr>\n",
       "      <th>5</th>\n",
       "      <td>@areyalldizzy @soobroll wait its so bad………. th...</td>\n",
       "      <td>hateful</td>\n",
       "      <td>Race/Ethnicity</td>\n",
       "    </tr>\n",
       "  </tbody>\n",
       "</table>\n",
       "</div>"
      ],
      "text/plain": [
       "                                                text    class aspect(category)\n",
       "0  @ZubearSays Any real nigga isn't letting this ...  hateful   Race/Ethnicity\n",
       "2        the only thing i wish, i wish a nigga would  hateful   Race/Ethnicity\n",
       "3  You saudias are not friends of Muslim idiots c...  hateful         Religion\n",
       "4  @JaydenT2399 @TractorLaw @holmes_gael @erconge...  hateful         Religion\n",
       "5  @areyalldizzy @soobroll wait its so bad………. th...  hateful   Race/Ethnicity"
      ]
     },
     "execution_count": 248,
     "metadata": {},
     "output_type": "execute_result"
    }
   ],
   "source": [
    "df3['class'] = 'hateful'\n",
    "df3 = df3[['text', 'class', 'aspect(category)']]\n",
    "df3.head()"
   ]
  },
  {
   "cell_type": "markdown",
   "metadata": {},
   "source": [
    "-------------"
   ]
  },
  {
   "cell_type": "markdown",
   "metadata": {},
   "source": [
    "## Merging of datasets"
   ]
  },
  {
   "cell_type": "code",
   "execution_count": 249,
   "metadata": {},
   "outputs": [
    {
     "data": {
      "text/html": [
       "<div>\n",
       "<style scoped>\n",
       "    .dataframe tbody tr th:only-of-type {\n",
       "        vertical-align: middle;\n",
       "    }\n",
       "\n",
       "    .dataframe tbody tr th {\n",
       "        vertical-align: top;\n",
       "    }\n",
       "\n",
       "    .dataframe thead th {\n",
       "        text-align: right;\n",
       "    }\n",
       "</style>\n",
       "<table border=\"1\" class=\"dataframe\">\n",
       "  <thead>\n",
       "    <tr style=\"text-align: right;\">\n",
       "      <th></th>\n",
       "      <th>text</th>\n",
       "      <th>class</th>\n",
       "      <th>aspect(category)</th>\n",
       "    </tr>\n",
       "  </thead>\n",
       "  <tbody>\n",
       "    <tr>\n",
       "      <th>0</th>\n",
       "      <td>@user when a father is dysfunctional and is s...</td>\n",
       "      <td>normal</td>\n",
       "      <td></td>\n",
       "    </tr>\n",
       "    <tr>\n",
       "      <th>1</th>\n",
       "      <td>@user @user thanks for #lyft credit i can't us...</td>\n",
       "      <td>normal</td>\n",
       "      <td></td>\n",
       "    </tr>\n",
       "    <tr>\n",
       "      <th>2</th>\n",
       "      <td>bihday your majesty</td>\n",
       "      <td>normal</td>\n",
       "      <td></td>\n",
       "    </tr>\n",
       "    <tr>\n",
       "      <th>3</th>\n",
       "      <td>#model   i love u take with u all the time in ...</td>\n",
       "      <td>normal</td>\n",
       "      <td></td>\n",
       "    </tr>\n",
       "    <tr>\n",
       "      <th>4</th>\n",
       "      <td>factsguide: society now    #motivation</td>\n",
       "      <td>normal</td>\n",
       "      <td></td>\n",
       "    </tr>\n",
       "  </tbody>\n",
       "</table>\n",
       "</div>"
      ],
      "text/plain": [
       "                                                text   class aspect(category)\n",
       "0   @user when a father is dysfunctional and is s...  normal                 \n",
       "1  @user @user thanks for #lyft credit i can't us...  normal                 \n",
       "2                                bihday your majesty  normal                 \n",
       "3  #model   i love u take with u all the time in ...  normal                 \n",
       "4             factsguide: society now    #motivation  normal                 "
      ]
     },
     "execution_count": 249,
     "metadata": {},
     "output_type": "execute_result"
    }
   ],
   "source": [
    "df = pd.concat([df1, df2, df3])\n",
    "df.head()"
   ]
  },
  {
   "cell_type": "code",
   "execution_count": 250,
   "metadata": {},
   "outputs": [
    {
     "data": {
      "text/plain": [
       "class\n",
       "hateful    52643\n",
       "normal     29720\n",
       "Name: count, dtype: int64"
      ]
     },
     "execution_count": 250,
     "metadata": {},
     "output_type": "execute_result"
    }
   ],
   "source": [
    "df['class'].value_counts()"
   ]
  },
  {
   "cell_type": "code",
   "execution_count": 251,
   "metadata": {},
   "outputs": [
    {
     "data": {
      "text/plain": [
       "aspect(category)\n",
       "                      29720\n",
       "Race/Ethnicity        19242\n",
       "Gender/Sexual         17098\n",
       "Religion              15995\n",
       "Origin/Nationality      205\n",
       "Disability               59\n",
       "Name: count, dtype: int64"
      ]
     },
     "execution_count": 251,
     "metadata": {},
     "output_type": "execute_result"
    }
   ],
   "source": [
    "df['aspect(category)'].value_counts()"
   ]
  },
  {
   "cell_type": "code",
   "execution_count": 252,
   "metadata": {},
   "outputs": [
    {
     "data": {
      "text/html": [
       "<div>\n",
       "<style scoped>\n",
       "    .dataframe tbody tr th:only-of-type {\n",
       "        vertical-align: middle;\n",
       "    }\n",
       "\n",
       "    .dataframe tbody tr th {\n",
       "        vertical-align: top;\n",
       "    }\n",
       "\n",
       "    .dataframe thead th {\n",
       "        text-align: right;\n",
       "    }\n",
       "</style>\n",
       "<table border=\"1\" class=\"dataframe\">\n",
       "  <thead>\n",
       "    <tr style=\"text-align: right;\">\n",
       "      <th></th>\n",
       "      <th>text</th>\n",
       "      <th>class</th>\n",
       "      <th>aspect(category)</th>\n",
       "    </tr>\n",
       "  </thead>\n",
       "  <tbody>\n",
       "    <tr>\n",
       "      <th>0</th>\n",
       "      <td>@user when a father is dysfunctional and is s...</td>\n",
       "      <td>normal</td>\n",
       "      <td></td>\n",
       "    </tr>\n",
       "    <tr>\n",
       "      <th>13</th>\n",
       "      <td>@user #cnn calls #michigan middle school 'buil...</td>\n",
       "      <td>hateful</td>\n",
       "      <td>Race/Ethnicity</td>\n",
       "    </tr>\n",
       "    <tr>\n",
       "      <th>16</th>\n",
       "      <td>@user Are you okay with giving benefits to ill...</td>\n",
       "      <td>hateful</td>\n",
       "      <td>Origin/Nationality</td>\n",
       "    </tr>\n",
       "    <tr>\n",
       "      <th>38</th>\n",
       "      <td>@user Yes retarded not me your leader the pape...</td>\n",
       "      <td>hateful</td>\n",
       "      <td>Disability</td>\n",
       "    </tr>\n",
       "    <tr>\n",
       "      <th>170</th>\n",
       "      <td>I'm sick of seeing your face on my news feed y...</td>\n",
       "      <td>hateful</td>\n",
       "      <td>NaN</td>\n",
       "    </tr>\n",
       "    <tr>\n",
       "      <th>219</th>\n",
       "      <td>@user It\\u2019s better than being a faggot</td>\n",
       "      <td>hateful</td>\n",
       "      <td>Gender/Sexual</td>\n",
       "    </tr>\n",
       "    <tr>\n",
       "      <th>940</th>\n",
       "      <td>casuallyfantastic2001: realisticrecovery: anyw...</td>\n",
       "      <td>hateful</td>\n",
       "      <td>Religion</td>\n",
       "    </tr>\n",
       "  </tbody>\n",
       "</table>\n",
       "</div>"
      ],
      "text/plain": [
       "                                                  text    class  \\\n",
       "0     @user when a father is dysfunctional and is s...   normal   \n",
       "13   @user #cnn calls #michigan middle school 'buil...  hateful   \n",
       "16   @user Are you okay with giving benefits to ill...  hateful   \n",
       "38   @user Yes retarded not me your leader the pape...  hateful   \n",
       "170  I'm sick of seeing your face on my news feed y...  hateful   \n",
       "219         @user It\\u2019s better than being a faggot  hateful   \n",
       "940  casuallyfantastic2001: realisticrecovery: anyw...  hateful   \n",
       "\n",
       "       aspect(category)  \n",
       "0                        \n",
       "13       Race/Ethnicity  \n",
       "16   Origin/Nationality  \n",
       "38           Disability  \n",
       "170                 NaN  \n",
       "219       Gender/Sexual  \n",
       "940            Religion  "
      ]
     },
     "execution_count": 252,
     "metadata": {},
     "output_type": "execute_result"
    }
   ],
   "source": [
    "df.drop_duplicates(subset=['class', 'aspect(category)'])[['text', 'class', 'aspect(category)']]"
   ]
  },
  {
   "cell_type": "code",
   "execution_count": 253,
   "metadata": {},
   "outputs": [],
   "source": [
    "df.to_csv(f\"G:/My Drive/Hate Speech_Multilingual/datasets/English_Curated_Dataset/english_curated(multi).csv\", index=False)"
   ]
  },
  {
   "cell_type": "code",
   "execution_count": 254,
   "metadata": {},
   "outputs": [],
   "source": [
    "df.to_csv(f\"english_curated(multi).csv\", index=False)"
   ]
  }
 ],
 "metadata": {
  "kernelspec": {
   "display_name": "base",
   "language": "python",
   "name": "python3"
  },
  "language_info": {
   "codemirror_mode": {
    "name": "ipython",
    "version": 3
   },
   "file_extension": ".py",
   "mimetype": "text/x-python",
   "name": "python",
   "nbconvert_exporter": "python",
   "pygments_lexer": "ipython3",
   "version": "3.9.13"
  },
  "vscode": {
   "interpreter": {
    "hash": "57bc2b6ce032b5f0e93daa91901b7ea38a856826ef43aa9e95b6d3999f5310df"
   }
  }
 },
 "nbformat": 4,
 "nbformat_minor": 2
}
