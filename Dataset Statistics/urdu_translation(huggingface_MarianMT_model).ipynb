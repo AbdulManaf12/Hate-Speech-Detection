{
 "cells": [
  {
   "cell_type": "code",
   "execution_count": null,
   "metadata": {},
   "outputs": [],
   "source": [
    "!pip install transformers\n",
    "!pip install sentencepiece\n",
    "!pip install sacremoses"
   ]
  },
  {
   "cell_type": "code",
   "execution_count": 1,
   "metadata": {},
   "outputs": [],
   "source": [
    "import pandas as pd\n",
    "from tqdm import tqdm\n",
    "from transformers import MarianMTModel, MarianTokenizer\n",
    "\n",
    "model_name = '  '\n",
    "tokenizer = MarianTokenizer.from_pretrained(model_name)\n",
    "model = MarianMTModel.from_pretrained(model_name)\n",
    "\n",
    "def translate_text(text, model, tokenizer):\n",
    "    inputs = tokenizer.encode(text, return_tensors=\"pt\", padding=True, truncation=True)\n",
    "    translated = model.generate(inputs, max_length=512)\n",
    "    return tokenizer.decode(translated[0], skip_special_tokens=True)"
   ]
  },
  {
   "cell_type": "code",
   "execution_count": 6,
   "metadata": {},
   "outputs": [
    {
     "data": {
      "text/plain": [
       "'@NNy_m. کیا اب ہم مُقدس ممالک کا کہنا ماننے کی اجازت دے رہے ہیں؟ کیا ہم یہ کہنے کی اجازت دے رہے ہیں کہ ہم کیسے ہیں'"
      ]
     },
     "execution_count": 6,
     "metadata": {},
     "output_type": "execute_result"
    }
   ],
   "source": [
    "translate_text('@user @user Btw. Are we now allowed to say \\shithole\\ countries? Are we also allowed to say how wes\\u2026 @URL', model, tokenizer)"
   ]
  },
  {
   "cell_type": "code",
   "execution_count": 7,
   "metadata": {},
   "outputs": [
    {
     "data": {
      "text/plain": [
       "'یہ واقعی غیر یقینی طور پر مجھے قتل کر رہا ہے جب لوگ سچ میں یہ کہتے ہیں کہ \"وہ\" ہے'"
      ]
     },
     "execution_count": 7,
     "metadata": {},
     "output_type": "execute_result"
    }
   ],
   "source": [
    "translate_text('it truly fucking BAFFLES me when people genuinely fucking think that saying \\u201cching chong ling lang ding\\u201d is actuall\\u2026 @URL', model, tokenizer)"
   ]
  },
  {
   "cell_type": "code",
   "execution_count": 8,
   "metadata": {},
   "outputs": [
    {
     "data": {
      "text/plain": [
       "'یہ وہ چیز ہے جو ایک گندگی ملک میں واقع ہو رہی ہے۔'"
      ]
     },
     "execution_count": 8,
     "metadata": {},
     "output_type": "execute_result"
    }
   ],
   "source": [
    "translate_text('This is the sort of thing that happens in a shithole country. @URL', model, tokenizer)"
   ]
  },
  {
   "cell_type": "code",
   "execution_count": null,
   "metadata": {},
   "outputs": [],
   "source": [
    "df = pd.read_csv(r'G:\\My Drive\\Hate Speech_Multilingual\\Code\\Dataset Statistics\\english_curated(multi).csv')\n",
    "\n",
    "total_rows = len(df)\n",
    "with tqdm(total=total_rows, desc=\"Translating\") as pbar:\n",
    "    for index, row in df.iterrows():\n",
    "        text = row['text']\n",
    "        translated_text = translate_text(text, model, tokenizer)\n",
    "        df.at[index, 'translated_text'] = translated_text   \n",
    "        pbar.update(1) "
   ]
  },
  {
   "cell_type": "code",
   "execution_count": 12,
   "metadata": {},
   "outputs": [
    {
     "data": {
      "text/plain": [
       "0         اگر امریکہ کے ایک اور 8 سال کی ہے تو ہم ایک گن...\n",
       "1         @s_un soo انتہائی پریشان ہے ہر کوئی ایسا محسوس...\n",
       "2         @وہنراساسسس نے ایک تصویر روشن کرنے والے بچے کو...\n",
       "3         @Ny_m: کیا اب ہم مُقدس ممالک کا کہنا ماننے کی ...\n",
       "4         @Iy'S اب بھی ایک تلخ ہمت ہوئی. اتنی زیادہ دلچس...\n",
       "                                ...                        \n",
       "131644                                                  nan\n",
       "131645                                                  nan\n",
       "131646                                                  nan\n",
       "131647                                                  nan\n",
       "131648                                                  nan\n",
       "Name: translated_text, Length: 131649, dtype: object"
      ]
     },
     "execution_count": 12,
     "metadata": {},
     "output_type": "execute_result"
    }
   ],
   "source": [
    "df['translated_text']"
   ]
  },
  {
   "cell_type": "code",
   "execution_count": 17,
   "metadata": {},
   "outputs": [
    {
     "data": {
      "text/plain": [
       "101136"
      ]
     },
     "execution_count": 17,
     "metadata": {},
     "output_type": "execute_result"
    }
   ],
   "source": [
    "len(df[df['translated_text'] == 'nan'])"
   ]
  },
  {
   "cell_type": "code",
   "execution_count": 22,
   "metadata": {},
   "outputs": [],
   "source": [
    "new_df = df[df['translated_text'] == 'nan']"
   ]
  },
  {
   "cell_type": "markdown",
   "metadata": {},
   "source": [
    "#### NOTE: Due to sequentially translation on one node, I just break this one big file into 3 sub file inorder to use multiple nodes"
   ]
  },
  {
   "cell_type": "code",
   "execution_count": 27,
   "metadata": {},
   "outputs": [],
   "source": [
    "part0 = new_df[:30000]\n",
    "part1 = new_df[30000:62000]\n",
    "part2 = new_df[62000:]"
   ]
  },
  {
   "cell_type": "code",
   "execution_count": 24,
   "metadata": {},
   "outputs": [
    {
     "data": {
      "text/plain": [
       "(32000, 39136)"
      ]
     },
     "execution_count": 24,
     "metadata": {},
     "output_type": "execute_result"
    }
   ],
   "source": [
    "len(part1), len(part2)"
   ]
  },
  {
   "cell_type": "code",
   "execution_count": 26,
   "metadata": {},
   "outputs": [],
   "source": [
    "part1.to_csv(\"part1.csv\")\n",
    "part2.to_csv(\"part2.csv\")"
   ]
  },
  {
   "cell_type": "code",
   "execution_count": 28,
   "metadata": {},
   "outputs": [
    {
     "name": "stderr",
     "output_type": "stream",
     "text": [
      "Translating: 100%|██████████| 30000/30000 [9:33:45<00:00,  1.15s/it]   \n"
     ]
    }
   ],
   "source": [
    "total_rows = len(part0)\n",
    "with tqdm(total=total_rows, desc=\"Translating\") as pbar:\n",
    "    for index, row in part0.iterrows():\n",
    "        text = row['text']\n",
    "        translated_text = translate_text(text, model, tokenizer)\n",
    "        part0.at[index, 'translated_text'] = translated_text   \n",
    "        pbar.update(1) "
   ]
  },
  {
   "cell_type": "code",
   "execution_count": 29,
   "metadata": {},
   "outputs": [
    {
     "data": {
      "text/html": [
       "<div>\n",
       "<style scoped>\n",
       "    .dataframe tbody tr th:only-of-type {\n",
       "        vertical-align: middle;\n",
       "    }\n",
       "\n",
       "    .dataframe tbody tr th {\n",
       "        vertical-align: top;\n",
       "    }\n",
       "\n",
       "    .dataframe thead th {\n",
       "        text-align: right;\n",
       "    }\n",
       "</style>\n",
       "<table border=\"1\" class=\"dataframe\">\n",
       "  <thead>\n",
       "    <tr style=\"text-align: right;\">\n",
       "      <th></th>\n",
       "      <th>text</th>\n",
       "      <th>class</th>\n",
       "      <th>Disability</th>\n",
       "      <th>Gender/Sexual</th>\n",
       "      <th>Origin/Nationality</th>\n",
       "      <th>Race/Ethnicity</th>\n",
       "      <th>Religion</th>\n",
       "      <th>translated_text</th>\n",
       "    </tr>\n",
       "  </thead>\n",
       "  <tbody>\n",
       "    <tr>\n",
       "      <th>30513</th>\n",
       "      <td>The I in my name stand for, I will kill YOU ht...</td>\n",
       "      <td>0</td>\n",
       "      <td>0</td>\n",
       "      <td>0</td>\n",
       "      <td>0</td>\n",
       "      <td>0</td>\n",
       "      <td>0</td>\n",
       "      <td>میں اپنے نام کے لئے کھڑے ہوں، میں آپ کو قتل کر...</td>\n",
       "    </tr>\n",
       "    <tr>\n",
       "      <th>30514</th>\n",
       "      <td>Mudafucker, I'm writing you now to reply me or...</td>\n",
       "      <td>1</td>\n",
       "      <td>0</td>\n",
       "      <td>0</td>\n",
       "      <td>0</td>\n",
       "      <td>0</td>\n",
       "      <td>1</td>\n",
       "      <td>مَیں آپ کو یہ جواب دینے کے لئے لکھ رہا ہوں کہ ...</td>\n",
       "    </tr>\n",
       "    <tr>\n",
       "      <th>30515</th>\n",
       "      <td>@POTUS Scholz in Biden and Nuland's little bit...</td>\n",
       "      <td>1</td>\n",
       "      <td>0</td>\n",
       "      <td>1</td>\n",
       "      <td>0</td>\n",
       "      <td>0</td>\n",
       "      <td>0</td>\n",
       "      <td>@OOOOss اور مالا کی چھوٹی سی کتیا کو بچہ ہونے ...</td>\n",
       "    </tr>\n",
       "    <tr>\n",
       "      <th>30516</th>\n",
       "      <td>I ain’t got time for Nigger Knockers https://t...</td>\n",
       "      <td>1</td>\n",
       "      <td>0</td>\n",
       "      <td>0</td>\n",
       "      <td>0</td>\n",
       "      <td>1</td>\n",
       "      <td>0</td>\n",
       "      <td>میں نے ابھی وقت نہیں ملا تھا.</td>\n",
       "    </tr>\n",
       "    <tr>\n",
       "      <th>30517</th>\n",
       "      <td>@DrGuru_ When was Giannis a Center and his num...</td>\n",
       "      <td>0</td>\n",
       "      <td>0</td>\n",
       "      <td>0</td>\n",
       "      <td>0</td>\n",
       "      <td>0</td>\n",
       "      <td>0</td>\n",
       "      <td>@ReallyVirtual_بُس وقت ایک سینٹر تھا اور اس کی...</td>\n",
       "    </tr>\n",
       "  </tbody>\n",
       "</table>\n",
       "</div>"
      ],
      "text/plain": [
       "                                                    text  class  Disability  \\\n",
       "30513  The I in my name stand for, I will kill YOU ht...      0           0   \n",
       "30514  Mudafucker, I'm writing you now to reply me or...      1           0   \n",
       "30515  @POTUS Scholz in Biden and Nuland's little bit...      1           0   \n",
       "30516  I ain’t got time for Nigger Knockers https://t...      1           0   \n",
       "30517  @DrGuru_ When was Giannis a Center and his num...      0           0   \n",
       "\n",
       "       Gender/Sexual  Origin/Nationality  Race/Ethnicity  Religion  \\\n",
       "30513              0                   0               0         0   \n",
       "30514              0                   0               0         1   \n",
       "30515              1                   0               0         0   \n",
       "30516              0                   0               1         0   \n",
       "30517              0                   0               0         0   \n",
       "\n",
       "                                         translated_text  \n",
       "30513  میں اپنے نام کے لئے کھڑے ہوں، میں آپ کو قتل کر...  \n",
       "30514  مَیں آپ کو یہ جواب دینے کے لئے لکھ رہا ہوں کہ ...  \n",
       "30515  @OOOOss اور مالا کی چھوٹی سی کتیا کو بچہ ہونے ...  \n",
       "30516                      میں نے ابھی وقت نہیں ملا تھا.  \n",
       "30517  @ReallyVirtual_بُس وقت ایک سینٹر تھا اور اس کی...  "
      ]
     },
     "execution_count": 29,
     "metadata": {},
     "output_type": "execute_result"
    }
   ],
   "source": [
    "part0.head()"
   ]
  },
  {
   "cell_type": "code",
   "execution_count": 30,
   "metadata": {},
   "outputs": [],
   "source": [
    "part0.to_csv(\"part0.csv\")"
   ]
  },
  {
   "cell_type": "code",
   "execution_count": 31,
   "metadata": {},
   "outputs": [
    {
     "data": {
      "text/html": [
       "<div>\n",
       "<style scoped>\n",
       "    .dataframe tbody tr th:only-of-type {\n",
       "        vertical-align: middle;\n",
       "    }\n",
       "\n",
       "    .dataframe tbody tr th {\n",
       "        vertical-align: top;\n",
       "    }\n",
       "\n",
       "    .dataframe thead th {\n",
       "        text-align: right;\n",
       "    }\n",
       "</style>\n",
       "<table border=\"1\" class=\"dataframe\">\n",
       "  <thead>\n",
       "    <tr style=\"text-align: right;\">\n",
       "      <th></th>\n",
       "      <th>text</th>\n",
       "      <th>class</th>\n",
       "      <th>Disability</th>\n",
       "      <th>Gender/Sexual</th>\n",
       "      <th>Origin/Nationality</th>\n",
       "      <th>Race/Ethnicity</th>\n",
       "      <th>Religion</th>\n",
       "      <th>translated_text</th>\n",
       "    </tr>\n",
       "  </thead>\n",
       "  <tbody>\n",
       "    <tr>\n",
       "      <th>0</th>\n",
       "      <td>If America had another 8 years of Obama's ideo...</td>\n",
       "      <td>1</td>\n",
       "      <td>0</td>\n",
       "      <td>0</td>\n",
       "      <td>1</td>\n",
       "      <td>0</td>\n",
       "      <td>0</td>\n",
       "      <td>اگر امریکہ کے ایک اور 8 سال کی ہے تو ہم ایک گن...</td>\n",
       "    </tr>\n",
       "    <tr>\n",
       "      <th>1</th>\n",
       "      <td>@user queue is fucking retarded it makes every...</td>\n",
       "      <td>1</td>\n",
       "      <td>1</td>\n",
       "      <td>0</td>\n",
       "      <td>0</td>\n",
       "      <td>0</td>\n",
       "      <td>0</td>\n",
       "      <td>@s_un soo انتہائی پریشان ہے ہر کوئی ایسا محسوس...</td>\n",
       "    </tr>\n",
       "    <tr>\n",
       "      <th>2</th>\n",
       "      <td>@user Que ce ne soit pas des Burundais refugie...</td>\n",
       "      <td>1</td>\n",
       "      <td>0</td>\n",
       "      <td>0</td>\n",
       "      <td>1</td>\n",
       "      <td>0</td>\n",
       "      <td>0</td>\n",
       "      <td>@وہنراساسسس نے ایک تصویر روشن کرنے والے بچے کو...</td>\n",
       "    </tr>\n",
       "    <tr>\n",
       "      <th>3</th>\n",
       "      <td>@user @user Btw. Are we now allowed to say \\sh...</td>\n",
       "      <td>0</td>\n",
       "      <td>0</td>\n",
       "      <td>0</td>\n",
       "      <td>0</td>\n",
       "      <td>0</td>\n",
       "      <td>0</td>\n",
       "      <td>@Ny_m: کیا اب ہم مُقدس ممالک کا کہنا ماننے کی ...</td>\n",
       "    </tr>\n",
       "    <tr>\n",
       "      <th>4</th>\n",
       "      <td>@user Still a bitter cunt. Why so much interes...</td>\n",
       "      <td>1</td>\n",
       "      <td>0</td>\n",
       "      <td>1</td>\n",
       "      <td>0</td>\n",
       "      <td>0</td>\n",
       "      <td>0</td>\n",
       "      <td>@Iy'S اب بھی ایک تلخ ہمت ہوئی. اتنی زیادہ دلچس...</td>\n",
       "    </tr>\n",
       "  </tbody>\n",
       "</table>\n",
       "</div>"
      ],
      "text/plain": [
       "                                                text  class  Disability  \\\n",
       "0  If America had another 8 years of Obama's ideo...      1           0   \n",
       "1  @user queue is fucking retarded it makes every...      1           1   \n",
       "2  @user Que ce ne soit pas des Burundais refugie...      1           0   \n",
       "3  @user @user Btw. Are we now allowed to say \\sh...      0           0   \n",
       "4  @user Still a bitter cunt. Why so much interes...      1           0   \n",
       "\n",
       "   Gender/Sexual  Origin/Nationality  Race/Ethnicity  Religion  \\\n",
       "0              0                   1               0         0   \n",
       "1              0                   0               0         0   \n",
       "2              0                   1               0         0   \n",
       "3              0                   0               0         0   \n",
       "4              1                   0               0         0   \n",
       "\n",
       "                                     translated_text  \n",
       "0  اگر امریکہ کے ایک اور 8 سال کی ہے تو ہم ایک گن...  \n",
       "1  @s_un soo انتہائی پریشان ہے ہر کوئی ایسا محسوس...  \n",
       "2  @وہنراساسسس نے ایک تصویر روشن کرنے والے بچے کو...  \n",
       "3  @Ny_m: کیا اب ہم مُقدس ممالک کا کہنا ماننے کی ...  \n",
       "4  @Iy'S اب بھی ایک تلخ ہمت ہوئی. اتنی زیادہ دلچس...  "
      ]
     },
     "execution_count": 31,
     "metadata": {},
     "output_type": "execute_result"
    }
   ],
   "source": [
    "df.head()"
   ]
  },
  {
   "cell_type": "code",
   "execution_count": 32,
   "metadata": {},
   "outputs": [],
   "source": [
    "df.to_csv(\"english_curated(multi)_translated.csv\")"
   ]
  },
  {
   "attachments": {},
   "cell_type": "markdown",
   "metadata": {},
   "source": [
    "### merging all parts of dataset from different systems "
   ]
  },
  {
   "cell_type": "markdown",
   "metadata": {},
   "source": [
    "After, the translation completed over multiple nodes, all files merge together back."
   ]
  },
  {
   "cell_type": "code",
   "execution_count": 45,
   "metadata": {},
   "outputs": [],
   "source": [
    "import pandas as pd\n",
    "\n",
    "df1 = df[df['translated_text'] != 'nan']\n",
    "df2 = pd.read_csv('part0.csv')\n",
    "df3 = pd.read_csv('part1(translated).csv')\n",
    "df4 = pd.read_csv('part2(translated).csv')"
   ]
  },
  {
   "cell_type": "code",
   "execution_count": 46,
   "metadata": {},
   "outputs": [
    {
     "data": {
      "text/plain": [
       "(30513, 30000, 32000, 39136)"
      ]
     },
     "execution_count": 46,
     "metadata": {},
     "output_type": "execute_result"
    }
   ],
   "source": [
    "len(df1), len(df2), len(df3), len(df4)"
   ]
  },
  {
   "cell_type": "code",
   "execution_count": null,
   "metadata": {},
   "outputs": [],
   "source": [
    "merged_df = pd.concat([df1, df2, df3, df4], ignore_index=True)"
   ]
  },
  {
   "cell_type": "code",
   "execution_count": 49,
   "metadata": {},
   "outputs": [
    {
     "data": {
      "text/plain": [
       "Index(['text', 'class', 'Disability', 'Gender/Sexual', 'Origin/Nationality',\n",
       "       'Race/Ethnicity', 'Religion', 'translated_text', 'Unnamed: 0',\n",
       "       'Unnamed: 0.1'],\n",
       "      dtype='object')"
      ]
     },
     "execution_count": 49,
     "metadata": {},
     "output_type": "execute_result"
    }
   ],
   "source": [
    "merged_df.columns"
   ]
  },
  {
   "cell_type": "code",
   "execution_count": null,
   "metadata": {},
   "outputs": [],
   "source": [
    "merged_df = merged_df[['text',  'translated_text', 'class', 'Disability', 'Gender/Sexual', 'Origin/Nationality',\n",
    "       'Race/Ethnicity', 'Religion'] ]\n",
    "\n",
    "merged_df.columns = ['english_text',  'urdu_text', 'class', 'Disability', 'Gender/Sexual', 'Origin/Nationality',\n",
    "       'Race/Ethnicity', 'Religion']"
   ]
  },
  {
   "cell_type": "code",
   "execution_count": 50,
   "metadata": {},
   "outputs": [],
   "source": [
    "merged_df.to_csv('english_urdu_curated_and_translated.csv', index=False)"
   ]
  },
  {
   "cell_type": "code",
   "execution_count": 51,
   "metadata": {},
   "outputs": [
    {
     "data": {
      "text/plain": [
       "(131649, 131649)"
      ]
     },
     "execution_count": 51,
     "metadata": {},
     "output_type": "execute_result"
    }
   ],
   "source": [
    "old  = pd.read_csv('english_curated(multi).csv')\n",
    "new = pd.read_csv('english_urdu_curated_and_translated.csv')\n",
    "\n",
    "len(old), len(new)"
   ]
  },
  {
   "cell_type": "code",
   "execution_count": 52,
   "metadata": {},
   "outputs": [
    {
     "data": {
      "text/html": [
       "<div>\n",
       "<style scoped>\n",
       "    .dataframe tbody tr th:only-of-type {\n",
       "        vertical-align: middle;\n",
       "    }\n",
       "\n",
       "    .dataframe tbody tr th {\n",
       "        vertical-align: top;\n",
       "    }\n",
       "\n",
       "    .dataframe thead th {\n",
       "        text-align: right;\n",
       "    }\n",
       "</style>\n",
       "<table border=\"1\" class=\"dataframe\">\n",
       "  <thead>\n",
       "    <tr style=\"text-align: right;\">\n",
       "      <th></th>\n",
       "      <th>text</th>\n",
       "      <th>class</th>\n",
       "      <th>Disability</th>\n",
       "      <th>Gender/Sexual</th>\n",
       "      <th>Origin/Nationality</th>\n",
       "      <th>Race/Ethnicity</th>\n",
       "      <th>Religion</th>\n",
       "    </tr>\n",
       "  </thead>\n",
       "  <tbody>\n",
       "    <tr>\n",
       "      <th>0</th>\n",
       "      <td>If America had another 8 years of Obama's ideo...</td>\n",
       "      <td>1</td>\n",
       "      <td>0</td>\n",
       "      <td>0</td>\n",
       "      <td>1</td>\n",
       "      <td>0</td>\n",
       "      <td>0</td>\n",
       "    </tr>\n",
       "    <tr>\n",
       "      <th>1</th>\n",
       "      <td>@user queue is fucking retarded it makes every...</td>\n",
       "      <td>1</td>\n",
       "      <td>1</td>\n",
       "      <td>0</td>\n",
       "      <td>0</td>\n",
       "      <td>0</td>\n",
       "      <td>0</td>\n",
       "    </tr>\n",
       "    <tr>\n",
       "      <th>2</th>\n",
       "      <td>@user Que ce ne soit pas des Burundais refugie...</td>\n",
       "      <td>1</td>\n",
       "      <td>0</td>\n",
       "      <td>0</td>\n",
       "      <td>1</td>\n",
       "      <td>0</td>\n",
       "      <td>0</td>\n",
       "    </tr>\n",
       "    <tr>\n",
       "      <th>3</th>\n",
       "      <td>@user @user Btw. Are we now allowed to say \\sh...</td>\n",
       "      <td>0</td>\n",
       "      <td>0</td>\n",
       "      <td>0</td>\n",
       "      <td>0</td>\n",
       "      <td>0</td>\n",
       "      <td>0</td>\n",
       "    </tr>\n",
       "    <tr>\n",
       "      <th>4</th>\n",
       "      <td>@user Still a bitter cunt. Why so much interes...</td>\n",
       "      <td>1</td>\n",
       "      <td>0</td>\n",
       "      <td>1</td>\n",
       "      <td>0</td>\n",
       "      <td>0</td>\n",
       "      <td>0</td>\n",
       "    </tr>\n",
       "  </tbody>\n",
       "</table>\n",
       "</div>"
      ],
      "text/plain": [
       "                                                text  class  Disability  \\\n",
       "0  If America had another 8 years of Obama's ideo...      1           0   \n",
       "1  @user queue is fucking retarded it makes every...      1           1   \n",
       "2  @user Que ce ne soit pas des Burundais refugie...      1           0   \n",
       "3  @user @user Btw. Are we now allowed to say \\sh...      0           0   \n",
       "4  @user Still a bitter cunt. Why so much interes...      1           0   \n",
       "\n",
       "   Gender/Sexual  Origin/Nationality  Race/Ethnicity  Religion  \n",
       "0              0                   1               0         0  \n",
       "1              0                   0               0         0  \n",
       "2              0                   1               0         0  \n",
       "3              0                   0               0         0  \n",
       "4              1                   0               0         0  "
      ]
     },
     "execution_count": 52,
     "metadata": {},
     "output_type": "execute_result"
    }
   ],
   "source": [
    "old.head()"
   ]
  },
  {
   "cell_type": "code",
   "execution_count": 53,
   "metadata": {},
   "outputs": [
    {
     "data": {
      "text/html": [
       "<div>\n",
       "<style scoped>\n",
       "    .dataframe tbody tr th:only-of-type {\n",
       "        vertical-align: middle;\n",
       "    }\n",
       "\n",
       "    .dataframe tbody tr th {\n",
       "        vertical-align: top;\n",
       "    }\n",
       "\n",
       "    .dataframe thead th {\n",
       "        text-align: right;\n",
       "    }\n",
       "</style>\n",
       "<table border=\"1\" class=\"dataframe\">\n",
       "  <thead>\n",
       "    <tr style=\"text-align: right;\">\n",
       "      <th></th>\n",
       "      <th>english_text</th>\n",
       "      <th>urdu_text</th>\n",
       "      <th>class</th>\n",
       "      <th>Disability</th>\n",
       "      <th>Gender/Sexual</th>\n",
       "      <th>Origin/Nationality</th>\n",
       "      <th>Race/Ethnicity</th>\n",
       "      <th>Religion</th>\n",
       "    </tr>\n",
       "  </thead>\n",
       "  <tbody>\n",
       "    <tr>\n",
       "      <th>0</th>\n",
       "      <td>If America had another 8 years of Obama's ideo...</td>\n",
       "      <td>اگر امریکہ کے ایک اور 8 سال کی ہے تو ہم ایک گن...</td>\n",
       "      <td>1</td>\n",
       "      <td>0</td>\n",
       "      <td>0</td>\n",
       "      <td>1</td>\n",
       "      <td>0</td>\n",
       "      <td>0</td>\n",
       "    </tr>\n",
       "    <tr>\n",
       "      <th>1</th>\n",
       "      <td>@user queue is fucking retarded it makes every...</td>\n",
       "      <td>@s_un soo انتہائی پریشان ہے ہر کوئی ایسا محسوس...</td>\n",
       "      <td>1</td>\n",
       "      <td>1</td>\n",
       "      <td>0</td>\n",
       "      <td>0</td>\n",
       "      <td>0</td>\n",
       "      <td>0</td>\n",
       "    </tr>\n",
       "    <tr>\n",
       "      <th>2</th>\n",
       "      <td>@user Que ce ne soit pas des Burundais refugie...</td>\n",
       "      <td>@وہنراساسسس نے ایک تصویر روشن کرنے والے بچے کو...</td>\n",
       "      <td>1</td>\n",
       "      <td>0</td>\n",
       "      <td>0</td>\n",
       "      <td>1</td>\n",
       "      <td>0</td>\n",
       "      <td>0</td>\n",
       "    </tr>\n",
       "    <tr>\n",
       "      <th>3</th>\n",
       "      <td>@user @user Btw. Are we now allowed to say \\sh...</td>\n",
       "      <td>@Ny_m: کیا اب ہم مُقدس ممالک کا کہنا ماننے کی ...</td>\n",
       "      <td>0</td>\n",
       "      <td>0</td>\n",
       "      <td>0</td>\n",
       "      <td>0</td>\n",
       "      <td>0</td>\n",
       "      <td>0</td>\n",
       "    </tr>\n",
       "    <tr>\n",
       "      <th>4</th>\n",
       "      <td>@user Still a bitter cunt. Why so much interes...</td>\n",
       "      <td>@Iy'S اب بھی ایک تلخ ہمت ہوئی. اتنی زیادہ دلچس...</td>\n",
       "      <td>1</td>\n",
       "      <td>0</td>\n",
       "      <td>1</td>\n",
       "      <td>0</td>\n",
       "      <td>0</td>\n",
       "      <td>0</td>\n",
       "    </tr>\n",
       "  </tbody>\n",
       "</table>\n",
       "</div>"
      ],
      "text/plain": [
       "                                        english_text  \\\n",
       "0  If America had another 8 years of Obama's ideo...   \n",
       "1  @user queue is fucking retarded it makes every...   \n",
       "2  @user Que ce ne soit pas des Burundais refugie...   \n",
       "3  @user @user Btw. Are we now allowed to say \\sh...   \n",
       "4  @user Still a bitter cunt. Why so much interes...   \n",
       "\n",
       "                                           urdu_text  class  Disability  \\\n",
       "0  اگر امریکہ کے ایک اور 8 سال کی ہے تو ہم ایک گن...      1           0   \n",
       "1  @s_un soo انتہائی پریشان ہے ہر کوئی ایسا محسوس...      1           1   \n",
       "2  @وہنراساسسس نے ایک تصویر روشن کرنے والے بچے کو...      1           0   \n",
       "3  @Ny_m: کیا اب ہم مُقدس ممالک کا کہنا ماننے کی ...      0           0   \n",
       "4  @Iy'S اب بھی ایک تلخ ہمت ہوئی. اتنی زیادہ دلچس...      1           0   \n",
       "\n",
       "   Gender/Sexual  Origin/Nationality  Race/Ethnicity  Religion  \n",
       "0              0                   1               0         0  \n",
       "1              0                   0               0         0  \n",
       "2              0                   1               0         0  \n",
       "3              0                   0               0         0  \n",
       "4              1                   0               0         0  "
      ]
     },
     "execution_count": 53,
     "metadata": {},
     "output_type": "execute_result"
    }
   ],
   "source": [
    "new.head()"
   ]
  }
 ],
 "metadata": {
  "kernelspec": {
   "display_name": "base",
   "language": "python",
   "name": "python3"
  },
  "language_info": {
   "codemirror_mode": {
    "name": "ipython",
    "version": 3
   },
   "file_extension": ".py",
   "mimetype": "text/x-python",
   "name": "python",
   "nbconvert_exporter": "python",
   "pygments_lexer": "ipython3",
   "version": "3.9.13"
  },
  "orig_nbformat": 4,
  "vscode": {
   "interpreter": {
    "hash": "57bc2b6ce032b5f0e93daa91901b7ea38a856826ef43aa9e95b6d3999f5310df"
   }
  }
 },
 "nbformat": 4,
 "nbformat_minor": 2
}
