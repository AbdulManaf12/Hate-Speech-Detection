{
 "cells": [
  {
   "cell_type": "code",
   "execution_count": 2,
   "metadata": {},
   "outputs": [],
   "source": [
    "import requests\n",
    "\n",
    "file = open(\"lingvanex_api_key.txt\", \"r\")\n",
    "api_key = file.read()\n",
    "file.close()\n",
    "\n",
    "def translate_text(text, from_lang, to_lang):\n",
    "    url = \"https://api-b2b.backenster.com/b1/api/v3/translate\"\n",
    "\n",
    "    payload = {\n",
    "        \"platform\": \"api\",\n",
    "        \"data\": text,\n",
    "        \"from\": from_lang,\n",
    "        \"to\": to_lang\n",
    "    }\n",
    "    \n",
    "    \n",
    "    headers = {\n",
    "        \"accept\": \"application/json\",\n",
    "        \"content-type\": \"application/json\",\n",
    "        \"Authorization\": api_key\n",
    "    }\n",
    "\n",
    "    response = requests.post(url, json=payload, headers=headers)\n",
    "\n",
    "    return response.json()"
   ]
  },
  {
   "cell_type": "code",
   "execution_count": 1,
   "metadata": {},
   "outputs": [
    {
     "name": "stdout",
     "output_type": "stream",
     "text": [
      "{\"err\":null,\"result\":\"هي اهڙي قسم جي شيءِ آهي جيڪا هڪ شيٿول ملڪ ۾ ٿئي ٿي.\"}\n"
     ]
    }
   ],
   "source": [
    "text_to_translate = \"This is the sort of thing that happens in a shithole country.\"\n",
    "translated_text = translate_text(text_to_translate, \"en\", \"sd\")\n",
    "print(translated_text)"
   ]
  },
  {
   "cell_type": "code",
   "execution_count": 3,
   "metadata": {},
   "outputs": [
    {
     "name": "stdout",
     "output_type": "stream",
     "text": [
      "{'err': None, 'result': 'اهو واقعي مون کي حيران ڪري ٿو جڏهن ماڻهو حقيقي طور تي اهو سوچيندا آهن ته “چنگ چانگ لنگ لنگ ڊنگ ڊڪ چوڻ واقعي آهي... @URL'}\n"
     ]
    }
   ],
   "source": [
    "text_to_translate = 'it truly fucking BAFFLES me when people genuinely fucking think that saying \\u201cching chong ling lang ding\\u201d is actuall\\u2026 @URL'\n",
    "\n",
    "translated_text = translate_text(text_to_translate, \"en\", \"sd\")\n",
    "print(translated_text)"
   ]
  }
 ],
 "metadata": {
  "kernelspec": {
   "display_name": "Python 3",
   "language": "python",
   "name": "python3"
  },
  "language_info": {
   "codemirror_mode": {
    "name": "ipython",
    "version": 3
   },
   "file_extension": ".py",
   "mimetype": "text/x-python",
   "name": "python",
   "nbconvert_exporter": "python",
   "pygments_lexer": "ipython3",
   "version": "3.9.13"
  }
 },
 "nbformat": 4,
 "nbformat_minor": 2
}
