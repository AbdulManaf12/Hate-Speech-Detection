{
 "cells": [
  {
   "cell_type": "code",
   "execution_count": 15,
   "metadata": {},
   "outputs": [],
   "source": [
    "#https://lingvanex.com/account/#b2b\n",
    "\n",
    "import requests\n",
    "\n",
    "file = open(\"G:\\My Drive\\Hate Speech_Multilingual\\Code\\Dataset Statistics\\lingvanex_api_key.txt\", \"r\")\n",
    "api_key = file.read()\n",
    "file.close()\n",
    "\n",
    "def translate_text(text, from_lang, to_lang):\n",
    "    url = \"https://api-b2b.backenster.com/b1/api/v3/translate\"\n",
    "\n",
    "    payload = {\n",
    "        \"platform\": \"api\",\n",
    "        \"data\": text,\n",
    "        \"from\": from_lang,\n",
    "        \"to\": to_lang\n",
    "    }\n",
    "    \n",
    "    \n",
    "    headers = {\n",
    "        \"accept\": \"application/json\",\n",
    "        \"content-type\": \"application/json\",\n",
    "        \"Authorization\": api_key\n",
    "    }\n",
    "\n",
    "    response = requests.post(url, json=payload, headers=headers)\n",
    "\n",
    "    return (response.json())['result']"
   ]
  },
  {
   "cell_type": "code",
   "execution_count": 2,
   "metadata": {},
   "outputs": [
    {
     "name": "stdout",
     "output_type": "stream",
     "text": [
      "هي اهڙي قسم جي شيءِ آهي جيڪا هڪ شيٿول ملڪ ۾ ٿئي ٿي.\n"
     ]
    }
   ],
   "source": [
    "text_to_translate = \"This is the sort of thing that happens in a shithole country.\"\n",
    "translated_text = translate_text(text_to_translate, \"en\", \"sd\")\n",
    "print(translated_text)"
   ]
  },
  {
   "cell_type": "code",
   "execution_count": 3,
   "metadata": {},
   "outputs": [
    {
     "name": "stdout",
     "output_type": "stream",
     "text": [
      "اهو واقعي مون کي حيران ڪري ٿو جڏهن ماڻهو حقيقي طور تي اهو سوچيندا آهن ته “چنگ چانگ لنگ لنگ ڊنگ ڊڪ چوڻ واقعي آهي... @URL\n"
     ]
    }
   ],
   "source": [
    "text_to_translate = 'it truly fucking BAFFLES me when people genuinely fucking think that saying \\u201cching chong ling lang ding\\u201d is actuall\\u2026 @URL'\n",
    "\n",
    "translated_text = translate_text(text_to_translate, \"en\", \"sd\")\n",
    "print(translated_text)"
   ]
  },
  {
   "cell_type": "code",
   "execution_count": 4,
   "metadata": {},
   "outputs": [
    {
     "name": "stdout",
     "output_type": "stream",
     "text": [
      "AI کان ٻاهر، منهنجي صلاحيتن کي پروگرامنگ، ۽ تحقيقي لکڻين تائين وڌايو. مون وٽ هڪ مضبوط بنياد آهي AI منصوبن کي جامع طريقي سان، مربوط حل پهچائڻ. اثرائتو تحقيق ۾ حصو وٺڻ جي باري ۾ پرجوش، مان تجربو جو مال ۽ AI ايپليڪيشنن جي حدن کي دٻائڻ جو عزم آڻيان ٿو.\n"
     ]
    }
   ],
   "source": [
    "text_to_translate = \"Beyond AI, my skills extend to programming, and research writing. I have a solid foundation to approach AI projects comprehensively, delivering integrated solutions. Excited about contributing to impactful research, I bring a wealth of experience and a commitment to pushing the boundaries of AI applications.\"\n",
    "translated_text = translate_text(text_to_translate, \"en\", \"sd\")\n",
    "print(translated_text)"
   ]
  },
  {
   "cell_type": "code",
   "execution_count": 22,
   "metadata": {},
   "outputs": [
    {
     "name": "stderr",
     "output_type": "stream",
     "text": [
      "Translating: 100%|██████████| 131649/131649 [00:06<00:00, 21147.23it/s]\n"
     ]
    }
   ],
   "source": [
    "import pandas as pd\n",
    "from tqdm import tqdm\n",
    "import os\n",
    "\n",
    "input_path = r'G:\\My Drive\\Hate Speech_Multilingual\\Code\\Dataset Statistics\\dataset\\english_urdu_curated_and_translated.csv'\n",
    "output_path = r'G:\\My Drive\\Hate Speech_Multilingual\\Code\\Dataset Statistics\\dataset\\english_urdu_sindhi_curated_and_translated(full).csv'\n",
    "\n",
    "def check_existing_output(output_path):\n",
    "    if os.path.exists(output_path):\n",
    "        return pd.read_csv(output_path)\n",
    "    else:\n",
    "        return None\n",
    "\n",
    "df_output = check_existing_output(output_path)\n",
    "if df_output is not None and 'sindhi_text' in df_output.columns and df_output['sindhi_text'].notna().any():\n",
    "    df = df_output \n",
    "else:\n",
    "    df = pd.read_csv(input_path)  \n",
    "    df['sindhi_text'] = '' \n",
    "    df = df[['english_text', 'urdu_text', 'sindhi_text', 'class', 'Disability', 'Gender/Sexual',\n",
    "       'Origin/Nationality', 'Race/Ethnicity', 'Religion']]\n",
    "\n",
    "total_rows = len(df)\n",
    "with tqdm(total=total_rows, desc=\"Translating\") as pbar:\n",
    "    for index, row in df.iterrows():\n",
    "        if pd.isna(row['sindhi_text']) or row['sindhi_text'] == '':\n",
    "            text = row['english_text']\n",
    "            try:\n",
    "                translated_text = translate_text(text, \"en\", \"sd\")\n",
    "            except Exception as e:\n",
    "                print(f\"Error translating text: {text} \\nTranslated text: {translate_text}\")\n",
    "                translated_text = ''\n",
    "            df.at[index, 'sindhi_text'] = translated_text\n",
    "        pbar.update(1)\n",
    "        if (index + 1) % 500 == 0:  \n",
    "            df.to_csv(output_path, index=False)\n",
    "\n",
    "df.to_csv(output_path, index=False)"
   ]
  },
  {
   "cell_type": "code",
   "execution_count": 23,
   "metadata": {},
   "outputs": [
    {
     "data": {
      "text/html": [
       "<div>\n",
       "<style scoped>\n",
       "    .dataframe tbody tr th:only-of-type {\n",
       "        vertical-align: middle;\n",
       "    }\n",
       "\n",
       "    .dataframe tbody tr th {\n",
       "        vertical-align: top;\n",
       "    }\n",
       "\n",
       "    .dataframe thead th {\n",
       "        text-align: right;\n",
       "    }\n",
       "</style>\n",
       "<table border=\"1\" class=\"dataframe\">\n",
       "  <thead>\n",
       "    <tr style=\"text-align: right;\">\n",
       "      <th></th>\n",
       "      <th>english_text</th>\n",
       "      <th>urdu_text</th>\n",
       "      <th>sindhi_text</th>\n",
       "      <th>class</th>\n",
       "      <th>Disability</th>\n",
       "      <th>Gender/Sexual</th>\n",
       "      <th>Origin/Nationality</th>\n",
       "      <th>Race/Ethnicity</th>\n",
       "      <th>Religion</th>\n",
       "    </tr>\n",
       "  </thead>\n",
       "  <tbody>\n",
       "    <tr>\n",
       "      <th>0</th>\n",
       "      <td>If America had another 8 years of Obama's ideo...</td>\n",
       "      <td>اگر امریکہ کے ایک اور 8 سال کی ہے تو ہم ایک گن...</td>\n",
       "      <td>جيڪڏهن آمريڪا وٽ هيلري ذريعي اوباما جي نظريي ج...</td>\n",
       "      <td>1</td>\n",
       "      <td>0</td>\n",
       "      <td>0</td>\n",
       "      <td>1</td>\n",
       "      <td>0</td>\n",
       "      <td>0</td>\n",
       "    </tr>\n",
       "    <tr>\n",
       "      <th>1</th>\n",
       "      <td>@user queue is fucking retarded it makes every...</td>\n",
       "      <td>@s_un soo انتہائی پریشان ہے ہر کوئی ایسا محسوس...</td>\n",
       "      <td>@user queue fucking retarded آهي اهو هر ڪنهن ک...</td>\n",
       "      <td>1</td>\n",
       "      <td>1</td>\n",
       "      <td>0</td>\n",
       "      <td>0</td>\n",
       "      <td>0</td>\n",
       "      <td>0</td>\n",
       "    </tr>\n",
       "    <tr>\n",
       "      <th>2</th>\n",
       "      <td>@user Que ce ne soit pas des Burundais refugie...</td>\n",
       "      <td>@وہنراساسسس نے ایک تصویر روشن کرنے والے بچے کو...</td>\n",
       "      <td>@user Que ce ne soit pas des Burundais پناهگير...</td>\n",
       "      <td>1</td>\n",
       "      <td>0</td>\n",
       "      <td>0</td>\n",
       "      <td>1</td>\n",
       "      <td>0</td>\n",
       "      <td>0</td>\n",
       "    </tr>\n",
       "    <tr>\n",
       "      <th>3</th>\n",
       "      <td>@user @user Btw. Are we now allowed to say \\sh...</td>\n",
       "      <td>@Ny_m: کیا اب ہم مُقدس ممالک کا کہنا ماننے کی ...</td>\n",
       "      <td>@user @user Btw. ڇا اسان کي ھاڻي \\shithole\\ مل...</td>\n",
       "      <td>0</td>\n",
       "      <td>0</td>\n",
       "      <td>0</td>\n",
       "      <td>0</td>\n",
       "      <td>0</td>\n",
       "      <td>0</td>\n",
       "    </tr>\n",
       "    <tr>\n",
       "      <th>4</th>\n",
       "      <td>@user Still a bitter cunt. Why so much interes...</td>\n",
       "      <td>@Iy'S اب بھی ایک تلخ ہمت ہوئی. اتنی زیادہ دلچس...</td>\n",
       "      <td>@user اڃا تائين هڪ تلخ ڪنگ. هٿيارن ۾ ايتري دلچ...</td>\n",
       "      <td>1</td>\n",
       "      <td>0</td>\n",
       "      <td>1</td>\n",
       "      <td>0</td>\n",
       "      <td>0</td>\n",
       "      <td>0</td>\n",
       "    </tr>\n",
       "  </tbody>\n",
       "</table>\n",
       "</div>"
      ],
      "text/plain": [
       "                                        english_text  \\\n",
       "0  If America had another 8 years of Obama's ideo...   \n",
       "1  @user queue is fucking retarded it makes every...   \n",
       "2  @user Que ce ne soit pas des Burundais refugie...   \n",
       "3  @user @user Btw. Are we now allowed to say \\sh...   \n",
       "4  @user Still a bitter cunt. Why so much interes...   \n",
       "\n",
       "                                           urdu_text  \\\n",
       "0  اگر امریکہ کے ایک اور 8 سال کی ہے تو ہم ایک گن...   \n",
       "1  @s_un soo انتہائی پریشان ہے ہر کوئی ایسا محسوس...   \n",
       "2  @وہنراساسسس نے ایک تصویر روشن کرنے والے بچے کو...   \n",
       "3  @Ny_m: کیا اب ہم مُقدس ممالک کا کہنا ماننے کی ...   \n",
       "4  @Iy'S اب بھی ایک تلخ ہمت ہوئی. اتنی زیادہ دلچس...   \n",
       "\n",
       "                                         sindhi_text  class  Disability  \\\n",
       "0  جيڪڏهن آمريڪا وٽ هيلري ذريعي اوباما جي نظريي ج...      1           0   \n",
       "1  @user queue fucking retarded آهي اهو هر ڪنهن ک...      1           1   \n",
       "2  @user Que ce ne soit pas des Burundais پناهگير...      1           0   \n",
       "3  @user @user Btw. ڇا اسان کي ھاڻي \\shithole\\ مل...      0           0   \n",
       "4  @user اڃا تائين هڪ تلخ ڪنگ. هٿيارن ۾ ايتري دلچ...      1           0   \n",
       "\n",
       "   Gender/Sexual  Origin/Nationality  Race/Ethnicity  Religion  \n",
       "0              0                   1               0         0  \n",
       "1              0                   0               0         0  \n",
       "2              0                   1               0         0  \n",
       "3              0                   0               0         0  \n",
       "4              1                   0               0         0  "
      ]
     },
     "execution_count": 23,
     "metadata": {},
     "output_type": "execute_result"
    }
   ],
   "source": [
    "import pandas as pd\n",
    "\n",
    "df = pd.read_csv(r'G:\\My Drive\\Hate Speech_Multilingual\\Code\\Dataset Statistics\\dataset\\english_urdu_sindhi_curated_and_translated(full).csv')\n",
    "df.head()"
   ]
  }
 ],
 "metadata": {
  "kernelspec": {
   "display_name": "Python 3",
   "language": "python",
   "name": "python3"
  },
  "language_info": {
   "codemirror_mode": {
    "name": "ipython",
    "version": 3
   },
   "file_extension": ".py",
   "mimetype": "text/x-python",
   "name": "python",
   "nbconvert_exporter": "python",
   "pygments_lexer": "ipython3",
   "version": "3.9.13"
  }
 },
 "nbformat": 4,
 "nbformat_minor": 2
}
