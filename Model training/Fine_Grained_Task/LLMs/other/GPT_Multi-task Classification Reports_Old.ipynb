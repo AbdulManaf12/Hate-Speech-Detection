{
 "cells": [
  {
   "cell_type": "markdown",
   "metadata": {},
   "source": [
    "# Hate speech report for GPT Single prompt for the Hate and Fine-grained\n",
    "\n",
    "In this example, I used the mentioned prompt, Where I wanted to prodice both labels in the single Go.\n",
    "\n",
    "https://chatgpt.com/share/d9fb9101-35eb-4bff-86c1-e37690993466\n"
   ]
  },
  {
   "cell_type": "markdown",
   "metadata": {},
   "source": [
    "# Load the original labels and the GPT-produced labels from CSV files\n"
   ]
  },
  {
   "cell_type": "code",
   "execution_count": 1,
   "metadata": {},
   "outputs": [],
   "source": [
    "import pandas as pd\n",
    "from sklearn.metrics import classification_report, confusion_matrix, f1_score\n",
    "import matplotlib.pyplot as plt\n",
    "import seaborn as sns\n",
    "original_labels_path = 'Datasets/test.csv'  # Update with the correct path\n",
    "gpt_labels_path = 'results_LLM/GPT_classified_texts_unpaid.csv'  # Update with the correct path\n",
    "\n",
    "original_labels = pd.read_csv(original_labels_path)\n",
    "gpt_labels = pd.read_csv(gpt_labels_path)\n",
    "\n"
   ]
  },
  {
   "cell_type": "code",
   "execution_count": null,
   "metadata": {},
   "outputs": [],
   "source": [
    "\n"
   ]
  },
  {
   "cell_type": "markdown",
   "metadata": {},
   "source": [
    "# # Basic EDA for original labels"
   ]
  },
  {
   "cell_type": "markdown",
   "metadata": {},
   "source": [
    "# Basic EDA for GPT labels"
   ]
  },
  {
   "cell_type": "code",
   "execution_count": 2,
   "metadata": {},
   "outputs": [
    {
     "name": "stdout",
     "output_type": "stream",
     "text": [
      "\n",
      "Distribution of Hate Speech in Original Labels:\n",
      "class\n",
      "0    45291\n",
      "1    10254\n",
      "Name: count, dtype: int64\n",
      "\n",
      "Distribution of Hate Speech in GPT Labels:\n",
      "class\n",
      "0    46707\n",
      "1     8838\n",
      "Name: count, dtype: int64\n",
      "\n",
      "Distribution of Fine-Grained Categories in Original Labels:\n",
      "\n",
      "Disability Distribution in Original Labels:\n",
      "Disability\n",
      "0    55510\n",
      "1       35\n",
      "Name: count, dtype: int64\n",
      "\n",
      "Disability Distribution in GPT Labels:\n",
      "Disability\n",
      "0    55497\n",
      "1       48\n",
      "Name: count, dtype: int64\n",
      "\n",
      "Gender/Sexual Distribution in Original Labels:\n",
      "Gender/Sexual\n",
      "0    52065\n",
      "1     3480\n",
      "Name: count, dtype: int64\n",
      "\n",
      "Gender/Sexual Distribution in GPT Labels:\n",
      "Gender/Sexual\n",
      "0    51813\n",
      "1     3732\n",
      "Name: count, dtype: int64\n",
      "\n",
      "Origin/Nationality Distribution in Original Labels:\n",
      "Origin/Nationality\n",
      "0    55417\n",
      "1      128\n",
      "Name: count, dtype: int64\n",
      "\n",
      "Origin/Nationality Distribution in GPT Labels:\n",
      "Origin/Nationality\n",
      "0    55488\n",
      "1       57\n",
      "Name: count, dtype: int64\n",
      "\n",
      "Race/Ethnicity Distribution in Original Labels:\n",
      "Race/Ethnicity\n",
      "0    52199\n",
      "1     3346\n",
      "Name: count, dtype: int64\n",
      "\n",
      "Race/Ethnicity Distribution in GPT Labels:\n",
      "Race/Ethnicity\n",
      "0    52356\n",
      "1     3189\n",
      "Name: count, dtype: int64\n",
      "\n",
      "Religion Distribution in Original Labels:\n",
      "Religion\n",
      "0    52307\n",
      "1     3238\n",
      "Name: count, dtype: int64\n",
      "\n",
      "Religion Distribution in GPT Labels:\n",
      "Religion\n",
      "0    52944\n",
      "1     2601\n",
      "Name: count, dtype: int64\n"
     ]
    }
   ],
   "source": [
    "# Distribution of binary classification in original labels\n",
    "print(\"\\nDistribution of Hate Speech in Original Labels:\")\n",
    "print(original_labels['class'].value_counts())\n",
    "\n",
    "# Distribution of binary classification in GPT labels\n",
    "print(\"\\nDistribution of Hate Speech in GPT Labels:\")\n",
    "print(gpt_labels['class'].value_counts())\n",
    "\n",
    "# Distribution of fine-grained categories in original labels\n",
    "print(\"\\nDistribution of Fine-Grained Categories in Original Labels:\")\n",
    "fine_grained_columns = ['Disability', 'Gender/Sexual', 'Origin/Nationality', 'Race/Ethnicity', 'Religion']\n",
    "for column in fine_grained_columns:\n",
    "    print(f\"\\n{column} Distribution in Original Labels:\")\n",
    "    print(original_labels[column].value_counts())\n",
    "    print(f\"\\n{column} Distribution in GPT Labels:\")\n",
    "    print(gpt_labels[column].value_counts())"
   ]
  },
  {
   "cell_type": "code",
   "execution_count": 3,
   "metadata": {},
   "outputs": [
    {
     "data": {
      "text/html": [
       "<div>\n",
       "<style scoped>\n",
       "    .dataframe tbody tr th:only-of-type {\n",
       "        vertical-align: middle;\n",
       "    }\n",
       "\n",
       "    .dataframe tbody tr th {\n",
       "        vertical-align: top;\n",
       "    }\n",
       "\n",
       "    .dataframe thead th {\n",
       "        text-align: right;\n",
       "    }\n",
       "</style>\n",
       "<table border=\"1\" class=\"dataframe\">\n",
       "  <thead>\n",
       "    <tr style=\"text-align: right;\">\n",
       "      <th></th>\n",
       "      <th>english_text</th>\n",
       "      <th>urdu_text</th>\n",
       "      <th>class</th>\n",
       "      <th>Disability</th>\n",
       "      <th>Gender/Sexual</th>\n",
       "      <th>Origin/Nationality</th>\n",
       "      <th>Race/Ethnicity</th>\n",
       "      <th>Religion</th>\n",
       "    </tr>\n",
       "  </thead>\n",
       "  <tbody>\n",
       "    <tr>\n",
       "      <th>0</th>\n",
       "      <td>@ithastostop2 @Tearceun1 @JustinTrudeau Wait, ...</td>\n",
       "      <td>ای بی سی پی پی پی او کے بارے میں کیا وہ ایک دم...</td>\n",
       "      <td>1</td>\n",
       "      <td>0</td>\n",
       "      <td>0</td>\n",
       "      <td>0</td>\n",
       "      <td>1</td>\n",
       "      <td>0</td>\n",
       "    </tr>\n",
       "    <tr>\n",
       "      <th>1</th>\n",
       "      <td>@user motherfucker you have 2k tweets in one m...</td>\n",
       "      <td>@Os's آپ کے پاس ایک ماہ میں 2 ٹویٹ کیا ہے. آپ ...</td>\n",
       "      <td>0</td>\n",
       "      <td>0</td>\n",
       "      <td>0</td>\n",
       "      <td>0</td>\n",
       "      <td>0</td>\n",
       "      <td>0</td>\n",
       "    </tr>\n",
       "    <tr>\n",
       "      <th>2</th>\n",
       "      <td>@Xboxlove1332584 @JAAY_ROCK_ Lies yet bots had...</td>\n",
       "      <td>@ شوہروں کے لیے یہ بات ہے کہ 6 سال قبل قبل حضر...</td>\n",
       "      <td>0</td>\n",
       "      <td>0</td>\n",
       "      <td>0</td>\n",
       "      <td>0</td>\n",
       "      <td>0</td>\n",
       "      <td>0</td>\n",
       "    </tr>\n",
       "  </tbody>\n",
       "</table>\n",
       "</div>"
      ],
      "text/plain": [
       "                                        english_text  \\\n",
       "0  @ithastostop2 @Tearceun1 @JustinTrudeau Wait, ...   \n",
       "1  @user motherfucker you have 2k tweets in one m...   \n",
       "2  @Xboxlove1332584 @JAAY_ROCK_ Lies yet bots had...   \n",
       "\n",
       "                                           urdu_text  class  Disability  \\\n",
       "0  ای بی سی پی پی پی او کے بارے میں کیا وہ ایک دم...      1           0   \n",
       "1  @Os's آپ کے پاس ایک ماہ میں 2 ٹویٹ کیا ہے. آپ ...      0           0   \n",
       "2  @ شوہروں کے لیے یہ بات ہے کہ 6 سال قبل قبل حضر...      0           0   \n",
       "\n",
       "   Gender/Sexual  Origin/Nationality  Race/Ethnicity  Religion  \n",
       "0              0                   0               1         0  \n",
       "1              0                   0               0         0  \n",
       "2              0                   0               0         0  "
      ]
     },
     "execution_count": 3,
     "metadata": {},
     "output_type": "execute_result"
    }
   ],
   "source": [
    "original_labels.head(3)"
   ]
  },
  {
   "cell_type": "code",
   "execution_count": 4,
   "metadata": {},
   "outputs": [
    {
     "data": {
      "text/html": [
       "<div>\n",
       "<style scoped>\n",
       "    .dataframe tbody tr th:only-of-type {\n",
       "        vertical-align: middle;\n",
       "    }\n",
       "\n",
       "    .dataframe tbody tr th {\n",
       "        vertical-align: top;\n",
       "    }\n",
       "\n",
       "    .dataframe thead th {\n",
       "        text-align: right;\n",
       "    }\n",
       "</style>\n",
       "<table border=\"1\" class=\"dataframe\">\n",
       "  <thead>\n",
       "    <tr style=\"text-align: right;\">\n",
       "      <th></th>\n",
       "      <th>english_text</th>\n",
       "      <th>class</th>\n",
       "      <th>Disability</th>\n",
       "      <th>Gender/Sexual</th>\n",
       "      <th>Origin/Nationality</th>\n",
       "      <th>Race/Ethnicity</th>\n",
       "      <th>Religion</th>\n",
       "    </tr>\n",
       "  </thead>\n",
       "  <tbody>\n",
       "    <tr>\n",
       "      <th>0</th>\n",
       "      <td>@ithastostop2 @Tearceun1 @JustinTrudeau Wait, ...</td>\n",
       "      <td>0</td>\n",
       "      <td>0</td>\n",
       "      <td>0</td>\n",
       "      <td>0</td>\n",
       "      <td>0</td>\n",
       "      <td>0</td>\n",
       "    </tr>\n",
       "    <tr>\n",
       "      <th>1</th>\n",
       "      <td>@user motherfucker you have 2k tweets in one m...</td>\n",
       "      <td>0</td>\n",
       "      <td>0</td>\n",
       "      <td>0</td>\n",
       "      <td>0</td>\n",
       "      <td>0</td>\n",
       "      <td>0</td>\n",
       "    </tr>\n",
       "    <tr>\n",
       "      <th>2</th>\n",
       "      <td>@Xboxlove1332584 @JAAY_ROCK_ Lies yet bots had...</td>\n",
       "      <td>0</td>\n",
       "      <td>0</td>\n",
       "      <td>0</td>\n",
       "      <td>0</td>\n",
       "      <td>0</td>\n",
       "      <td>0</td>\n",
       "    </tr>\n",
       "  </tbody>\n",
       "</table>\n",
       "</div>"
      ],
      "text/plain": [
       "                                        english_text  class  Disability  \\\n",
       "0  @ithastostop2 @Tearceun1 @JustinTrudeau Wait, ...      0           0   \n",
       "1  @user motherfucker you have 2k tweets in one m...      0           0   \n",
       "2  @Xboxlove1332584 @JAAY_ROCK_ Lies yet bots had...      0           0   \n",
       "\n",
       "   Gender/Sexual  Origin/Nationality  Race/Ethnicity  Religion  \n",
       "0              0                   0               0         0  \n",
       "1              0                   0               0         0  \n",
       "2              0                   0               0         0  "
      ]
     },
     "execution_count": 4,
     "metadata": {},
     "output_type": "execute_result"
    }
   ],
   "source": [
    "gpt_labels.head(3)"
   ]
  },
  {
   "cell_type": "markdown",
   "metadata": {},
   "source": [
    "# Binary classification Report"
   ]
  },
  {
   "cell_type": "code",
   "execution_count": 5,
   "metadata": {},
   "outputs": [
    {
     "name": "stdout",
     "output_type": "stream",
     "text": [
      "Binary Classification Report:\n",
      "              precision    recall  f1-score   support\n",
      "\n",
      "           0       0.96      0.99      0.98     45291\n",
      "           1       0.96      0.82      0.89     10254\n",
      "\n",
      "    accuracy                           0.96     55545\n",
      "   macro avg       0.96      0.91      0.93     55545\n",
      "weighted avg       0.96      0.96      0.96     55545\n",
      "\n",
      "Binary Confusion Matrix:\n",
      "[[44902   389]\n",
      " [ 1805  8449]]\n",
      "Binary F1 Score:\n",
      "0.8850827571757804\n"
     ]
    }
   ],
   "source": [
    "# Extract the binary classification labels (hate speech or not)\n",
    "original_binary = original_labels['class'].astype(int)\n",
    "gpt_binary = gpt_labels['class'].astype(int)\n",
    "\n",
    "# Compute binary classification metrics\n",
    "binary_classification_report = classification_report(original_binary, gpt_binary)\n",
    "binary_confusion_matrix = confusion_matrix(original_binary, gpt_binary)\n",
    "binary_f1_score = f1_score(original_binary, gpt_binary)\n",
    "\n",
    "print(\"Binary Classification Report:\")\n",
    "print(binary_classification_report)\n",
    "print(\"Binary Confusion Matrix:\")\n",
    "print(binary_confusion_matrix)\n",
    "print(\"Binary F1 Score:\")\n",
    "print(binary_f1_score)\n",
    "\n"
   ]
  },
  {
   "cell_type": "markdown",
   "metadata": {},
   "source": [
    "## Save results in CSV"
   ]
  },
  {
   "cell_type": "code",
   "execution_count": 6,
   "metadata": {},
   "outputs": [],
   "source": [
    "binary_report_df = pd.DataFrame.from_dict(classification_report(original_binary, gpt_binary, output_dict=True)).transpose()\n",
    "binary_report_df.to_csv('results_LLM/Reports/gpt4Unpaid_multi-task_binary_classification_report.csv')"
   ]
  },
  {
   "cell_type": "code",
   "execution_count": 7,
   "metadata": {},
   "outputs": [
    {
     "data": {
      "image/png": "[encoded data removed]",
      "text/plain": [
       "<Figure size 1000x700 with 2 Axes>"
      ]
     },
     "metadata": {},
     "output_type": "display_data"
    },
    {
     "name": "stdout",
     "output_type": "stream",
     "text": [
      "Classification Report:\n",
      "              precision    recall  f1-score   support\n",
      "\n",
      "           0       0.96      0.99      0.98     45291\n",
      "           1       0.96      0.82      0.89     10254\n",
      "\n",
      "    accuracy                           0.96     55545\n",
      "   macro avg       0.96      0.91      0.93     55545\n",
      "weighted avg       0.96      0.96      0.96     55545\n",
      "\n"
     ]
    }
   ],
   "source": [
    "# Assuming the column with the labels is named 'class'\n",
    "y_true = original_labels['class']\n",
    "y_pred = gpt_labels['class']\n",
    "\n",
    "# Compute the confusion matrix\n",
    "cm = confusion_matrix(y_true, y_pred)\n",
    "\n",
    "# Plotting the confusion matrix\n",
    "plt.figure(figsize=(10, 7))\n",
    "ax = sns.heatmap(cm, annot=True, fmt='g', cmap='Blues', annot_kws={\"size\": 12},  # Increase font size for annotations\n",
    "                 xticklabels=list(set(y_true)), yticklabels=list(set(y_true)))\n",
    "plt.xlabel('Predicted', fontsize=12)  # Increase font size for x-axis label\n",
    "plt.ylabel('True', fontsize=12)       # Increase font size for y-axis label\n",
    "plt.title('Confusion Matrix', fontsize=14)  # Increase font size for title\n",
    "ax.tick_params(axis='x', labelsize=10)  # Increase font size for x-axis ticks\n",
    "ax.tick_params(axis='y', labelsize=10)  # Increase font size for y-axis ticks\n",
    "ax.figure.axes[-1].set_ylabel('Count', fontsize=12)  # Increase font size for colorbar label\n",
    "\n",
    "plt.savefig('results_LLM/Reports/gpt4Unpaid_multi-task_confusion_matrix.png')  # Save the confusion matrix as a PNG file\n",
    "plt.show()\n",
    "\n",
    "# Generate the classification report\n",
    "report = classification_report(y_true, y_pred)\n",
    "\n",
    "# Print and save the classification report\n",
    "print(\"Classification Report:\")\n",
    "print(report)\n",
    "\n"
   ]
  },
  {
   "cell_type": "markdown",
   "metadata": {},
   "source": [
    "# Fine-Grained Classification Report"
   ]
  },
  {
   "cell_type": "code",
   "execution_count": 8,
   "metadata": {},
   "outputs": [
    {
     "name": "stdout",
     "output_type": "stream",
     "text": [
      "8838\n"
     ]
    }
   ],
   "source": [
    "# Filter the instances where GPT produced a 1 for hate speech\n",
    "gpt_hate_speech = gpt_labels[gpt_labels['class'] == 1]\n",
    "print(len(gpt_hate_speech))\n",
    "\n",
    "# Extract the corresponding original labels for these instances\n",
    "original_hate_speech = original_labels.loc[gpt_hate_speech.index]\n"
   ]
  },
  {
   "cell_type": "code",
   "execution_count": 9,
   "metadata": {},
   "outputs": [
    {
     "name": "stderr",
     "output_type": "stream",
     "text": [
      "C:\\Users\\Nimra\\AppData\\Local\\Temp\\ipykernel_19972\\2434666302.py:18: SettingWithCopyWarning: \n",
      "A value is trying to be set on a copy of a slice from a DataFrame.\n",
      "Try using .loc[row_indexer,col_indexer] = value instead\n",
      "\n",
      "See the caveats in the documentation: https://pandas.pydata.org/pandas-docs/stable/user_guide/indexing.html#returning-a-view-versus-a-copy\n",
      "  gpt_hate_speech['Combined_Label'] = gpt_hate_speech.apply(combine_labels, axis=1)\n"
     ]
    }
   ],
   "source": [
    "\n",
    "# Combine fine-grained categories into a single multi-class label for hate speech only\n",
    "def combine_labels(row):\n",
    "    if row['Disability'] == 1:\n",
    "        return 'Disability'\n",
    "    elif row['Gender/Sexual'] == 1:\n",
    "        return 'Gender/Sexual'\n",
    "    elif row['Origin/Nationality'] == 1:\n",
    "        return 'Origin/Nationality'\n",
    "    elif row['Race/Ethnicity'] == 1:\n",
    "        return 'Race/Ethnicity'\n",
    "    elif row['Religion'] == 1:\n",
    "        return 'Religion'\n",
    "    else:\n",
    "        return 'None'  # Exclude non-hate speech\n",
    "\n",
    "# Apply the function to create a combined label\n",
    "original_hate_speech['Combined_Label'] = original_hate_speech.apply(combine_labels, axis=1)\n",
    "gpt_hate_speech['Combined_Label'] = gpt_hate_speech.apply(combine_labels, axis=1)\n",
    "\n",
    "# # Filter out non-hate speech rows in the combined labels\n",
    "# original_hate_speech = original_hate_speech.dropna(subset=['Combined_Label'])\n",
    "# gpt_hate_speech = gpt_hate_speech.loc[original_hate_speech.index]\n",
    "\n"
   ]
  },
  {
   "cell_type": "code",
   "execution_count": 10,
   "metadata": {},
   "outputs": [
    {
     "name": "stdout",
     "output_type": "stream",
     "text": [
      "8838\n",
      "8838\n"
     ]
    },
    {
     "data": {
      "text/html": [
       "<div>\n",
       "<style scoped>\n",
       "    .dataframe tbody tr th:only-of-type {\n",
       "        vertical-align: middle;\n",
       "    }\n",
       "\n",
       "    .dataframe tbody tr th {\n",
       "        vertical-align: top;\n",
       "    }\n",
       "\n",
       "    .dataframe thead th {\n",
       "        text-align: right;\n",
       "    }\n",
       "</style>\n",
       "<table border=\"1\" class=\"dataframe\">\n",
       "  <thead>\n",
       "    <tr style=\"text-align: right;\">\n",
       "      <th></th>\n",
       "      <th>english_text</th>\n",
       "      <th>class</th>\n",
       "      <th>Disability</th>\n",
       "      <th>Gender/Sexual</th>\n",
       "      <th>Origin/Nationality</th>\n",
       "      <th>Race/Ethnicity</th>\n",
       "      <th>Religion</th>\n",
       "      <th>Combined_Label</th>\n",
       "    </tr>\n",
       "  </thead>\n",
       "  <tbody>\n",
       "    <tr>\n",
       "      <th>4</th>\n",
       "      <td>@ZetaHal0 @KrazyRabb1t your a bitch so your op...</td>\n",
       "      <td>1</td>\n",
       "      <td>0</td>\n",
       "      <td>1</td>\n",
       "      <td>0</td>\n",
       "      <td>0</td>\n",
       "      <td>0</td>\n",
       "      <td>Gender/Sexual</td>\n",
       "    </tr>\n",
       "    <tr>\n",
       "      <th>7</th>\n",
       "      <td>@Scarfac50124049 @gurukulguy @MeghUpdates So u...</td>\n",
       "      <td>1</td>\n",
       "      <td>0</td>\n",
       "      <td>0</td>\n",
       "      <td>0</td>\n",
       "      <td>0</td>\n",
       "      <td>1</td>\n",
       "      <td>Religion</td>\n",
       "    </tr>\n",
       "    <tr>\n",
       "      <th>8</th>\n",
       "      <td>@avalynheartz Just got a new one bitch</td>\n",
       "      <td>1</td>\n",
       "      <td>0</td>\n",
       "      <td>1</td>\n",
       "      <td>0</td>\n",
       "      <td>0</td>\n",
       "      <td>0</td>\n",
       "      <td>Gender/Sexual</td>\n",
       "    </tr>\n",
       "  </tbody>\n",
       "</table>\n",
       "</div>"
      ],
      "text/plain": [
       "                                        english_text  class  Disability  \\\n",
       "4  @ZetaHal0 @KrazyRabb1t your a bitch so your op...      1           0   \n",
       "7  @Scarfac50124049 @gurukulguy @MeghUpdates So u...      1           0   \n",
       "8             @avalynheartz Just got a new one bitch      1           0   \n",
       "\n",
       "   Gender/Sexual  Origin/Nationality  Race/Ethnicity  Religion Combined_Label  \n",
       "4              1                   0               0         0  Gender/Sexual  \n",
       "7              0                   0               0         1       Religion  \n",
       "8              1                   0               0         0  Gender/Sexual  "
      ]
     },
     "execution_count": 10,
     "metadata": {},
     "output_type": "execute_result"
    }
   ],
   "source": [
    "print(len(original_hate_speech))\n",
    "print(len(gpt_hate_speech))\n",
    "gpt_hate_speech.head(3)"
   ]
  },
  {
   "cell_type": "code",
   "execution_count": 11,
   "metadata": {},
   "outputs": [
    {
     "name": "stderr",
     "output_type": "stream",
     "text": [
      "c:\\Users\\Nimra\\AppData\\Local\\Programs\\Python\\Python39\\lib\\site-packages\\sklearn\\metrics\\_classification.py:1517: UndefinedMetricWarning: Precision is ill-defined and being set to 0.0 in labels with no predicted samples. Use `zero_division` parameter to control this behavior.\n",
      "  _warn_prf(average, modifier, f\"{metric.capitalize()} is\", len(result))\n"
     ]
    },
    {
     "name": "stdout",
     "output_type": "stream",
     "text": [
      "\n",
      "Multi-Class Classification Report (Filtered Hate Speech):\n",
      "                    precision    recall  f1-score   support\n",
      "\n",
      "        Disability       0.29      1.00      0.45        14\n",
      "     Gender/Sexual       0.81      0.99      0.89      3039\n",
      "              None       0.00      0.00      0.00       394\n",
      "Origin/Nationality       0.23      0.37      0.29        35\n",
      "    Race/Ethnicity       0.83      0.81      0.82      2777\n",
      "          Religion       0.98      0.88      0.93      2579\n",
      "\n",
      "          accuracy                           0.86      8838\n",
      "         macro avg       0.52      0.68      0.56      8838\n",
      "      weighted avg       0.83      0.86      0.84      8838\n",
      "\n"
     ]
    },
    {
     "name": "stderr",
     "output_type": "stream",
     "text": [
      "c:\\Users\\Nimra\\AppData\\Local\\Programs\\Python\\Python39\\lib\\site-packages\\sklearn\\metrics\\_classification.py:1517: UndefinedMetricWarning: Precision is ill-defined and being set to 0.0 in labels with no predicted samples. Use `zero_division` parameter to control this behavior.\n",
      "  _warn_prf(average, modifier, f\"{metric.capitalize()} is\", len(result))\n",
      "c:\\Users\\Nimra\\AppData\\Local\\Programs\\Python\\Python39\\lib\\site-packages\\sklearn\\metrics\\_classification.py:1517: UndefinedMetricWarning: Precision is ill-defined and being set to 0.0 in labels with no predicted samples. Use `zero_division` parameter to control this behavior.\n",
      "  _warn_prf(average, modifier, f\"{metric.capitalize()} is\", len(result))\n"
     ]
    },
    {
     "data": {
      "image/png": "[encoded data removed]",
      "text/plain": [
       "<Figure size 1000x700 with 2 Axes>"
      ]
     },
     "metadata": {},
     "output_type": "display_data"
    }
   ],
   "source": [
    "# Generate the multi-class classification report\n",
    "print(\"\\nMulti-Class Classification Report (Filtered Hate Speech):\")\n",
    "print(classification_report(original_hate_speech['Combined_Label'], gpt_hate_speech['Combined_Label']))\n",
    "\n",
    "# Generate confusion matrix\n",
    "cm = confusion_matrix(original_hate_speech['Combined_Label'], gpt_hate_speech['Combined_Label'], labels=original_hate_speech['Combined_Label'].unique().tolist())\n",
    "\n",
    "# Plotting the confusion matrix\n",
    "plt.figure(figsize=(10, 7))\n",
    "ax = sns.heatmap(cm, annot=True, fmt='g', cmap='Blues', annot_kws={\"size\": 12},  # Increase font size for annotations\n",
    "                 xticklabels=list(set(y_true)), yticklabels=list(set(y_true)))\n",
    "plt.xlabel('Predicted', fontsize=12)  # Increase font size for x-axis label\n",
    "plt.ylabel('True', fontsize=12)       # Increase font size for y-axis label\n",
    "plt.title('Confusion Matrix', fontsize=14)  # Increase font size for title\n",
    "ax.tick_params(axis='x', labelsize=10)  # Increase font size for x-axis ticks\n",
    "ax.tick_params(axis='y', labelsize=10)  # Increase font size for y-axis ticks\n",
    "ax.figure.axes[-1].set_ylabel('Count', fontsize=12)  # Increase font size for colorbar label\n",
    "plt.savefig('results_LLM/Reports/gpt4Unpaid_multi-task_Fine-grained_hate_speech_confusion_matrix.png')  # Save the confusion matrix as a PNG file\n",
    "plt.show()\n",
    "\n"
   ]
  },
  {
   "cell_type": "code",
   "execution_count": 12,
   "metadata": {},
   "outputs": [],
   "source": [
    "# Save the combined labels and the classification report to a CSV file\n",
    "combined_labels_df = pd.DataFrame({\n",
    "    'Original_Label': original_hate_speech['Combined_Label'],\n",
    "    'GPT_Label': gpt_hate_speech['Combined_Label']\n",
    "})\n",
    "\n",
    "combined_labels_df.to_csv('results_LLM/Reports/combined_labels_filtered_hate_speech.csv', index=False)\n"
   ]
  },
  {
   "cell_type": "markdown",
   "metadata": {},
   "source": [
    "\n",
    "# Compute and save the classification report to a CSV file\n"
   ]
  },
  {
   "cell_type": "code",
   "execution_count": 13,
   "metadata": {},
   "outputs": [
    {
     "name": "stderr",
     "output_type": "stream",
     "text": [
      "c:\\Users\\Nimra\\AppData\\Local\\Programs\\Python\\Python39\\lib\\site-packages\\sklearn\\metrics\\_classification.py:1517: UndefinedMetricWarning: Precision is ill-defined and being set to 0.0 in labels with no predicted samples. Use `zero_division` parameter to control this behavior.\n",
      "  _warn_prf(average, modifier, f\"{metric.capitalize()} is\", len(result))\n",
      "c:\\Users\\Nimra\\AppData\\Local\\Programs\\Python\\Python39\\lib\\site-packages\\sklearn\\metrics\\_classification.py:1517: UndefinedMetricWarning: Precision is ill-defined and being set to 0.0 in labels with no predicted samples. Use `zero_division` parameter to control this behavior.\n",
      "  _warn_prf(average, modifier, f\"{metric.capitalize()} is\", len(result))\n",
      "c:\\Users\\Nimra\\AppData\\Local\\Programs\\Python\\Python39\\lib\\site-packages\\sklearn\\metrics\\_classification.py:1517: UndefinedMetricWarning: Precision is ill-defined and being set to 0.0 in labels with no predicted samples. Use `zero_division` parameter to control this behavior.\n",
      "  _warn_prf(average, modifier, f\"{metric.capitalize()} is\", len(result))\n"
     ]
    }
   ],
   "source": [
    "report = classification_report(original_hate_speech['Combined_Label'], gpt_hate_speech['Combined_Label'], output_dict=True)\n",
    "report_df = pd.DataFrame(report).transpose()\n",
    "report_df.to_csv('results_LLM/Reports/gpt4Unpaid_multi-task_classification_report_filtered_hate_speech.csv')\n"
   ]
  },
  {
   "cell_type": "code",
   "execution_count": null,
   "metadata": {},
   "outputs": [],
   "source": []
  }
 ],
 "metadata": {
  "kernelspec": {
   "display_name": "Python 3",
   "language": "python",
   "name": "python3"
  },
  "language_info": {
   "codemirror_mode": {
    "name": "ipython",
    "version": 3
   },
   "file_extension": ".py",
   "mimetype": "text/x-python",
   "name": "python",
   "nbconvert_exporter": "python",
   "pygments_lexer": "ipython3",
   "version": "3.9.13"
  }
 },
 "nbformat": 4,
 "nbformat_minor": 2
}
