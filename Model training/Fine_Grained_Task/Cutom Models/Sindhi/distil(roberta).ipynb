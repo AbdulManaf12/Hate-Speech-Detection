{
 "cells": [
  {
   "cell_type": "code",
   "execution_count": 1,
   "metadata": {},
   "outputs": [
    {
     "name": "stderr",
     "output_type": "stream",
     "text": [
      "[nltk_data] Downloading package stopwords to C:\\Users\\Abdul\n",
      "[nltk_data]     Manaf\\AppData\\Roaming\\nltk_data...\n",
      "[nltk_data]   Package stopwords is already up-to-date!\n"
     ]
    }
   ],
   "source": [
    "import sys\n",
    "sys.path.append(\"../../..\")\n",
    "\n",
    "import helper as hlp\n",
    "import pandas as pd\n",
    "import numpy as np"
   ]
  },
  {
   "cell_type": "code",
   "execution_count": 2,
   "metadata": {},
   "outputs": [],
   "source": [
    "EPOCHS = 50\n",
    "MAX_LEN = 30\n",
    "N_CLASSES = 5\n",
    "BATCH_SIZE = 128\n",
    "LEARNING_RATE = 2e-5\n",
    "NAME = 'distil(roberta)-sindhi'\n",
    "MODEL_NAME = 'distilroberta-base'\n",
    "dir = '../../../../Dataset Statistics/dataset'\n",
    "path = f'../saved_models/{NAME}'\n",
    "class_names = ['Disability', 'Gender/Sexual', 'Origin/Nationality', 'Race/Ethnicity', 'Religion']"
   ]
  },
  {
   "cell_type": "code",
   "execution_count": 3,
   "metadata": {},
   "outputs": [],
   "source": [
    "train_df = pd.read_csv(f'{dir}/train.csv')\n",
    "val_df = pd.read_csv(f'{dir}/val.csv')\n",
    "test_df = pd.read_csv(f'{dir}/test.csv')\n",
    "\n",
    "train_df = train_df[train_df['class'] != 0]\n",
    "val_df = val_df[val_df['class'] != 0]\n",
    "test_df = test_df[test_df['class'] != 0]\n",
    "\n",
    "train_texts = train_df['sindhi_text'].values\n",
    "val_texts = val_df['sindhi_text'].values\n",
    "test_texts = test_df['sindhi_text'].values\n",
    "\n",
    "train_labels = train_df[class_names].values\n",
    "val_labels = val_df[class_names].values\n",
    "test_labels = test_df[class_names].values"
   ]
  },
  {
   "cell_type": "code",
   "execution_count": 4,
   "metadata": {},
   "outputs": [
    {
     "name": "stdout",
     "output_type": "stream",
     "text": [
      "توهان ڪير ڄاڻو ٿا ته موجون گهٽ لڙ ۾ ٺاهيندا آهن?  dbo’d yo bitch هاڻي هوءَ اسان جي ٻنهي (nigga) [0 0 0 1 0]\n",
      "اها ڪچي مڪمل نظر اچي ٿي https://t.co/L17zFSuqGQ [0 1 0 0 0]\n",
      "اسان هاڻي سڀني پليٽ فارمن تي آهيون، تنهنڪري ايندڙ ڀيري توهان هڪ خراب ڪچي، هڪ خوبصورت عورت، جيڪو توهان چاهيو ٿا. راند ڪريو FIHTEEN ته جيئن هوء توهان کي مختلف ڄاڻي سگهي [0 1 0 0 0]\n",
      "بس هڪ وار ڪٽيو، ڪو به مون کي منهنجي ڪچي مان وٺي سگهي ٿو [0 1 0 0 0]\n",
      "@barnlife5 @realShawNshawN @grantstern جيڪڏهن توهان سڀ ڪجهه محسوس ڪيو ته پوءِ اهو ڪريو.  ٽرمپ وٽ بالز آهن جيڪي ڪرڻ لاءِ جمهوريت پسند چاهين ٿا ته اهي ڪري سگهن.  پر لبرل ۽ جمهوريت پسند نرم آهن ۽ منسوخ ٿيڻ کان خوفزده آهن يا اهي پري کاٻي پاسي نه جهڪندا آهن!! 😂😂Y' سڀ گونگا آهن جيئن ته اهو مزاحيه آهي [0 0 0 1 0]\n"
     ]
    }
   ],
   "source": [
    "#show 5 values along with their labels\n",
    "for i in range(5):\n",
    "    print(train_texts[i], train_labels[i])"
   ]
  },
  {
   "cell_type": "code",
   "execution_count": 5,
   "metadata": {},
   "outputs": [
    {
     "name": "stdout",
     "output_type": "stream",
     "text": [
      "ڄاڻو ٿا ته موجون گهٽ لڙ ۾ ٺاهيندا dbo’d yo bitch هاڻي هوءَ اسان جي ٻنهي nigga [0 0 0 1 0]\n",
      "اها ڪچي مڪمل نظر اچي ٿي [0 1 0 0 0]\n",
      "اسان هاڻي سڀني پليٽ فارمن آهيون، تنهنڪري ايندڙ ڀيري خراب ڪچي، خوبصورت عورت، جيڪو چاهيو ٿا راند ڪريو fihteen ته هوء کي ڄاڻي سگهي [0 1 0 0 0]\n",
      "بس وار ڪٽيو، ڪو مون کي منهنجي ڪچي وٺي سگهي ٿو [0 1 0 0 0]\n",
      "barnlife5 realshawnshawn grantstern جيڪڏهن سڀ ڪجهه محسوس ڪيو ته پوءِ ڪريو ٽرمپ وٽ بالز جيڪي لاءِ جمهوريت پسند چاهين ٿا ته ڪري سگهن پر لبرل جمهوريت پسند نرم منسوخ کان خوفزده يا پري کاٻي نه جهڪندا 😂😂y سڀ گونگا ته مزاحيه آهي [0 0 0 1 0]\n"
     ]
    }
   ],
   "source": [
    "#show 5 values along with their labels\n",
    "for i in range(5):\n",
    "    print(hlp.preprocess_text(train_texts[i], language=\"sindhi\")\n",
    "    , train_labels[i])"
   ]
  },
  {
   "cell_type": "code",
   "execution_count": 6,
   "metadata": {},
   "outputs": [],
   "source": [
    "## apply preprocessing to all texts\n",
    "train_texts = [hlp.preprocess_text(text, language=\"sindhi\") for text in train_texts]\n",
    "val_texts = [hlp.preprocess_text(text, language=\"sindhi\") for text in val_texts]\n",
    "test_texts = [hlp.preprocess_text(text, language=\"sindhi\") for text in test_texts]"
   ]
  },
  {
   "cell_type": "code",
   "execution_count": 7,
   "metadata": {},
   "outputs": [
    {
     "name": "stderr",
     "output_type": "stream",
     "text": [
      "c:\\Users\\Abdul Manaf\\AppData\\Local\\Programs\\Python\\Python39\\lib\\site-packages\\huggingface_hub\\utils\\_runtime.py:184: UserWarning: Pydantic is installed but cannot be imported. Please check your installation. `huggingface_hub` will default to not using Pydantic. Error message: '{e}'\n",
      "  warnings.warn(\n",
      "Some weights of RobertaForSequenceClassification were not initialized from the model checkpoint at distilroberta-base and are newly initialized: ['classifier.dense.bias', 'classifier.dense.weight', 'classifier.out_proj.bias', 'classifier.out_proj.weight']\n",
      "You should probably TRAIN this model on a down-stream task to be able to use it for predictions and inference.\n"
     ]
    }
   ],
   "source": [
    "## mbert model and tokenizer\n",
    "import torch\n",
    "from transformers import AutoTokenizer, AutoModelForSequenceClassification\n",
    "\n",
    "device = torch.device('cuda' if torch.cuda.is_available() else 'cpu')\n",
    "tokenizer = AutoTokenizer.from_pretrained(MODEL_NAME)\n",
    "model = AutoModelForSequenceClassification.from_pretrained(MODEL_NAME, num_labels=N_CLASSES)\n",
    "optimizer = torch.optim.AdamW(model.parameters(), lr=LEARNING_RATE)\n",
    "model = model.to(device)"
   ]
  },
  {
   "cell_type": "code",
   "execution_count": 8,
   "metadata": {},
   "outputs": [
    {
     "name": "stdout",
     "output_type": "stream",
     "text": [
      "Epoch 0/50\n",
      "----------\n"
     ]
    },
    {
     "name": "stderr",
     "output_type": "stream",
     "text": [
      "Training Progress: 100%|██████████| 241/241 [00:54<00:00,  4.46it/s, loss=0.241]\n"
     ]
    },
    {
     "name": "stdout",
     "output_type": "stream",
     "text": [
      "Train loss 0.3200898446853725 accuracy 0.4100780234070221\n",
      "Validation loss 0.23541838390591704 accuracy 0.5652428320655354\n",
      "Model and tokenizer saved at epoch 0\n",
      "Checkpoint saved: Improved validation accuracy at epoch 0: 0.5652428320655354\n",
      "Epoch 1/50\n",
      "----------\n"
     ]
    },
    {
     "name": "stderr",
     "output_type": "stream",
     "text": [
      "Training Progress: 100%|██████████| 241/241 [00:50<00:00,  4.75it/s, loss=0.221]\n"
     ]
    },
    {
     "name": "stdout",
     "output_type": "stream",
     "text": [
      "Train loss 0.22825166335739042 accuracy 0.5888166449934981\n",
      "Validation loss 0.21910470484951397 accuracy 0.5947922761849035\n",
      "Model and tokenizer saved at epoch 1\n",
      "Checkpoint saved: Improved validation accuracy at epoch 1: 0.5947922761849035\n",
      "Epoch 2/50\n",
      "----------\n"
     ]
    },
    {
     "name": "stderr",
     "output_type": "stream",
     "text": [
      "Training Progress: 100%|██████████| 241/241 [00:50<00:00,  4.76it/s, loss=0.195]\n"
     ]
    },
    {
     "name": "stdout",
     "output_type": "stream",
     "text": [
      "Train loss 0.21173990953760027 accuracy 0.6156371911573472\n",
      "Validation loss 0.21041798021322417 accuracy 0.6179052077238151\n",
      "Model and tokenizer saved at epoch 2\n",
      "Checkpoint saved: Improved validation accuracy at epoch 2: 0.6179052077238151\n",
      "Epoch 3/50\n",
      "----------\n"
     ]
    },
    {
     "name": "stderr",
     "output_type": "stream",
     "text": [
      "Training Progress: 100%|██████████| 241/241 [00:50<00:00,  4.77it/s, loss=0.17] \n"
     ]
    },
    {
     "name": "stdout",
     "output_type": "stream",
     "text": [
      "Train loss 0.19974404561074444 accuracy 0.6443433029908973\n",
      "Validation loss 0.21328582697444493 accuracy 0.6453091476496977\n",
      "Model and tokenizer saved at epoch 3\n",
      "Checkpoint saved: Improved validation accuracy at epoch 3: 0.6453091476496977\n",
      "Epoch 4/50\n",
      "----------\n"
     ]
    },
    {
     "name": "stderr",
     "output_type": "stream",
     "text": [
      "Training Progress: 100%|██████████| 241/241 [00:51<00:00,  4.64it/s, loss=0.155]\n"
     ]
    },
    {
     "name": "stdout",
     "output_type": "stream",
     "text": [
      "Train loss 0.18945841432483365 accuracy 0.6693758127438232\n",
      "Validation loss 0.21116376861377997 accuracy 0.6688121708601521\n",
      "Model and tokenizer saved at epoch 4\n",
      "Checkpoint saved: Improved validation accuracy at epoch 4: 0.6688121708601521\n",
      "Epoch 5/50\n",
      "----------\n"
     ]
    },
    {
     "name": "stderr",
     "output_type": "stream",
     "text": [
      "Training Progress: 100%|██████████| 241/241 [00:51<00:00,  4.71it/s, loss=0.147]\n"
     ]
    },
    {
     "name": "stdout",
     "output_type": "stream",
     "text": [
      "Train loss 0.17885360804954506 accuracy 0.696814044213264\n",
      "Validation loss 0.21845770802026915 accuracy 0.6873415252584357\n",
      "Model and tokenizer saved at epoch 5\n",
      "Checkpoint saved: Improved validation accuracy at epoch 5: 0.6873415252584357\n",
      "Epoch 6/50\n",
      "----------\n"
     ]
    },
    {
     "name": "stderr",
     "output_type": "stream",
     "text": [
      "Training Progress: 100%|██████████| 241/241 [00:50<00:00,  4.79it/s, loss=0.151]\n"
     ]
    },
    {
     "name": "stdout",
     "output_type": "stream",
     "text": [
      "Train loss 0.17043683334752238 accuracy 0.7177828348504551\n",
      "Validation loss 0.21415309092880766 accuracy 0.6801248293348937\n",
      "No improvement in validation accuracy for 1 epochs.\n",
      "Epoch 7/50\n",
      "----------\n"
     ]
    },
    {
     "name": "stderr",
     "output_type": "stream",
     "text": [
      "Training Progress: 100%|██████████| 241/241 [00:50<00:00,  4.74it/s, loss=0.145] \n"
     ]
    },
    {
     "name": "stdout",
     "output_type": "stream",
     "text": [
      "Train loss 0.16146558028533745 accuracy 0.7364109232769831\n",
      "Validation loss 0.23964264381814887 accuracy 0.6770040959625512\n",
      "No improvement in validation accuracy for 2 epochs.\n",
      "Epoch 8/50\n",
      "----------\n"
     ]
    },
    {
     "name": "stderr",
     "output_type": "stream",
     "text": [
      "Training Progress: 100%|██████████| 241/241 [00:50<00:00,  4.77it/s, loss=0.131] \n"
     ]
    },
    {
     "name": "stdout",
     "output_type": "stream",
     "text": [
      "Train loss 0.1544360642425747 accuracy 0.7521456436931079\n",
      "Validation loss 0.22903180655873853 accuracy 0.6903647357128925\n",
      "Model and tokenizer saved at epoch 8\n",
      "Checkpoint saved: Improved validation accuracy at epoch 8: 0.6903647357128925\n",
      "Epoch 9/50\n",
      "----------\n"
     ]
    },
    {
     "name": "stderr",
     "output_type": "stream",
     "text": [
      "Training Progress: 100%|██████████| 241/241 [00:52<00:00,  4.56it/s, loss=0.119] \n"
     ]
    },
    {
     "name": "stdout",
     "output_type": "stream",
     "text": [
      "Train loss 0.14555163613493513 accuracy 0.7688556566970091\n",
      "Validation loss 0.24759325992178033 accuracy 0.697776477472206\n",
      "Model and tokenizer saved at epoch 9\n",
      "Checkpoint saved: Improved validation accuracy at epoch 9: 0.697776477472206\n",
      "Epoch 10/50\n",
      "----------\n"
     ]
    },
    {
     "name": "stderr",
     "output_type": "stream",
     "text": [
      "Training Progress: 100%|██████████| 241/241 [00:55<00:00,  4.34it/s, loss=0.114] \n"
     ]
    },
    {
     "name": "stdout",
     "output_type": "stream",
     "text": [
      "Train loss 0.1381349986828709 accuracy 0.783257477243173\n",
      "Validation loss 0.26068439454208187 accuracy 0.7009947337624342\n",
      "Model and tokenizer saved at epoch 10\n",
      "Checkpoint saved: Improved validation accuracy at epoch 10: 0.7009947337624342\n",
      "Epoch 11/50\n",
      "----------\n"
     ]
    },
    {
     "name": "stderr",
     "output_type": "stream",
     "text": [
      "Training Progress: 100%|██████████| 241/241 [00:55<00:00,  4.32it/s, loss=0.107] \n"
     ]
    },
    {
     "name": "stdout",
     "output_type": "stream",
     "text": [
      "Train loss 0.13400121206317206 accuracy 0.7890117035110533\n",
      "Validation loss 0.2522912448571052 accuracy 0.6938755607567778\n",
      "No improvement in validation accuracy for 1 epochs.\n",
      "Epoch 12/50\n",
      "----------\n"
     ]
    },
    {
     "name": "stderr",
     "output_type": "stream",
     "text": [
      "Training Progress: 100%|██████████| 241/241 [00:51<00:00,  4.66it/s, loss=0.148] \n"
     ]
    },
    {
     "name": "stdout",
     "output_type": "stream",
     "text": [
      "Train loss 0.13062780047477032 accuracy 0.7956436931079324\n",
      "Validation loss 0.2595043852005476 accuracy 0.6959235420323776\n",
      "No improvement in validation accuracy for 2 epochs.\n",
      "Epoch 13/50\n",
      "----------\n"
     ]
    },
    {
     "name": "stderr",
     "output_type": "stream",
     "text": [
      "Training Progress: 100%|██████████| 241/241 [00:50<00:00,  4.75it/s, loss=0.102] \n"
     ]
    },
    {
     "name": "stdout",
     "output_type": "stream",
     "text": [
      "Train loss 0.12238732168906952 accuracy 0.8078673602080624\n",
      "Validation loss 0.26811325126959956 accuracy 0.695143358689292\n",
      "No improvement in validation accuracy for 3 epochs.\n",
      "Epoch 14/50\n",
      "----------\n"
     ]
    },
    {
     "name": "stderr",
     "output_type": "stream",
     "text": [
      "Training Progress: 100%|██████████| 241/241 [00:50<00:00,  4.76it/s, loss=0.0957]\n"
     ]
    },
    {
     "name": "stdout",
     "output_type": "stream",
     "text": [
      "Train loss 0.11845789985785346 accuracy 0.8163849154746424\n",
      "Validation loss 0.2810708208952421 accuracy 0.6979715233079774\n",
      "No improvement in validation accuracy for 4 epochs.\n",
      "Epoch 15/50\n",
      "----------\n"
     ]
    },
    {
     "name": "stderr",
     "output_type": "stream",
     "text": [
      "Training Progress: 100%|██████████| 241/241 [00:50<00:00,  4.76it/s, loss=0.0806]\n"
     ]
    },
    {
     "name": "stdout",
     "output_type": "stream",
     "text": [
      "Train loss 0.11485689117948049 accuracy 0.8250325097529259\n",
      "Validation loss 0.2719957293183715 accuracy 0.7114296859762044\n",
      "Model and tokenizer saved at epoch 15\n",
      "Checkpoint saved: Improved validation accuracy at epoch 15: 0.7114296859762044\n",
      "Epoch 16/50\n",
      "----------\n"
     ]
    },
    {
     "name": "stderr",
     "output_type": "stream",
     "text": [
      "Training Progress: 100%|██████████| 241/241 [00:51<00:00,  4.72it/s, loss=0.0881]\n"
     ]
    },
    {
     "name": "stdout",
     "output_type": "stream",
     "text": [
      "Train loss 0.1109070758880174 accuracy 0.8283485045513654\n",
      "Validation loss 0.26596756518622977 accuracy 0.7228398673688317\n",
      "Model and tokenizer saved at epoch 16\n",
      "Checkpoint saved: Improved validation accuracy at epoch 16: 0.7228398673688317\n",
      "Epoch 17/50\n",
      "----------\n"
     ]
    },
    {
     "name": "stderr",
     "output_type": "stream",
     "text": [
      "Training Progress: 100%|██████████| 241/241 [00:50<00:00,  4.82it/s, loss=0.0787]\n"
     ]
    },
    {
     "name": "stdout",
     "output_type": "stream",
     "text": [
      "Train loss 0.10699376813232651 accuracy 0.8371586475942783\n",
      "Validation loss 0.27952689134780273 accuracy 0.7267407840842598\n",
      "Model and tokenizer saved at epoch 17\n",
      "Checkpoint saved: Improved validation accuracy at epoch 17: 0.7267407840842598\n",
      "Epoch 18/50\n",
      "----------\n"
     ]
    },
    {
     "name": "stderr",
     "output_type": "stream",
     "text": [
      "Training Progress: 100%|██████████| 241/241 [00:51<00:00,  4.65it/s, loss=0.0813]\n"
     ]
    },
    {
     "name": "stdout",
     "output_type": "stream",
     "text": [
      "Train loss 0.10208365767885046 accuracy 0.8462613784135241\n",
      "Validation loss 0.29063019505989407 accuracy 0.7296664716208309\n",
      "Model and tokenizer saved at epoch 18\n",
      "Checkpoint saved: Improved validation accuracy at epoch 18: 0.7296664716208309\n",
      "Epoch 19/50\n",
      "----------\n"
     ]
    },
    {
     "name": "stderr",
     "output_type": "stream",
     "text": [
      "Training Progress: 100%|██████████| 241/241 [00:51<00:00,  4.72it/s, loss=0.0785]\n"
     ]
    },
    {
     "name": "stdout",
     "output_type": "stream",
     "text": [
      "Train loss 0.09837931368299045 accuracy 0.8538686605981795\n",
      "Validation loss 0.2837537368874491 accuracy 0.7271308757558026\n",
      "No improvement in validation accuracy for 1 epochs.\n",
      "Epoch 20/50\n",
      "----------\n"
     ]
    },
    {
     "name": "stderr",
     "output_type": "stream",
     "text": [
      "Training Progress: 100%|██████████| 241/241 [00:52<00:00,  4.58it/s, loss=0.0747]\n"
     ]
    },
    {
     "name": "stdout",
     "output_type": "stream",
     "text": [
      "Train loss 0.09587468257892676 accuracy 0.8566970091027308\n",
      "Validation loss 0.2874782164523631 accuracy 0.7321045445679735\n",
      "Model and tokenizer saved at epoch 20\n",
      "Checkpoint saved: Improved validation accuracy at epoch 20: 0.7321045445679735\n",
      "Epoch 21/50\n",
      "----------\n"
     ]
    },
    {
     "name": "stderr",
     "output_type": "stream",
     "text": [
      "Training Progress: 100%|██████████| 241/241 [00:50<00:00,  4.79it/s, loss=0.0665]\n"
     ]
    },
    {
     "name": "stdout",
     "output_type": "stream",
     "text": [
      "Train loss 0.09145780252408685 accuracy 0.8626788036410923\n",
      "Validation loss 0.3053402924611245 accuracy 0.7292763799492881\n",
      "No improvement in validation accuracy for 1 epochs.\n",
      "Epoch 22/50\n",
      "----------\n"
     ]
    },
    {
     "name": "stderr",
     "output_type": "stream",
     "text": [
      "Training Progress: 100%|██████████| 241/241 [00:51<00:00,  4.68it/s, loss=0.0692]\n"
     ]
    },
    {
     "name": "stdout",
     "output_type": "stream",
     "text": [
      "Train loss 0.08928796250172176 accuracy 0.867555266579974\n",
      "Validation loss 0.32060021566755975 accuracy 0.7313243612248879\n",
      "No improvement in validation accuracy for 2 epochs.\n",
      "Epoch 23/50\n",
      "----------\n"
     ]
    },
    {
     "name": "stderr",
     "output_type": "stream",
     "text": [
      "Training Progress: 100%|██████████| 241/241 [00:50<00:00,  4.77it/s, loss=0.0702]\n"
     ]
    },
    {
     "name": "stdout",
     "output_type": "stream",
     "text": [
      "Train loss 0.08647807024388393 accuracy 0.8746749024707412\n",
      "Validation loss 0.3281246938823182 accuracy 0.7330797737468305\n",
      "Model and tokenizer saved at epoch 23\n",
      "Checkpoint saved: Improved validation accuracy at epoch 23: 0.7330797737468305\n",
      "Epoch 24/50\n",
      "----------\n"
     ]
    },
    {
     "name": "stderr",
     "output_type": "stream",
     "text": [
      "Training Progress: 100%|██████████| 241/241 [00:52<00:00,  4.63it/s, loss=0.0427]\n"
     ]
    },
    {
     "name": "stdout",
     "output_type": "stream",
     "text": [
      "Train loss 0.0852496088231253 accuracy 0.8744473342002601\n",
      "Validation loss 0.31671942660102137 accuracy 0.7346401404330017\n",
      "Model and tokenizer saved at epoch 24\n",
      "Checkpoint saved: Improved validation accuracy at epoch 24: 0.7346401404330017\n",
      "Epoch 25/50\n",
      "----------\n"
     ]
    },
    {
     "name": "stderr",
     "output_type": "stream",
     "text": [
      "Training Progress: 100%|██████████| 241/241 [00:50<00:00,  4.74it/s, loss=0.0762]\n"
     ]
    },
    {
     "name": "stdout",
     "output_type": "stream",
     "text": [
      "Train loss 0.08113652195673265 accuracy 0.8828673602080624\n",
      "Validation loss 0.3249603780331435 accuracy 0.7357128925297445\n",
      "Model and tokenizer saved at epoch 25\n",
      "Checkpoint saved: Improved validation accuracy at epoch 25: 0.7357128925297445\n",
      "Epoch 26/50\n",
      "----------\n"
     ]
    },
    {
     "name": "stderr",
     "output_type": "stream",
     "text": [
      "Training Progress: 100%|██████████| 241/241 [00:51<00:00,  4.70it/s, loss=0.0522]\n"
     ]
    },
    {
     "name": "stdout",
     "output_type": "stream",
     "text": [
      "Train loss 0.07798898680699812 accuracy 0.8876137841352406\n",
      "Validation loss 0.32851922346485984 accuracy 0.7409791300955725\n",
      "Model and tokenizer saved at epoch 26\n",
      "Checkpoint saved: Improved validation accuracy at epoch 26: 0.7409791300955725\n",
      "Epoch 27/50\n",
      "----------\n"
     ]
    },
    {
     "name": "stderr",
     "output_type": "stream",
     "text": [
      "Training Progress: 100%|██████████| 241/241 [00:51<00:00,  4.69it/s, loss=0.0466]\n"
     ]
    },
    {
     "name": "stdout",
     "output_type": "stream",
     "text": [
      "Train loss 0.07643474556536595 accuracy 0.8900845253576073\n",
      "Validation loss 0.3347734334292235 accuracy 0.7288862882777453\n",
      "No improvement in validation accuracy for 1 epochs.\n",
      "Epoch 28/50\n",
      "----------\n"
     ]
    },
    {
     "name": "stderr",
     "output_type": "stream",
     "text": [
      "Training Progress: 100%|██████████| 241/241 [00:51<00:00,  4.67it/s, loss=0.0332]\n"
     ]
    },
    {
     "name": "stdout",
     "output_type": "stream",
     "text": [
      "Train loss 0.07447184642382677 accuracy 0.8943107932379714\n",
      "Validation loss 0.3426567983848077 accuracy 0.7332748195826019\n",
      "No improvement in validation accuracy for 2 epochs.\n",
      "Epoch 29/50\n",
      "----------\n"
     ]
    },
    {
     "name": "stderr",
     "output_type": "stream",
     "text": [
      "Training Progress: 100%|██████████| 241/241 [00:50<00:00,  4.74it/s, loss=0.025] \n"
     ]
    },
    {
     "name": "stdout",
     "output_type": "stream",
     "text": [
      "Train loss 0.07062402422466466 accuracy 0.9007152145643693\n",
      "Validation loss 0.3427088854857433 accuracy 0.7382484883947728\n",
      "No improvement in validation accuracy for 3 epochs.\n",
      "Epoch 30/50\n",
      "----------\n"
     ]
    },
    {
     "name": "stderr",
     "output_type": "stream",
     "text": [
      "Training Progress: 100%|██████████| 241/241 [00:50<00:00,  4.77it/s, loss=0.0488]\n"
     ]
    },
    {
     "name": "stdout",
     "output_type": "stream",
     "text": [
      "Train loss 0.0682784161719791 accuracy 0.9062418725617686\n",
      "Validation loss 0.3520549005932278 accuracy 0.7379559196411156\n",
      "No improvement in validation accuracy for 4 epochs.\n",
      "Epoch 31/50\n",
      "----------\n"
     ]
    },
    {
     "name": "stderr",
     "output_type": "stream",
     "text": [
      "Training Progress: 100%|██████████| 241/241 [00:51<00:00,  4.66it/s, loss=0.0309]\n"
     ]
    },
    {
     "name": "stdout",
     "output_type": "stream",
     "text": [
      "Train loss 0.0664316658548918 accuracy 0.9082249674902471\n",
      "Validation loss 0.3527378837267558 accuracy 0.7368831675443729\n",
      "No improvement in validation accuracy for 5 epochs.\n",
      "Stopping early due to lack of improvement in validation accuracy.\n"
     ]
    }
   ],
   "source": [
    "train_data_loader = hlp.create_data_loader(train_texts, train_labels, tokenizer, MAX_LEN, BATCH_SIZE)\n",
    "val_data_loader = hlp.create_data_loader(val_texts, val_labels, tokenizer, MAX_LEN, BATCH_SIZE)\n",
    "\n",
    "history = hlp.train_model_multi(train_data_loader, val_data_loader, model, optimizer, device, EPOCHS, tokenizer, path)"
   ]
  },
  {
   "cell_type": "code",
   "execution_count": 9,
   "metadata": {},
   "outputs": [
    {
     "data": {
      "image/png": "[encoded data removed]",
      "text/plain": [
       "<Figure size 1200x600 with 2 Axes>"
      ]
     },
     "metadata": {},
     "output_type": "display_data"
    }
   ],
   "source": [
    "hlp.plot_history(history)"
   ]
  },
  {
   "cell_type": "code",
   "execution_count": 10,
   "metadata": {},
   "outputs": [
    {
     "name": "stdout",
     "output_type": "stream",
     "text": [
      "Test Accuracy: 0.74 Test Loss: 0.35781354227183776\n"
     ]
    }
   ],
   "source": [
    "test_data_loader = hlp.create_data_loader(test_texts, test_labels, tokenizer, MAX_LEN, BATCH_SIZE)\n",
    "\n",
    "test_acc, test_loss, test_label_actual, test_label_pred = hlp.eval_model_multi(model, test_data_loader, device)\n",
    "\n",
    "print(f'Test Accuracy: {test_acc:.2f} Test Loss: {test_loss}')"
   ]
  },
  {
   "cell_type": "code",
   "execution_count": 11,
   "metadata": {},
   "outputs": [
    {
     "name": "stdout",
     "output_type": "stream",
     "text": [
      "Accuracy: 0.74\n",
      "F1 Score: 0.73\n",
      "Precision: 0.73\n",
      "Recall: 0.74\n",
      "\n",
      "Classification Report:\n",
      "                    precision    recall  f1-score   support\n",
      "\n",
      "        Disability       0.45      0.07      0.12       454\n",
      "     Gender/Sexual       0.70      0.77      0.73      3160\n",
      "Origin/Nationality       0.23      0.48      0.31        62\n",
      "    Race/Ethnicity       0.76      0.75      0.75      3461\n",
      "          Religion       0.79      0.80      0.79      3117\n",
      "\n",
      "          accuracy                           0.74     10254\n",
      "         macro avg       0.58      0.57      0.54     10254\n",
      "      weighted avg       0.73      0.74      0.73     10254\n",
      "\n"
     ]
    },
    {
     "data": {
      "image/png": "[encoded data removed]",
      "text/plain": [
       "<Figure size 1200x1000 with 2 Axes>"
      ]
     },
     "metadata": {},
     "output_type": "display_data"
    }
   ],
   "source": [
    "hlp.plot_confusion_matrix(np.argmax(test_label_actual, axis=1), np.argmax(test_label_pred, axis=1), class_names)"
   ]
  },
  {
   "cell_type": "code",
   "execution_count": 12,
   "metadata": {},
   "outputs": [
    {
     "name": "stdout",
     "output_type": "stream",
     "text": [
      "The predicted class is: Origin/Nationality with confidence: 1.00\n"
     ]
    }
   ],
   "source": [
    "test_texts = [\"This is the sort of thing that happens in a shithole country. @URL\"]\n",
    "preds, confidence = hlp.predict(test_texts, model, tokenizer, MAX_LEN, device)\n",
    "\n",
    "index = list(confidence[0]).index(np.array(confidence[0]).max())\n",
    "\n",
    "print(f\"The predicted class is: {class_names[index]} with confidence: {confidence[0][index]:.2f}\")"
   ]
  }
 ],
 "metadata": {
  "kernelspec": {
   "display_name": "Python 3",
   "language": "python",
   "name": "python3"
  },
  "language_info": {
   "codemirror_mode": {
    "name": "ipython",
    "version": 3
   },
   "file_extension": ".py",
   "mimetype": "text/x-python",
   "name": "python",
   "nbconvert_exporter": "python",
   "pygments_lexer": "ipython3",
   "version": "3.9.13"
  }
 },
 "nbformat": 4,
 "nbformat_minor": 2
}
